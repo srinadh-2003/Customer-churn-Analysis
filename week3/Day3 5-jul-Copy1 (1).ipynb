{
 "cells": [
  {
   "cell_type": "markdown",
   "id": "95ea156a",
   "metadata": {},
   "source": [
    "#### multi level inheritance:\n",
    "* more than one parent and more than one child.\n"
   ]
  },
  {
   "cell_type": "code",
   "execution_count": 2,
   "id": "16c99dae",
   "metadata": {},
   "outputs": [
    {
     "name": "stdout",
     "output_type": "stream",
     "text": [
      "I am from grand parent class\n",
      "I am from parent class\n",
      "I am from child class\n"
     ]
    }
   ],
   "source": [
    "class grandparent:\n",
    "    def gdisplay(self):\n",
    "        print('I am from grand parent class')\n",
    "class parent(grandparent):\n",
    "    def pdisplay(self):\n",
    "        print('I am from parent class')\n",
    "class child(parent):\n",
    "    def cdisplay(self):\n",
    "        print('I am from child class')\n",
    "ch=child()\n",
    "ch.gdisplay()\n",
    "ch.pdisplay()\n",
    "ch.cdisplay()"
   ]
  },
  {
   "cell_type": "markdown",
   "id": "eee30833",
   "metadata": {},
   "source": [
    "#### hierarchial inheritance:\n",
    "* one parent and more than one child"
   ]
  },
  {
   "cell_type": "code",
   "execution_count": 6,
   "id": "bfc0fae8",
   "metadata": {},
   "outputs": [
    {
     "name": "stdout",
     "output_type": "stream",
     "text": [
      "I am from parent class\n",
      "I am from child2 class\n",
      "I am from parent class\n",
      "I am from child1 class\n"
     ]
    }
   ],
   "source": [
    "class parent():\n",
    "    def pdisplay(self):\n",
    "        print('I am from parent class')\n",
    "class child1(parent):\n",
    "    def c1display(self):\n",
    "        print('I am from child1 class')\n",
    "class child2(parent):\n",
    "    def c2display(self):\n",
    "        print('I am from child2 class')\n",
    "c2=child2()\n",
    "c2.pdisplay()\n",
    "c2.c2display()\n",
    "c1=child1()\n",
    "c1.pdisplay()\n",
    "c1.c1display()"
   ]
  },
  {
   "cell_type": "markdown",
   "id": "dc5af50f",
   "metadata": {},
   "source": [
    "#### multiple inheritance:\n",
    "* more than one parent and one child class\n"
   ]
  },
  {
   "cell_type": "code",
   "execution_count": 10,
   "id": "59cb015b",
   "metadata": {},
   "outputs": [
    {
     "name": "stdout",
     "output_type": "stream",
     "text": [
      "I am from father class\n",
      "I am from mother class\n",
      "I am from child class\n"
     ]
    }
   ],
   "source": [
    "class father():\n",
    "    def fdisplay(self):\n",
    "        print('I am from father class')\n",
    "class mother():\n",
    "    def mdisplay(self):\n",
    "        print('I am from mother class')\n",
    "class child(father,mother):\n",
    "    def cdisplay(self):\n",
    "        print('I am from child class')\n",
    "ch=child()\n",
    "ch.fdisplay()\n",
    "ch.mdisplay()\n",
    "ch.cdisplay()"
   ]
  },
  {
   "cell_type": "markdown",
   "id": "2e854c9f",
   "metadata": {},
   "source": [
    "#### hybrid inheritance\n",
    "*  it is a combination of multi level and hierarichal"
   ]
  },
  {
   "cell_type": "code",
   "execution_count": 14,
   "id": "2ae3590e",
   "metadata": {},
   "outputs": [
    {
     "name": "stdout",
     "output_type": "stream",
     "text": [
      "I am from school class\n",
      "I am from student1 class\n",
      "I am from student2 class\n"
     ]
    }
   ],
   "source": [
    "class school():\n",
    "    def sdisplay(self):\n",
    "        print('I am from school class')\n",
    "class st1(school):\n",
    "    def st1display(self):\n",
    "        print('I am from student1 class')\n",
    "class st2(school):\n",
    "    def st2display(self):\n",
    "        print('I am from student2 class')\n",
    "class faculty(st1,st2):\n",
    "    def c2display(self):\n",
    "        print('I am from faculty class')\n",
    "f=faculty()\n",
    "f.sdisplay()\n",
    "f.st1display()\n",
    "f.st2display()"
   ]
  },
  {
   "cell_type": "markdown",
   "id": "2512935c",
   "metadata": {},
   "source": [
    "#### polymorphism\n",
    "* It is implementing  "
   ]
  },
  {
   "cell_type": "code",
   "execution_count": 16,
   "id": "cfcfa721",
   "metadata": {},
   "outputs": [
    {
     "name": "stdout",
     "output_type": "stream",
     "text": [
      "abcxyz\n",
      "30\n"
     ]
    }
   ],
   "source": [
    "# '+'\n",
    "# to join the two strings\n",
    "# to add two num\n",
    "s1='abc'\n",
    "s2='xyz'\n",
    "print(s1+s2)\n",
    "print(10+20)"
   ]
  },
  {
   "cell_type": "code",
   "execution_count": 19,
   "id": "8a75273b",
   "metadata": {},
   "outputs": [
    {
     "name": "stdout",
     "output_type": "stream",
     "text": [
      "6\n",
      "3\n"
     ]
    }
   ],
   "source": [
    "# ex2\n",
    "print(len('python'))\n",
    "print(len([10,20,30]))"
   ]
  },
  {
   "cell_type": "code",
   "execution_count": 23,
   "id": "c2903a77",
   "metadata": {},
   "outputs": [
    {
     "name": "stdout",
     "output_type": "stream",
     "text": [
      "100 200\n",
      "10 10\n"
     ]
    }
   ],
   "source": [
    "# example on method overloading\n",
    "class polymorphism:\n",
    "    def display(self,a=10,b=10):\n",
    "        print(a,b)\n",
    "obj=polymorphism()\n",
    "obj.display(100,200)\n",
    "obj.display()"
   ]
  },
  {
   "cell_type": "code",
   "execution_count": 29,
   "id": "4c4eecb8",
   "metadata": {},
   "outputs": [
    {
     "name": "stdout",
     "output_type": "stream",
     "text": [
      "bike driving\n"
     ]
    }
   ],
   "source": [
    "# method overriding\n",
    "class father:\n",
    "    def driving(self):\n",
    "        print('cycle driving')\n",
    "class son(father):\n",
    "    def driving(self):\n",
    "        print('bike driving')\n",
    "f=son()\n",
    "f.driving()"
   ]
  },
  {
   "cell_type": "markdown",
   "id": "1fa78779",
   "metadata": {},
   "source": [
    "#### Encapsulation\n",
    "* wrapping of data\n",
    "* combining the variables and methods in a single unit\n",
    "* two access specifiers\n",
    "- public  ->default\n",
    "- private ->using double underscore"
   ]
  },
  {
   "cell_type": "code",
   "execution_count": 30,
   "id": "a0cd9c4b",
   "metadata": {},
   "outputs": [
    {
     "name": "stdout",
     "output_type": "stream",
     "text": [
      "10\n",
      "I am from eancapsulation class\n"
     ]
    }
   ],
   "source": [
    "class encap:\n",
    "    a=10\n",
    "    def display(self):\n",
    "        print('I am from eancapsulation class')\n",
    "obj1=encap()\n",
    "print(obj1.a)\n",
    "obj1.display()"
   ]
  },
  {
   "cell_type": "code",
   "execution_count": 32,
   "id": "0f04538c",
   "metadata": {},
   "outputs": [
    {
     "name": "stdout",
     "output_type": "stream",
     "text": [
      "10\n",
      "hello\n"
     ]
    }
   ],
   "source": [
    "class sample:\n",
    "    __a=10\n",
    "    def __display(self):\n",
    "        print('hello')\n",
    "    def show(self):\n",
    "        print(self.__a)\n",
    "        self.__display()\n",
    "obj2=sample()\n",
    "obj2.show()"
   ]
  },
  {
   "cell_type": "markdown",
   "id": "c3060ad1",
   "metadata": {},
   "source": [
    "## DATA  ANALYSIS\n",
    "* data:\n",
    "  -data is a raw facts and statistics collected together for references or analysis.\n",
    "* data analysis:\n",
    " - it is a process of obtaining raw data and subsequently converting it into information\n",
    " - it is atechnique to collect,transform and organize data to make future perfection.\n",
    " - \n",
    "* types of data:\n",
    " * structered data:row/colummns-> Tabular format-> excel,.csv..etc\n",
    " * unstructered data: pictures,videos,files,voices..etc\n",
    " * semi sturctured data: xml,json,html(keyname;value)\n",
    " ####  data types in statistics:\n",
    " - numerical data: data in the form of numbers\n",
    " - categorical data: data in the form of words\n",
    " #### libraries \n",
    " - 1.numpy\n",
    " - 2.pandas\n",
    " - 3.matplotlib\n",
    " - 4.seborn\n",
    " - 5.scikit learn"
   ]
  }
 ],
 "metadata": {
  "kernelspec": {
   "display_name": "Python 3 (ipykernel)",
   "language": "python",
   "name": "python3"
  },
  "language_info": {
   "codemirror_mode": {
    "name": "ipython",
    "version": 3
   },
   "file_extension": ".py",
   "mimetype": "text/x-python",
   "name": "python",
   "nbconvert_exporter": "python",
   "pygments_lexer": "ipython3",
   "version": "3.9.12"
  }
 },
 "nbformat": 4,
 "nbformat_minor": 5
}
