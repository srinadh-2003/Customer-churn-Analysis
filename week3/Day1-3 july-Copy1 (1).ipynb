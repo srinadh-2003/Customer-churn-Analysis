{
 "cells": [
  {
   "cell_type": "code",
   "execution_count": 1,
   "id": "cd78fef9",
   "metadata": {},
   "outputs": [
    {
     "name": "stdout",
     "output_type": "stream",
     "text": [
      "2 3\n"
     ]
    }
   ],
   "source": [
    "def display():\n",
    "    a=2\n",
    "    b=3\n",
    "    return a,b\n",
    "A,B=display()\n",
    "print(A,B)"
   ]
  },
  {
   "cell_type": "markdown",
   "id": "78611edb",
   "metadata": {},
   "source": [
    "#### Files\n",
    "* By using files we can store data permenantly\n",
    "* how to create text file\n",
    "  - 1.By using open() function we can create the text file.\n",
    "  - 2.open function takes two arguments\n",
    "  * syntax:file_variablename=open('file_name',modes)\n",
    " - 3.we have 3 basic modes:\n",
    " - a.read mode: ->'r' ->read or view the data in the file.\n",
    " - b.write mode: ->'w' ->we can edit ,remove,store the data into the text file\n",
    " - c.\n",
    "* 4.close a file\n",
    "- syntax: file_varaiblename.close()\n",
    " "
   ]
  },
  {
   "cell_type": "code",
   "execution_count": 2,
   "id": "0e24a52f",
   "metadata": {},
   "outputs": [
    {
     "name": "stdout",
     "output_type": "stream",
     "text": [
      "file created successfully\n"
     ]
    }
   ],
   "source": [
    "# to create empty file\n",
    "# we can use only write  and append \n",
    "f1=open('data.txt','w')\n",
    "print(\"file created successfully\")\n",
    "f1.close()"
   ]
  },
  {
   "cell_type": "markdown",
   "id": "5baa7c3a",
   "metadata": {},
   "source": [
    "#### file methods\n",
    "* read()\n",
    "* write()\n",
    "* readline()\n",
    "* readlines()\n",
    "* tell()\n",
    "* seek()\n",
    "* split()"
   ]
  },
  {
   "cell_type": "code",
   "execution_count": 3,
   "id": "56b24a67",
   "metadata": {},
   "outputs": [
    {
     "name": "stdout",
     "output_type": "stream",
     "text": [
      "success..\n"
     ]
    }
   ],
   "source": [
    "# to store the data into a file\n",
    "f1= open('data.txt','w')\n",
    "f1.write(\"hello welcome to data analysis internship..\")\n",
    "f1.close()\n",
    "print(\"success..\")"
   ]
  },
  {
   "cell_type": "code",
   "execution_count": 4,
   "id": "59d1b917",
   "metadata": {},
   "outputs": [
    {
     "name": "stdout",
     "output_type": "stream",
     "text": [
      "success\n"
     ]
    }
   ],
   "source": [
    "# to store the number of lines of data\n",
    "f1=open('data.txt','w')\n",
    "f1.write('name: aakklo'+'\\n'+'rlno:572'+'\\n')\n",
    "f1.close()\n",
    "print('success')"
   ]
  },
  {
   "cell_type": "code",
   "execution_count": 5,
   "id": "aacdadb7",
   "metadata": {},
   "outputs": [
    {
     "name": "stdout",
     "output_type": "stream",
     "text": [
      "success\n"
     ]
    }
   ],
   "source": [
    "# using append(it will not delete the previous data)\n",
    "f2=open('data.txt','a')\n",
    "f2.write('course: python')\n",
    "f2.close()\n",
    "print('success')"
   ]
  },
  {
   "cell_type": "code",
   "execution_count": 6,
   "id": "3b8ae387",
   "metadata": {},
   "outputs": [
    {
     "name": "stdout",
     "output_type": "stream",
     "text": [
      "name: aakklo\n",
      "rlno:572\n",
      "course: python\n"
     ]
    }
   ],
   "source": [
    "# to read the data from a file\n",
    "f1=open('data.txt','r')\n",
    "data=f1.read()\n",
    "print(data)"
   ]
  },
  {
   "cell_type": "code",
   "execution_count": 13,
   "id": "56a0543d",
   "metadata": {},
   "outputs": [
    {
     "name": "stdout",
     "output_type": "stream",
     "text": [
      "name:\n",
      " aakk\n"
     ]
    }
   ],
   "source": [
    "# to read n number of char\n",
    "f1=open('data.txt','r')\n",
    "print(f1.read(5))\n",
    "print(f1.read(5))\n",
    "f1.close()"
   ]
  },
  {
   "cell_type": "code",
   "execution_count": 14,
   "id": "822eb502",
   "metadata": {},
   "outputs": [
    {
     "name": "stdout",
     "output_type": "stream",
     "text": [
      "name: aakklo\n",
      "rlno:572\n",
      "course: python\n"
     ]
    }
   ],
   "source": [
    "# using with keyword we can work with a file\n",
    "with open('data.txt','r') as f1:\n",
    "    print(f1.read())"
   ]
  },
  {
   "cell_type": "code",
   "execution_count": 15,
   "id": "6e50eb8a",
   "metadata": {},
   "outputs": [
    {
     "name": "stdout",
     "output_type": "stream",
     "text": [
      "name: aakklo\n",
      "\n"
     ]
    }
   ],
   "source": [
    "# readline():\n",
    "with open('data.txt','r') as f1:\n",
    "    print(f1.readline())# it read only firstline"
   ]
  },
  {
   "cell_type": "code",
   "execution_count": 16,
   "id": "1ba2c519",
   "metadata": {},
   "outputs": [
    {
     "name": "stdout",
     "output_type": "stream",
     "text": [
      "['name: aakklo\\n', 'rlno:572\\n', 'course: python']\n"
     ]
    }
   ],
   "source": [
    "# readlines():\n",
    "with open('data.txt','r') as f1:\n",
    "    print(f1.readlines())"
   ]
  },
  {
   "cell_type": "code",
   "execution_count": 18,
   "id": "6aadc4cb",
   "metadata": {},
   "outputs": [
    {
     "name": "stdout",
     "output_type": "stream",
     "text": [
      "36\n"
     ]
    }
   ],
   "source": [
    "# to read no of char from a file\n",
    "with open('data.txt','r') as f1:\n",
    "    print(len(f1.read()))"
   ]
  },
  {
   "cell_type": "code",
   "execution_count": null,
   "id": "594e2c9a",
   "metadata": {},
   "outputs": [],
   "source": [
    "# how to find no of the spaces\n"
   ]
  },
  {
   "cell_type": "code",
   "execution_count": 21,
   "id": "bd3aba0d",
   "metadata": {},
   "outputs": [
    {
     "name": "stdout",
     "output_type": "stream",
     "text": [
      "5\n",
      "5\n"
     ]
    }
   ],
   "source": [
    "with open('data.txt','r') as f1:\n",
    "    print(f1.seek(5))\n",
    "    \n",
    "    print(f1.tell())"
   ]
  },
  {
   "cell_type": "code",
   "execution_count": 22,
   "id": "cd956c3a",
   "metadata": {},
   "outputs": [
    {
     "name": "stdout",
     "output_type": "stream",
     "text": [
      "['name:', 'aakklo', 'rlno:572', 'course:', 'python']\n"
     ]
    }
   ],
   "source": [
    "# split()\n",
    "with open('data.txt','r') as f1:\n",
    "    print(f1.read().split())"
   ]
  },
  {
   "cell_type": "code",
   "execution_count": 23,
   "id": "ce25826b",
   "metadata": {},
   "outputs": [
    {
     "name": "stdout",
     "output_type": "stream",
     "text": [
      "5\n"
     ]
    }
   ],
   "source": [
    "# to count the nof word from a file\n",
    "with open('data.txt','r') as f1:\n",
    "    print(len(f1.read().split()))"
   ]
  },
  {
   "cell_type": "code",
   "execution_count": 24,
   "id": "512ef04d",
   "metadata": {},
   "outputs": [
    {
     "name": "stdout",
     "output_type": "stream",
     "text": [
      "success\n"
     ]
    }
   ],
   "source": [
    "# to copy the data from one file to another\n",
    "with open('data.txt','r') as f1,open('cpy.txt','w') as f2:\n",
    "    for i in f1.read():\n",
    "        f2.write(i)\n",
    "    print('success')"
   ]
  },
  {
   "cell_type": "code",
   "execution_count": 25,
   "id": "0a4e875a",
   "metadata": {},
   "outputs": [
    {
     "name": "stdout",
     "output_type": "stream",
     "text": [
      "success\n"
     ]
    }
   ],
   "source": [
    "# another method\n",
    "import shutil\n",
    "shutil.copy('data.txt','sample.txt')\n",
    "print('success')"
   ]
  },
  {
   "cell_type": "code",
   "execution_count": 26,
   "id": "b0a188fb",
   "metadata": {},
   "outputs": [
    {
     "name": "stdout",
     "output_type": "stream",
     "text": [
      "enter name:kamal\n",
      "enter rlno:35\n",
      "enter mobile no:4676484513\n",
      "enter aadhar no:4\n",
      "enter email id:897864487\n",
      "enter name:ract\n",
      "enter rlno:58\n",
      "enter mobile no:5489216548\n",
      "enter aadhar no:54548741215\n",
      "enter email id:fdhj@323\n",
      "enter name:gsjk\n",
      "enter rlno:55\n",
      "enter mobile no:3246545\n",
      "enter aadhar no:54632545\n",
      "enter email id:4\n"
     ]
    }
   ],
   "source": [
    "# to store n students records into a textfile\n",
    "#1.name.\n",
    "#2.rlno.\n",
    "#3.mobileno.\n",
    "#4.aadharno.\n",
    "#5.emailid.\n",
    "with open('student.txt','a') as f1:\n",
    "    for i in range(1,4):\n",
    "        name=input(\"enter name:\")\n",
    "        rn=input(\"enter rlno:\")\n",
    "        mb=input(\"enter mobile no:\")\n",
    "        an=input(\"enter aadhar no:\")\n",
    "        em=input(\"enter email id:\")\n",
    "        f1.write(name+'\\n'+rn+'\\n'+mb+'\\n'+an+'\\n'+em+'\\n')"
   ]
  },
  {
   "cell_type": "code",
   "execution_count": 27,
   "id": "5a20f870",
   "metadata": {},
   "outputs": [
    {
     "name": "stdout",
     "output_type": "stream",
     "text": [
      "True\n"
     ]
    }
   ],
   "source": [
    "# to check file exist or not\n",
    "import os\n",
    "print(os.path.exists('data.txt'))"
   ]
  },
  {
   "cell_type": "code",
   "execution_count": 28,
   "id": "47163797",
   "metadata": {},
   "outputs": [
    {
     "name": "stdout",
     "output_type": "stream",
     "text": [
      "enter filename:student.txt\n",
      "file exist\n"
     ]
    }
   ],
   "source": [
    "fname=input(\"enter filename:\")\n",
    "if os.path.exists(fname):\n",
    "    print('file exist')\n",
    "else:\n",
    "    print('file does not exist')"
   ]
  },
  {
   "cell_type": "code",
   "execution_count": 3,
   "id": "830f5157",
   "metadata": {},
   "outputs": [
    {
     "name": "stdout",
     "output_type": "stream",
     "text": [
      "enter filename:demo.txt\n",
      "file does not exist\n"
     ]
    }
   ],
   "source": [
    "# to remove a file\n",
    "import os\n",
    "fname=input(\"enter filename:\")\n",
    "if os.path.exists(fname):\n",
    "    print('yes')\n",
    "    os.remove(fname)\n",
    "    print('file deleted successfully..')\n",
    "else:\n",
    "    print('file does not exist')"
   ]
  },
  {
   "cell_type": "code",
   "execution_count": 4,
   "id": "acc528a2",
   "metadata": {},
   "outputs": [
    {
     "name": "stdout",
     "output_type": "stream",
     "text": [
      "3\n"
     ]
    }
   ],
   "source": [
    "import math\n",
    "print(math.floor(3.4))"
   ]
  },
  {
   "cell_type": "code",
   "execution_count": 10,
   "id": "8f2b3e23",
   "metadata": {},
   "outputs": [
    {
     "ename": "SyntaxError",
     "evalue": "invalid syntax (944382440.py, line 1)",
     "output_type": "error",
     "traceback": [
      "\u001b[1;36m  Input \u001b[1;32mIn [10]\u001b[1;36m\u001b[0m\n\u001b[1;33m    try=12\u001b[0m\n\u001b[1;37m       ^\u001b[0m\n\u001b[1;31mSyntaxError\u001b[0m\u001b[1;31m:\u001b[0m invalid syntax\n"
     ]
    }
   ],
   "source": [
    "try=12\n",
    "print(val)"
   ]
  },
  {
   "cell_type": "code",
   "execution_count": null,
   "id": "78ce9a73",
   "metadata": {},
   "outputs": [],
   "source": []
  }
 ],
 "metadata": {
  "kernelspec": {
   "display_name": "Python 3 (ipykernel)",
   "language": "python",
   "name": "python3"
  },
  "language_info": {
   "codemirror_mode": {
    "name": "ipython",
    "version": 3
   },
   "file_extension": ".py",
   "mimetype": "text/x-python",
   "name": "python",
   "nbconvert_exporter": "python",
   "pygments_lexer": "ipython3",
   "version": "3.9.12"
  }
 },
 "nbformat": 4,
 "nbformat_minor": 5
}
