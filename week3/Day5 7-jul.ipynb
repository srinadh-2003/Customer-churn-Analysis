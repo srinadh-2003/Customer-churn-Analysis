{
 "cells": [
  {
   "cell_type": "code",
   "execution_count": 3,
   "id": "ba2bd88f",
   "metadata": {},
   "outputs": [
    {
     "data": {
      "text/plain": [
       "array([[ 0,  1,  2,  3,  4,  5,  6,  7,  8,  9, 10, 11, 12, 13, 14, 15]])"
      ]
     },
     "execution_count": 3,
     "metadata": {},
     "output_type": "execute_result"
    }
   ],
   "source": [
    "import numpy as np\n",
    "np.arange(16).reshape(1,-1)"
   ]
  },
  {
   "cell_type": "markdown",
   "id": "92bd294b",
   "metadata": {},
   "source": [
    "#### stacking\n",
    "* vstack: to add columns\n",
    "* hstack: to add rows"
   ]
  },
  {
   "cell_type": "code",
   "execution_count": 6,
   "id": "017148ec",
   "metadata": {},
   "outputs": [
    {
     "name": "stdout",
     "output_type": "stream",
     "text": [
      "[[3]\n",
      " [1]]\n",
      "[[5]\n",
      " [2]]\n",
      "vstack\n",
      "[[3]\n",
      " [1]\n",
      " [5]\n",
      " [2]]\n",
      "[[3]\n",
      " [1]]\n"
     ]
    }
   ],
   "source": [
    "a1=np.random.randint(1,10,(2,1))\n",
    "print(a1)\n",
    "b1=np.random.randint(1,10,(2,1))\n",
    "print(b1)\n",
    "print('vstack')\n",
    "print(np.vstack((a1,b1)))\n",
    "print(a1)"
   ]
  },
  {
   "cell_type": "code",
   "execution_count": 12,
   "id": "a71c5b9a",
   "metadata": {},
   "outputs": [
    {
     "name": "stdout",
     "output_type": "stream",
     "text": [
      "[[4 9]\n",
      " [3 2]]\n",
      "[[6 1]\n",
      " [3 5]]\n",
      "hstack\n",
      "[[4 9 6 1]\n",
      " [3 2 3 5]]\n"
     ]
    }
   ],
   "source": [
    "# hstack\n",
    "a2=np.random.randint(1,10,(2,2))\n",
    "print(a2)\n",
    "b2=np.random.randint(1,10,(2,2))\n",
    "print(b2)\n",
    "print('hstack')\n",
    "print(np.hstack((a2,b2)))"
   ]
  },
  {
   "cell_type": "markdown",
   "id": "7afd95ef",
   "metadata": {},
   "source": [
    "#### ravel and flatten methods\n",
    "* to convert n-d numpy array to one d"
   ]
  },
  {
   "cell_type": "code",
   "execution_count": 25,
   "id": "9454a245",
   "metadata": {},
   "outputs": [
    {
     "name": "stdout",
     "output_type": "stream",
     "text": [
      "[[1 2]\n",
      " [3 4]]\n",
      "dimensions is: 2\n",
      "[1 2 3 4]\n",
      "[[1 2]\n",
      " [3 4]]\n"
     ]
    }
   ],
   "source": [
    "# ex on ravel()\n",
    "a=np.array([[1,2],[3,4]])\n",
    "print(a)\n",
    "print('dimensions is:',a.ndim)\n",
    "b=a.ravel()\n",
    "print(b)\n",
    "print(a)"
   ]
  },
  {
   "cell_type": "code",
   "execution_count": 21,
   "id": "f6924fd6",
   "metadata": {},
   "outputs": [
    {
     "name": "stdout",
     "output_type": "stream",
     "text": [
      "[[3 1 9 3]\n",
      " [3 8 2 4]\n",
      " [2 5 9 6]]\n",
      "dimensions is: 2\n",
      "[3 1 9 3 3 8 2 4 2 5 9 6]\n",
      "[[3 1 9 3]\n",
      " [3 8 2 4]\n",
      " [2 5 9 6]]\n"
     ]
    }
   ],
   "source": [
    "a=np.random.randint(1,10,(3,4))\n",
    "print(a)\n",
    "print('dimensions is:',a.ndim)\n",
    "b=a.flatten()\n",
    "print(b)\n",
    "print(a)"
   ]
  },
  {
   "cell_type": "markdown",
   "id": "cc3f660a",
   "metadata": {},
   "source": [
    "### pandas\n",
    "* two types of panda data structure\n",
    "* series data structure\n",
    "* dataframe data structure\n"
   ]
  },
  {
   "cell_type": "markdown",
   "id": "6bd565c7",
   "metadata": {},
   "source": [
    "* how to install and import pandas\n",
    " - idle prefer with pip? pip install pandas\n",
    " - import libray: import pandas as pd"
   ]
  },
  {
   "cell_type": "markdown",
   "id": "9e32d21b",
   "metadata": {},
   "source": [
    "#### series data structure\n",
    "* creating series objects using list,tuple,dict and also numpy array.\n",
    "* create pandas series from array like object using pd.series()\n",
    "  - syntax: pd.series(list,tuple,dict,numpy_array,indexnames)\n",
    "  - the no of elements in the index list is always equal to the no of elements in the specified series.\n",
    "  "
   ]
  },
  {
   "cell_type": "code",
   "execution_count": 27,
   "id": "f343bd49",
   "metadata": {},
   "outputs": [],
   "source": [
    "import pandas as pd"
   ]
  },
  {
   "cell_type": "code",
   "execution_count": 32,
   "id": "b078f7aa",
   "metadata": {},
   "outputs": [
    {
     "name": "stdout",
     "output_type": "stream",
     "text": [
      "0    10\n",
      "1    20\n",
      "2    33\n",
      "dtype: int64\n",
      "<class 'pandas.core.series.Series'>\n"
     ]
    }
   ],
   "source": [
    "# creation of series data structure using list\n",
    "l1=[10,20,33]\n",
    "sd1=pd.Series(l1)\n",
    "print(sd1)\n",
    "print(type(sd1))"
   ]
  },
  {
   "cell_type": "code",
   "execution_count": 35,
   "id": "de456acf",
   "metadata": {},
   "outputs": [
    {
     "data": {
      "text/plain": [
       "A    10\n",
       "B    20\n",
       "C    33\n",
       "dtype: int64"
      ]
     },
     "execution_count": 35,
     "metadata": {},
     "output_type": "execute_result"
    }
   ],
   "source": [
    "# to change index names\n",
    "sd1.index=['A','B','C']\n",
    "sd1"
   ]
  },
  {
   "cell_type": "code",
   "execution_count": 40,
   "id": "30b50bc7",
   "metadata": {},
   "outputs": [
    {
     "name": "stdout",
     "output_type": "stream",
     "text": [
      "A      10\n",
      "B    ldjf\n",
      "C    12.3\n",
      "D     565\n",
      "E     kal\n",
      "dtype: object\n"
     ]
    }
   ],
   "source": [
    "sd2=pd.Series([10,'ldjf',12.3,565,'kal'],index=['A','B','C','D','E'])\n",
    "print(sd2)"
   ]
  },
  {
   "cell_type": "code",
   "execution_count": 41,
   "id": "6274dba1",
   "metadata": {},
   "outputs": [
    {
     "name": "stdout",
     "output_type": "stream",
     "text": [
      "0    10\n",
      "1     2\n",
      "2     3\n",
      "dtype: int32\n"
     ]
    }
   ],
   "source": [
    "np1=np.array([10,2,3])\n",
    "s2=pd.Series(np1)\n",
    "print(s2)"
   ]
  },
  {
   "cell_type": "code",
   "execution_count": 42,
   "id": "f3819064",
   "metadata": {},
   "outputs": [
    {
     "name": "stdout",
     "output_type": "stream",
     "text": [
      "name      jass\n",
      "rlno        25\n",
      "course     CSE\n",
      "dtype: object\n"
     ]
    }
   ],
   "source": [
    "# creation of series using dict\n",
    "d1={'name':'jass','rlno':25,'course':'CSE'}\n",
    "s3=pd.Series(d1)\n",
    "print(s3)"
   ]
  },
  {
   "cell_type": "code",
   "execution_count": 44,
   "id": "1d16c10c",
   "metadata": {},
   "outputs": [
    {
     "name": "stdout",
     "output_type": "stream",
     "text": [
      "0    10\n",
      "1     2\n",
      "2     3\n",
      "dtype: int64\n"
     ]
    }
   ],
   "source": [
    "# creation of series using tuple\n",
    "s4=pd.Series((10,2,3))\n",
    "print(s4)"
   ]
  },
  {
   "cell_type": "markdown",
   "id": "92319381",
   "metadata": {},
   "source": [
    "#### series indexing\n",
    "* to get the data \n",
    "* to access the values from a series using indexes"
   ]
  },
  {
   "cell_type": "code",
   "execution_count": 46,
   "id": "97987a2a",
   "metadata": {},
   "outputs": [
    {
     "name": "stdout",
     "output_type": "stream",
     "text": [
      "0      10\n",
      "1      20\n",
      "2      30\n",
      "3    prht\n",
      "4    12.5\n",
      "dtype: object\n"
     ]
    }
   ],
   "source": [
    "s2=pd.Series([10,20,30,'prht',12.5])\n",
    "print(s2)"
   ]
  },
  {
   "cell_type": "code",
   "execution_count": 47,
   "id": "6339c2a0",
   "metadata": {},
   "outputs": [
    {
     "data": {
      "text/plain": [
       "'prht'"
      ]
     },
     "execution_count": 47,
     "metadata": {},
     "output_type": "execute_result"
    }
   ],
   "source": [
    "# to access the value from a series\n",
    "s2[3]"
   ]
  },
  {
   "cell_type": "code",
   "execution_count": 49,
   "id": "8957effa",
   "metadata": {},
   "outputs": [
    {
     "data": {
      "text/plain": [
       "0      10\n",
       "2      30\n",
       "4    12.5\n",
       "dtype: object"
      ]
     },
     "execution_count": 49,
     "metadata": {},
     "output_type": "execute_result"
    }
   ],
   "source": [
    "s2[::2]# to get alternative rows"
   ]
  },
  {
   "cell_type": "code",
   "execution_count": 50,
   "id": "9f2e20b3",
   "metadata": {},
   "outputs": [
    {
     "data": {
      "text/plain": [
       "0    10\n",
       "1    20\n",
       "2    30\n",
       "dtype: object"
      ]
     },
     "execution_count": 50,
     "metadata": {},
     "output_type": "execute_result"
    }
   ],
   "source": [
    "s2[:3]"
   ]
  },
  {
   "cell_type": "code",
   "execution_count": 51,
   "id": "0d2f0f41",
   "metadata": {},
   "outputs": [
    {
     "name": "stdout",
     "output_type": "stream",
     "text": [
      "4    12.5\n",
      "3    prht\n",
      "2      30\n",
      "1      20\n",
      "0      10\n",
      "dtype: object\n"
     ]
    }
   ],
   "source": [
    "print(s2[::-1])"
   ]
  },
  {
   "cell_type": "code",
   "execution_count": null,
   "id": "953d246a",
   "metadata": {},
   "outputs": [],
   "source": []
  }
 ],
 "metadata": {
  "kernelspec": {
   "display_name": "Python 3 (ipykernel)",
   "language": "python",
   "name": "python3"
  },
  "language_info": {
   "codemirror_mode": {
    "name": "ipython",
    "version": 3
   },
   "file_extension": ".py",
   "mimetype": "text/x-python",
   "name": "python",
   "nbconvert_exporter": "python",
   "pygments_lexer": "ipython3",
   "version": "3.9.12"
  }
 },
 "nbformat": 4,
 "nbformat_minor": 5
}
