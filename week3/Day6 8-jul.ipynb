{
 "cells": [
  {
   "cell_type": "code",
   "execution_count": 1,
   "id": "683626d6",
   "metadata": {},
   "outputs": [],
   "source": [
    "import pandas as pd"
   ]
  },
  {
   "cell_type": "code",
   "execution_count": 3,
   "id": "aaf63eb4",
   "metadata": {},
   "outputs": [
    {
     "name": "stdout",
     "output_type": "stream",
     "text": [
      "0     10\n",
      "1    kal\n",
      "2    2.3\n",
      "3     20\n",
      "4     15\n",
      "dtype: object\n"
     ]
    }
   ],
   "source": [
    "s1=pd.Series([10,'kal',2.3,20,15])\n",
    "print(s1)"
   ]
  },
  {
   "cell_type": "code",
   "execution_count": 5,
   "id": "b6c220fe",
   "metadata": {},
   "outputs": [
    {
     "data": {
      "text/plain": [
       "0     10\n",
       "1    kal\n",
       "2     20\n",
       "3     20\n",
       "4     15\n",
       "dtype: object"
      ]
     },
     "execution_count": 5,
     "metadata": {},
     "output_type": "execute_result"
    }
   ],
   "source": [
    "s1[2]=20\n",
    "s1"
   ]
  },
  {
   "cell_type": "markdown",
   "id": "b1cdc3f2",
   "metadata": {},
   "source": [
    "* replace()\n",
    " - using replace method we can update the series value\n",
    "* syntax:\n",
    "  - sd.replace(to_replace=old_value,value=new_value)"
   ]
  },
  {
   "cell_type": "code",
   "execution_count": 6,
   "id": "2181b6c5",
   "metadata": {},
   "outputs": [
    {
     "data": {
      "text/plain": [
       "0      10\n",
       "1    prem\n",
       "2      20\n",
       "3      20\n",
       "4      15\n",
       "dtype: object"
      ]
     },
     "execution_count": 6,
     "metadata": {},
     "output_type": "execute_result"
    }
   ],
   "source": [
    "s1=s1.replace(to_replace='kal',value='prem')\n",
    "s1"
   ]
  },
  {
   "cell_type": "code",
   "execution_count": 10,
   "id": "c3ee7417",
   "metadata": {},
   "outputs": [
    {
     "data": {
      "text/plain": [
       "0     100\n",
       "1    prem\n",
       "2      20\n",
       "3      20\n",
       "4      15\n",
       "dtype: object"
      ]
     },
     "execution_count": 10,
     "metadata": {},
     "output_type": "execute_result"
    }
   ],
   "source": [
    "s1=s1.replace(10,100)\n",
    "s1"
   ]
  },
  {
   "cell_type": "code",
   "execution_count": 11,
   "id": "4779c568",
   "metadata": {},
   "outputs": [
    {
     "data": {
      "text/plain": [
       "0       100\n",
       "1      prem\n",
       "2    python\n",
       "3    python\n",
       "4        15\n",
       "dtype: object"
      ]
     },
     "execution_count": 11,
     "metadata": {},
     "output_type": "execute_result"
    }
   ],
   "source": [
    "s1=s1.replace(20,'python')\n",
    "s1"
   ]
  },
  {
   "cell_type": "code",
   "execution_count": 13,
   "id": "ea01cd3c",
   "metadata": {},
   "outputs": [
    {
     "data": {
      "text/plain": [
       "0      10\n",
       "1    prem\n",
       "2    java\n",
       "3    java\n",
       "4      50\n",
       "dtype: object"
      ]
     },
     "execution_count": 13,
     "metadata": {},
     "output_type": "execute_result"
    }
   ],
   "source": [
    "# to update the multiple value\n",
    "s1=s1.replace(to_replace=[100,'python',15],value=[10,'java',50])\n",
    "s1"
   ]
  },
  {
   "cell_type": "code",
   "execution_count": 19,
   "id": "225d1d89",
   "metadata": {},
   "outputs": [
    {
     "data": {
      "text/plain": [
       "3    java\n",
       "dtype: object"
      ]
     },
     "execution_count": 19,
     "metadata": {},
     "output_type": "execute_result"
    }
   ],
   "source": [
    "# to delete the series data\n",
    "s1.drop(labels=1,inplace=True)\n",
    "s1"
   ]
  },
  {
   "cell_type": "code",
   "execution_count": 18,
   "id": "6e112b50",
   "metadata": {},
   "outputs": [
    {
     "data": {
      "text/plain": [
       "1    prem\n",
       "3    java\n",
       "dtype: object"
      ]
     },
     "execution_count": 18,
     "metadata": {},
     "output_type": "execute_result"
    }
   ],
   "source": [
    "s1.drop(labels=[0,4],inplace=True)\n",
    "s1"
   ]
  },
  {
   "cell_type": "markdown",
   "id": "53a48591",
   "metadata": {},
   "source": [
    "* task1:\n",
    "  - create series having index values starts from 10 to 20 and values are squares of index values"
   ]
  },
  {
   "cell_type": "code",
   "execution_count": 49,
   "id": "630c16e3",
   "metadata": {},
   "outputs": [
    {
     "name": "stdout",
     "output_type": "stream",
     "text": [
      "10    100\n",
      "11    121\n",
      "12    144\n",
      "13    169\n",
      "14    196\n",
      "15    225\n",
      "16    256\n",
      "17    289\n",
      "18    324\n",
      "19    361\n",
      "20    400\n",
      "dtype: int64\n"
     ]
    }
   ],
   "source": [
    "index_values=range(10,21)\n",
    "values=[i**2 for i in index_values]\n",
    "S=pd.Series(values,index_values)\n",
    "print(S)"
   ]
  },
  {
   "cell_type": "code",
   "execution_count": 50,
   "id": "d5c41d1e",
   "metadata": {},
   "outputs": [
    {
     "name": "stdout",
     "output_type": "stream",
     "text": [
      "10    100\n",
      "11    121\n",
      "12    144\n",
      "13    169\n",
      "14    196\n",
      "15    225\n",
      "16    256\n",
      "17    289\n",
      "18    324\n",
      "19    361\n",
      "20    400\n",
      "dtype: int64\n"
     ]
    }
   ],
   "source": [
    "S[[12,13,17]]\n",
    "print(S)"
   ]
  },
  {
   "cell_type": "code",
   "execution_count": 53,
   "id": "474de81c",
   "metadata": {},
   "outputs": [
    {
     "name": "stderr",
     "output_type": "stream",
     "text": [
      "C:\\Users\\srinadh\\AppData\\Local\\Temp\\ipykernel_7744\\3587877660.py:1: FutureWarning: The series.append method is deprecated and will be removed from pandas in a future version. Use pandas.concat instead.\n",
      "  s1=s1.append(pd.Series([10,20]))\n"
     ]
    },
    {
     "data": {
      "text/plain": [
       "3    java\n",
       "2      10\n",
       "3      20\n",
       "0      10\n",
       "1      20\n",
       "dtype: object"
      ]
     },
     "execution_count": 53,
     "metadata": {},
     "output_type": "execute_result"
    }
   ],
   "source": [
    "s1=s1.append(pd.Series([10,20]))\n",
    "s1"
   ]
  },
  {
   "cell_type": "code",
   "execution_count": 54,
   "id": "e115b265",
   "metadata": {},
   "outputs": [
    {
     "name": "stdout",
     "output_type": "stream",
     "text": [
      "3    java\n",
      "2      10\n",
      "3      20\n",
      "0      10\n",
      "1      20\n",
      "0     kal\n",
      "1    penj\n",
      "dtype: object\n"
     ]
    },
    {
     "name": "stderr",
     "output_type": "stream",
     "text": [
      "C:\\Users\\srinadh\\AppData\\Local\\Temp\\ipykernel_7744\\3745081976.py:2: FutureWarning: The series.append method is deprecated and will be removed from pandas in a future version. Use pandas.concat instead.\n",
      "  s1=s1.append(s2)\n"
     ]
    }
   ],
   "source": [
    "s2=pd.Series(['kal','penj'])\n",
    "s1=s1.append(s2)\n",
    "print(s1)"
   ]
  },
  {
   "cell_type": "code",
   "execution_count": null,
   "id": "415d28d2",
   "metadata": {},
   "outputs": [],
   "source": []
  }
 ],
 "metadata": {
  "kernelspec": {
   "display_name": "Python 3 (ipykernel)",
   "language": "python",
   "name": "python3"
  },
  "language_info": {
   "codemirror_mode": {
    "name": "ipython",
    "version": 3
   },
   "file_extension": ".py",
   "mimetype": "text/x-python",
   "name": "python",
   "nbconvert_exporter": "python",
   "pygments_lexer": "ipython3",
   "version": "3.9.12"
  }
 },
 "nbformat": 4,
 "nbformat_minor": 5
}
