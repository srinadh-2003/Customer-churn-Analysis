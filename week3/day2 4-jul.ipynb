{
 "cells": [
  {
   "cell_type": "markdown",
   "id": "2e04b4c1",
   "metadata": {},
   "source": [
    "#### modules and packages\n",
    "* module\n",
    " - it is acollection of functions,variables and classes.\n",
    " - module is ntg but .py file\n",
    " - syntax:\n",
    "      import module name\n",
    "      - to access the data\n",
    "       modulename.function_name\n",
    "       modulename.variable_name\n",
    "       modulename.class_name"
   ]
  },
  {
   "cell_type": "code",
   "execution_count": 2,
   "id": "796d4f60",
   "metadata": {},
   "outputs": [
    {
     "name": "stdout",
     "output_type": "stream",
     "text": [
      "Good morning to everyone\n"
     ]
    }
   ],
   "source": [
    "import demo\n",
    "# to access the functions,variables,classes\n",
    "demo.greeting()"
   ]
  },
  {
   "cell_type": "code",
   "execution_count": 3,
   "id": "9b43caa7",
   "metadata": {},
   "outputs": [
    {
     "data": {
      "text/plain": [
       "100"
      ]
     },
     "execution_count": 3,
     "metadata": {},
     "output_type": "execute_result"
    }
   ],
   "source": [
    "demo.n"
   ]
  },
  {
   "cell_type": "code",
   "execution_count": 9,
   "id": "7ed59e6a",
   "metadata": {},
   "outputs": [
    {
     "name": "stdout",
     "output_type": "stream",
     "text": [
      "it is aclass\n"
     ]
    }
   ],
   "source": [
    "demo.Hello.display()"
   ]
  },
  {
   "cell_type": "code",
   "execution_count": 10,
   "id": "b064a17d",
   "metadata": {},
   "outputs": [
    {
     "name": "stdout",
     "output_type": "stream",
     "text": [
      "Good morning to everyone\n"
     ]
    }
   ],
   "source": [
    "# using alias names\n",
    "import demo as d\n",
    "d.greeting()"
   ]
  },
  {
   "cell_type": "code",
   "execution_count": 11,
   "id": "8ab21e67",
   "metadata": {},
   "outputs": [
    {
     "name": "stdout",
     "output_type": "stream",
     "text": [
      "Good morning to everyone\n"
     ]
    },
    {
     "data": {
      "text/plain": [
       "100"
      ]
     },
     "execution_count": 11,
     "metadata": {},
     "output_type": "execute_result"
    }
   ],
   "source": [
    "# using from keyword\n",
    "from demo import greeting,addition,n,Hello\n",
    "greeting()\n",
    "n"
   ]
  },
  {
   "cell_type": "code",
   "execution_count": 18,
   "id": "a0bcd699",
   "metadata": {},
   "outputs": [
    {
     "data": {
      "text/plain": [
       "6"
      ]
     },
     "execution_count": 18,
     "metadata": {},
     "output_type": "execute_result"
    }
   ],
   "source": [
    "from demo import *\n",
    "addition(1,5)"
   ]
  },
  {
   "cell_type": "code",
   "execution_count": 19,
   "id": "ff8870f9",
   "metadata": {},
   "outputs": [
    {
     "name": "stdout",
     "output_type": "stream",
     "text": [
      "Help on module demo:\n",
      "\n",
      "NAME\n",
      "    demo\n",
      "\n",
      "CLASSES\n",
      "    builtins.object\n",
      "        Hello\n",
      "    \n",
      "    class Hello(builtins.object)\n",
      "     |  Methods defined here:\n",
      "     |  \n",
      "     |  display()\n",
      "     |  \n",
      "     |  ----------------------------------------------------------------------\n",
      "     |  Data descriptors defined here:\n",
      "     |  \n",
      "     |  __dict__\n",
      "     |      dictionary for instance variables (if defined)\n",
      "     |  \n",
      "     |  __weakref__\n",
      "     |      list of weak references to the object (if defined)\n",
      "\n",
      "FUNCTIONS\n",
      "    addition(a, b)\n",
      "    \n",
      "    greeting()\n",
      "\n",
      "DATA\n",
      "    n = 100\n",
      "\n",
      "FILE\n",
      "    c:\\users\\srinadh\\documents\\srm summer internship-data analysis\\week3\\demo.py\n",
      "\n",
      "\n"
     ]
    }
   ],
   "source": [
    "help(demo)"
   ]
  },
  {
   "cell_type": "markdown",
   "id": "f18e1ce0",
   "metadata": {},
   "source": [
    "#### Packages\n",
    "* it is ntg but a folder or dictionary\n",
    "* it is a collection of modules\n",
    "- syntax:\n",
    "        import packagename.modulename\n",
    "        - how to access the data\n",
    "        packagename.modulename.classname"
   ]
  },
  {
   "cell_type": "code",
   "execution_count": 2,
   "id": "932ea65a",
   "metadata": {},
   "outputs": [
    {
     "name": "stdout",
     "output_type": "stream",
     "text": [
      "100\n"
     ]
    },
    {
     "ename": "NameError",
     "evalue": "name 'y' is not defined",
     "output_type": "error",
     "traceback": [
      "\u001b[1;31m---------------------------------------------------------------------------\u001b[0m",
      "\u001b[1;31mNameError\u001b[0m                                 Traceback (most recent call last)",
      "Input \u001b[1;32mIn [2]\u001b[0m, in \u001b[0;36m<cell line: 2>\u001b[1;34m()\u001b[0m\n\u001b[0;32m      1\u001b[0m value\u001b[38;5;241m=\u001b[39m\u001b[38;5;28mint\u001b[39m(\u001b[38;5;28minput\u001b[39m())\n\u001b[1;32m----> 2\u001b[0m l\u001b[38;5;241m=\u001b[39m[x \u001b[38;5;28;01mfor\u001b[39;00m x \u001b[38;5;129;01min\u001b[39;00m \u001b[38;5;28mrange\u001b[39m(\u001b[38;5;241m1\u001b[39m,value\u001b[38;5;241m+\u001b[39m\u001b[38;5;241m1\u001b[39m) \u001b[38;5;28;01mif\u001b[39;00m (x\u001b[38;5;241m%\u001b[39my\u001b[38;5;241m!=\u001b[39m\u001b[38;5;241m0\u001b[39m \u001b[38;5;129;01mand\u001b[39;00m y \u001b[38;5;129;01min\u001b[39;00m \u001b[38;5;28mrange\u001b[39m(\u001b[38;5;241m1\u001b[39m,\u001b[38;5;241m10\u001b[39m))]\n",
      "Input \u001b[1;32mIn [2]\u001b[0m, in \u001b[0;36m<listcomp>\u001b[1;34m(.0)\u001b[0m\n\u001b[0;32m      1\u001b[0m value\u001b[38;5;241m=\u001b[39m\u001b[38;5;28mint\u001b[39m(\u001b[38;5;28minput\u001b[39m())\n\u001b[1;32m----> 2\u001b[0m l\u001b[38;5;241m=\u001b[39m[x \u001b[38;5;28;01mfor\u001b[39;00m x \u001b[38;5;129;01min\u001b[39;00m \u001b[38;5;28mrange\u001b[39m(\u001b[38;5;241m1\u001b[39m,value\u001b[38;5;241m+\u001b[39m\u001b[38;5;241m1\u001b[39m) \u001b[38;5;28;01mif\u001b[39;00m (x\u001b[38;5;241m%\u001b[39m\u001b[43my\u001b[49m\u001b[38;5;241m!=\u001b[39m\u001b[38;5;241m0\u001b[39m \u001b[38;5;129;01mand\u001b[39;00m y \u001b[38;5;129;01min\u001b[39;00m \u001b[38;5;28mrange\u001b[39m(\u001b[38;5;241m1\u001b[39m,\u001b[38;5;241m10\u001b[39m))]\n",
      "\u001b[1;31mNameError\u001b[0m: name 'y' is not defined"
     ]
    }
   ],
   "source": [
    "value=int(input())\n",
    "l=[x for x in range(1,value+1) if (x%y!=0 and y in range(1,10))]"
   ]
  },
  {
   "cell_type": "code",
   "execution_count": 20,
   "id": "728459c9",
   "metadata": {},
   "outputs": [
    {
     "data": {
      "text/plain": [
       "30"
      ]
     },
     "execution_count": 20,
     "metadata": {},
     "output_type": "execute_result"
    }
   ],
   "source": [
    "import package.menu\n",
    "package.menu.addition(10,20)"
   ]
  },
  {
   "cell_type": "code",
   "execution_count": 26,
   "id": "171018c1",
   "metadata": {},
   "outputs": [
    {
     "ename": "SyntaxError",
     "evalue": "invalid syntax (3800140836.py, line 1)",
     "output_type": "error",
     "traceback": [
      "\u001b[1;36m  Input \u001b[1;32mIn [26]\u001b[1;36m\u001b[0m\n\u001b[1;33m    from import package.menu import addition,reverse,c\u001b[0m\n\u001b[1;37m         ^\u001b[0m\n\u001b[1;31mSyntaxError\u001b[0m\u001b[1;31m:\u001b[0m invalid syntax\n"
     ]
    }
   ],
   "source": [
    "from import package.menu import addition,reverse,c\n",
    "addition(10,20)\n",
    "reverse(123)\n",
    "c"
   ]
  },
  {
   "cell_type": "markdown",
   "id": "520a3956",
   "metadata": {},
   "source": [
    "#### OOPS\n",
    "* python supports the object orinted programming\n",
    "* In oops we can write the class funtions and variables\n",
    "* to access the class data using object.\n",
    "- syntax:\n",
    "         class class_name:\n",
    "             body of class\n",
    "##### class:\n",
    " -  it is a collection of variables(attributes) and methods\n",
    "##### Method:\n",
    "-   if function is existed inside the class then it will be called as method\n",
    "##### Function:\n",
    "-   it is a group of statements"
   ]
  },
  {
   "cell_type": "code",
   "execution_count": 29,
   "id": "338c2979",
   "metadata": {},
   "outputs": [],
   "source": [
    "# class declarattion\n",
    "class Hello:\n",
    "    a=10\n",
    "    b=20\n",
    "    def display():\n",
    "        print('I am from Hello classname')"
   ]
  },
  {
   "cell_type": "markdown",
   "id": "8d4f0175",
   "metadata": {},
   "source": [
    "##### For accessing class elements\n",
    "- classname.methodname\n",
    "- classname.variablename"
   ]
  },
  {
   "cell_type": "code",
   "execution_count": 30,
   "id": "ae62e1c4",
   "metadata": {},
   "outputs": [
    {
     "name": "stdout",
     "output_type": "stream",
     "text": [
      "10\n",
      "20\n",
      "I am from Hello classname\n"
     ]
    }
   ],
   "source": [
    "print(Hello.a)\n",
    "print(Hello.b)\n",
    "Hello.display()"
   ]
  },
  {
   "cell_type": "markdown",
   "id": "d39dbaa7",
   "metadata": {},
   "source": [
    "#### Object:\n",
    "* it is a instance of a class\n",
    "* it is a blue print of a class\n",
    "* it is a real time entity\n",
    "- syntax:\n",
    "   object_name=class_name"
   ]
  },
  {
   "cell_type": "code",
   "execution_count": 33,
   "id": "c1112def",
   "metadata": {},
   "outputs": [
    {
     "data": {
      "text/plain": [
       "300"
      ]
     },
     "execution_count": 33,
     "metadata": {},
     "output_type": "execute_result"
    }
   ],
   "source": [
    "# to access the class elements using object\n",
    "class Arithmetic:\n",
    "    def addition(n1,n2):\n",
    "        return n1+n2\n",
    "    def multiplication(n1,n2):\n",
    "        return n1*n2\n",
    "    def division(n1,n2):\n",
    "        return n1/n2\n",
    "obj1=Arithmetic\n",
    "obj1.addition(100,200)"
   ]
  },
  {
   "cell_type": "markdown",
   "id": "c80f203e",
   "metadata": {},
   "source": [
    "#### constructor\n",
    "* It defines in the class and can we used to initialize the variables\n",
    "* It is also a method that is called when an object created.\n",
    "- syntax:\n",
    "       class class_name:\n",
    "           def __init__(self):\n",
    "               # self is a default                         parameter like this\n",
    "               # block of code\n",
    "* two types of constructor\n",
    "- Default constructor\n",
    "- parameterized constructor"
   ]
  },
  {
   "cell_type": "code",
   "execution_count": 35,
   "id": "c0c53b00",
   "metadata": {},
   "outputs": [
    {
     "name": "stdout",
     "output_type": "stream",
     "text": [
      "python\n"
     ]
    }
   ],
   "source": [
    "# default constructor\n",
    "class dc:\n",
    "    def __init__(self):\n",
    "        self.name=\"python\"\n",
    "    def display(self):\n",
    "        print(self.name)\n",
    "h=dc()\n",
    "h.display()"
   ]
  },
  {
   "cell_type": "code",
   "execution_count": 45,
   "id": "66ef99fa",
   "metadata": {},
   "outputs": [
    {
     "name": "stdout",
     "output_type": "stream",
     "text": [
      "10\n",
      "20\n"
     ]
    }
   ],
   "source": [
    "# parameterized constructor\n",
    "class sam:\n",
    "    def __init__(self,a,b):\n",
    "        self.n1=a\n",
    "        self.n2=b\n",
    "    def show(self):\n",
    "        print(self.n1)\n",
    "        print(self.n2)\n",
    "obj2=sam(10,20)\n",
    "obj2.show()"
   ]
  },
  {
   "cell_type": "markdown",
   "id": "d51ed960",
   "metadata": {},
   "source": [
    "#### Inheritance\n",
    "* to acquire the properties of parent class to child class\n",
    "* two types of class\n",
    "* 1.base class\n",
    "* 2.derived class\n",
    "* types of inheritance\n",
    " - single level\n",
    " - multi level\n",
    " - multiple\n",
    " - hirarichal\n",
    " - hybrid"
   ]
  },
  {
   "cell_type": "code",
   "execution_count": 50,
   "id": "4a256428",
   "metadata": {
    "scrolled": true
   },
   "outputs": [
    {
     "name": "stdout",
     "output_type": "stream",
     "text": [
      "I am from parent class\n",
      "I am from child class\n"
     ]
    }
   ],
   "source": [
    "# single level inheritance\n",
    "# only one parent and one child\n",
    "class parent:\n",
    "    def pdisplay():\n",
    "        print('I am from parent class')\n",
    "class child(parent):\n",
    "    def cdisplay():\n",
    "        print('I am from child class')\n",
    "ch=child\n",
    "ch.pdisplay()\n",
    "ch.cdisplay()"
   ]
  },
  {
   "cell_type": "code",
   "execution_count": null,
   "id": "506f7838",
   "metadata": {},
   "outputs": [],
   "source": []
  }
 ],
 "metadata": {
  "kernelspec": {
   "display_name": "Python 3 (ipykernel)",
   "language": "python",
   "name": "python3"
  },
  "language_info": {
   "codemirror_mode": {
    "name": "ipython",
    "version": 3
   },
   "file_extension": ".py",
   "mimetype": "text/x-python",
   "name": "python",
   "nbconvert_exporter": "python",
   "pygments_lexer": "ipython3",
   "version": "3.9.12"
  }
 },
 "nbformat": 4,
 "nbformat_minor": 5
}
