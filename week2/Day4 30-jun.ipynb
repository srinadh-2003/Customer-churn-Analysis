{
 "cells": [
  {
   "cell_type": "markdown",
   "id": "10c7c4d0",
   "metadata": {},
   "source": [
    "#### comprehension:\n",
    "* by using comprehension in python to create a new sequences such as list,dictionary,set.\n",
    "* we can reduce the lines of code.\n",
    "##### Three types of comprehension:\n",
    "* 1.list comprehension\n",
    "* 2.Dictionary comprehension\n",
    "* 3.set comprehension"
   ]
  },
  {
   "cell_type": "markdown",
   "id": "da298218",
   "metadata": {},
   "source": [
    "* list comprehension:-to create the new list from another iterables.\n",
    "  - syntax variable_name=[out_putvariablename forloop if(condition)]"
   ]
  },
  {
   "cell_type": "code",
   "execution_count": 1,
   "id": "a9f59b31",
   "metadata": {},
   "outputs": [
    {
     "name": "stdout",
     "output_type": "stream",
     "text": [
      "1 2 3 4 5 6 7 8 9 10 "
     ]
    }
   ],
   "source": [
    "# to print the 1 to 10 natural numbers with out using lc?\n",
    "for i in range(1,11):\n",
    "    print(i,end=\" \")"
   ]
  },
  {
   "cell_type": "code",
   "execution_count": 2,
   "id": "036175db",
   "metadata": {},
   "outputs": [
    {
     "name": "stdout",
     "output_type": "stream",
     "text": [
      "[1, 2, 3, 4, 5, 6, 7, 8, 9, 10]\n"
     ]
    }
   ],
   "source": [
    "# to print 1 to 10 natural numbers using lc?\n",
    "n=[i for i in range(1,11)]\n",
    "print(n)"
   ]
  },
  {
   "cell_type": "code",
   "execution_count": 3,
   "id": "19e0b59c",
   "metadata": {},
   "outputs": [
    {
     "name": "stdout",
     "output_type": "stream",
     "text": [
      "[2, 4, 6, 8, 10, 12, 14, 16, 18, 20, 22, 24, 26, 28, 30, 32, 34, 36, 38, 40, 42, 44, 46, 48, 50]\n"
     ]
    }
   ],
   "source": [
    "# to store the 1 to 50 even values into a list with out using lc?\n",
    "l1=[]\n",
    "for i in range(1,51):\n",
    "    if i%2==0:\n",
    "        l1.append(i)\n",
    "print(l1)"
   ]
  },
  {
   "cell_type": "code",
   "execution_count": 4,
   "id": "c9196870",
   "metadata": {},
   "outputs": [
    {
     "name": "stdout",
     "output_type": "stream",
     "text": [
      "[2, 4, 6, 8, 10, 12, 14, 16, 18, 20, 22, 24, 26, 28, 30, 32, 34, 36, 38, 40, 42, 44, 46, 48, 50]\n"
     ]
    }
   ],
   "source": [
    "print([i for i in range(2,51,2)])"
   ]
  },
  {
   "cell_type": "code",
   "execution_count": 1,
   "id": "2c40060c",
   "metadata": {},
   "outputs": [
    {
     "name": "stdout",
     "output_type": "stream",
     "text": [
      "['Apssdc', 'Python', 'Clanguage', 'Java']\n"
     ]
    }
   ],
   "source": [
    "l1=['apssdc','python','clanguage','java']\n",
    "# output:['Apssdc','Python','Clanguage','Java']\n",
    "# using list comprehension\n",
    "l2=[i.capitalize() for i in l1]\n",
    "print(l2)"
   ]
  },
  {
   "cell_type": "code",
   "execution_count": 2,
   "id": "c458a8ff",
   "metadata": {},
   "outputs": [
    {
     "name": "stdout",
     "output_type": "stream",
     "text": [
      "[10, 20, 30, 0, 40]\n"
     ]
    }
   ],
   "source": [
    "# to print unique elements list using lc?\n",
    "l1=[10,20,30,0,10,40,20]\n",
    "l2=[]\n",
    "l3=[l2.append(i) for i in l1 if i not in l2]\n",
    "print(l2)"
   ]
  },
  {
   "cell_type": "code",
   "execution_count": 3,
   "id": "96f9341e",
   "metadata": {},
   "outputs": [
    {
     "name": "stdout",
     "output_type": "stream",
     "text": [
      "[2, 3, 5, 7, 11, 13, 17, 19, 23, 29, 31, 37, 41, 43, 47, 53, 59, 61, 67, 71, 73, 79, 83, 89, 97]\n"
     ]
    }
   ],
   "source": [
    "# to print 1 to 100 prime numbers using lc?\n",
    "def isprime(n):\n",
    "    count=0\n",
    "    for i in range(1,n+1):\n",
    "        if n%i==0:\n",
    "            count+=1\n",
    "    if count==2:\n",
    "        return n\n",
    "l1=[i for i in range(1,101) if(isprime(i))]\n",
    "print(l1)"
   ]
  },
  {
   "cell_type": "code",
   "execution_count": 4,
   "id": "313fd6ea",
   "metadata": {},
   "outputs": [
    {
     "name": "stdout",
     "output_type": "stream",
     "text": [
      "100\n",
      "[2, 3, 5, 7, 11, 13, 17, 19, 23, 29, 31, 37, 41, 43, 47, 53, 59, 61, 67, 71, 73, 79, 83, 89, 97]\n"
     ]
    }
   ],
   "source": [
    "value=int(input())\n",
    "prime=[x for x in range(2,value+1) if all(x%y!=0 for y in range(2,x))]\n",
    "print(prime)"
   ]
  },
  {
   "cell_type": "markdown",
   "id": "3d1d4f99",
   "metadata": {},
   "source": [
    "#### Dictionary comprehension\n",
    "* to create the new dictionary with another iterables.\n",
    "* syntax: variable_name={print(keyname:value)forloop if condition}"
   ]
  },
  {
   "cell_type": "code",
   "execution_count": 5,
   "id": "a9aec397",
   "metadata": {},
   "outputs": [
    {
     "name": "stdout",
     "output_type": "stream",
     "text": [
      "{1: 1, 2: 4, 3: 9, 4: 16, 5: 25, 6: 36, 7: 49, 8: 64, 9: 81, 10: 100}\n"
     ]
    }
   ],
   "source": [
    "# to print the each element square in between 1 to 10\n",
    "d1={}\n",
    "for i in range(1,11):\n",
    "    d1[i]=i*i\n",
    "print(d1)"
   ]
  },
  {
   "cell_type": "code",
   "execution_count": 10,
   "id": "7225ac95",
   "metadata": {},
   "outputs": [
    {
     "data": {
      "text/plain": [
       "{1: 1, 2: 4, 3: 9, 4: 16, 5: 25, 6: 36, 7: 49, 8: 64, 9: 81, 10: 100}"
      ]
     },
     "execution_count": 10,
     "metadata": {},
     "output_type": "execute_result"
    }
   ],
   "source": [
    "d2={i:i*i for i in range(1,11)}\n",
    "d2"
   ]
  },
  {
   "cell_type": "code",
   "execution_count": 11,
   "id": "70da16ef",
   "metadata": {},
   "outputs": [
    {
     "name": "stdout",
     "output_type": "stream",
     "text": [
      "{'d': 1, 'a': 5, 't': 2, ' ': 4, 'n': 4, 'l': 1, 'y': 2, 's': 3, 'i': 3, 'u': 1, 'g': 3, 'p': 2, 'h': 1, 'o': 2, 'r': 2, 'm': 2}\n"
     ]
    }
   ],
   "source": [
    "s1='data analysis using python programming'\n",
    "# to print char frequency by using dict comprehension \n",
    "# output:d1={'d':1,'a':5....}\n",
    "d={i:s1.count(i) for i in s1}\n",
    "print(d)"
   ]
  },
  {
   "cell_type": "code",
   "execution_count": 12,
   "id": "5f8e33e8",
   "metadata": {},
   "outputs": [
    {
     "name": "stdout",
     "output_type": "stream",
     "text": [
      "dat nlysiugphorm\n",
      "{'d': 1, 'a': 1, 't': 1, ' ': 1, 'n': 1, 'l': 1, 'y': 1, 's': 1, 'i': 1, 'u': 1, 'g': 1, 'p': 1, 'h': 1, 'o': 1, 'r': 1, 'm': 1}\n"
     ]
    }
   ],
   "source": [
    "#to get the unique char\n",
    "s1='data analysis using python programming'\n",
    "s2=''\n",
    "for i in s1:\n",
    "    if i not in s2:\n",
    "        s2=s2+i\n",
    "print(s2)\n",
    "d2={i:s2.count(i) for i in s2}\n",
    "print(d2)"
   ]
  },
  {
   "cell_type": "markdown",
   "id": "c0ba7716",
   "metadata": {},
   "source": [
    "#### Set comprehension\n",
    "* to create the new set from another iterables\n",
    "* syntax : variable_name={output forloop if(condition)}"
   ]
  },
  {
   "cell_type": "code",
   "execution_count": 13,
   "id": "53ac65f1",
   "metadata": {},
   "outputs": [
    {
     "name": "stdout",
     "output_type": "stream",
     "text": [
      "python rgami\n"
     ]
    }
   ],
   "source": [
    "s1=\"python programming\"\n",
    "s2=''\n",
    "for i in s1:\n",
    "    if i not in s2:\n",
    "        s2=s2+i\n",
    "print(s2)"
   ]
  },
  {
   "cell_type": "code",
   "execution_count": 15,
   "id": "d80a47ea",
   "metadata": {},
   "outputs": [
    {
     "data": {
      "text/plain": [
       "{' ', 'a', 'g', 'h', 'i', 'm', 'n', 'o', 'p', 'r', 't', 'y'}"
      ]
     },
     "execution_count": 15,
     "metadata": {},
     "output_type": "execute_result"
    }
   ],
   "source": [
    "# using set comprehension\n",
    "set1={i for i in s1}\n",
    "set1"
   ]
  },
  {
   "cell_type": "code",
   "execution_count": 6,
   "id": "9e17fce1",
   "metadata": {},
   "outputs": [
    {
     "data": {
      "text/plain": [
       "{10, 45, 50, 65, 80}"
      ]
     },
     "execution_count": 6,
     "metadata": {},
     "output_type": "execute_result"
    }
   ],
   "source": [
    "# unigue elements\n",
    "l1=[10,50,80,65,45,50,80]\n",
    "set1={i for i in l1}\n",
    "set1"
   ]
  },
  {
   "cell_type": "code",
   "execution_count": 8,
   "id": "964a7869",
   "metadata": {},
   "outputs": [
    {
     "name": "stdout",
     "output_type": "stream",
     "text": [
      "3\n",
      "kamal\n",
      "20.\n",
      "bala\n",
      "30\n",
      "ram\n",
      "40\n",
      "bala\n"
     ]
    }
   ],
   "source": [
    "k=[]\n",
    "for l in range(int(input())):\n",
    "    name = input()\n",
    "    score = float(input())\n",
    "    l=[name,score]\n",
    "    k.append(l)\n",
    "s=[i[1] for i in k]\n",
    "na=[i[0] for i in k]\n",
    "sc=s\n",
    "sc=list(set(sc))\n",
    "sc=sorted(sc)\n",
    "smin=sc[1]\n",
    "list(set())\n",
    "m=[i for i in range(len(s)) if smin==s[i] ]\n",
    "n=[]\n",
    "for i in m:\n",
    "    n.append(na[i])\n",
    "print(*sorted(n),sep=\"\\n\")"
   ]
  },
  {
   "cell_type": "code",
   "execution_count": 3,
   "id": "36e79a83",
   "metadata": {},
   "outputs": [
    {
     "ename": "IndentationError",
     "evalue": "unindent does not match any outer indentation level (<tokenize>, line 7)",
     "output_type": "error",
     "traceback": [
      "\u001b[1;36m  File \u001b[1;32m<tokenize>:7\u001b[1;36m\u001b[0m\n\u001b[1;33m    s=[i[1] for i in k]\u001b[0m\n\u001b[1;37m    ^\u001b[0m\n\u001b[1;31mIndentationError\u001b[0m\u001b[1;31m:\u001b[0m unindent does not match any outer indentation level\n"
     ]
    }
   ],
   "source": [
    "k=[]\n",
    "for l in range(int(input())):\n",
    "        name = input()\n",
    "        score = float(input())\n",
    "        l=[name,score]\n",
    "        k.append(l)\n",
    "    s=[i[1] for i in k]\n",
    "    na=[i[0] for i in k]\n",
    "    sc=s\n",
    "    sc=list(set(sc))\n",
    "    sc=sorted(sc)\n",
    "    smin=sc[1]\n",
    "    list(set())\n",
    "    m=[i for i in range(len(s)) if smin==s[i] ]\n",
    "    n=[]\n",
    "    for i in m:\n",
    "        n.append(na[i])\n",
    "    print(*sorted(n),sep=\"\\n\")"
   ]
  },
  {
   "cell_type": "code",
   "execution_count": null,
   "id": "1e282ad6",
   "metadata": {},
   "outputs": [],
   "source": []
  }
 ],
 "metadata": {
  "kernelspec": {
   "display_name": "Python 3 (ipykernel)",
   "language": "python",
   "name": "python3"
  },
  "language_info": {
   "codemirror_mode": {
    "name": "ipython",
    "version": 3
   },
   "file_extension": ".py",
   "mimetype": "text/x-python",
   "name": "python",
   "nbconvert_exporter": "python",
   "pygments_lexer": "ipython3",
   "version": "3.9.12"
  }
 },
 "nbformat": 4,
 "nbformat_minor": 5
}
