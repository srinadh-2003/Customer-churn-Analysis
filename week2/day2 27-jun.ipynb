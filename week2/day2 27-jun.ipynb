{
 "cells": [
  {
   "cell_type": "markdown",
   "id": "ccb019ba",
   "metadata": {},
   "source": [
    "#### Dictionary\n",
    "* it is a collection of key value pairs\n",
    "* in dict key names are unique\n",
    "* by using curly brackets we can write the dict in python\n",
    "* to access the dict value by using only keynames\n",
    "* it is mutable"
   ]
  },
  {
   "cell_type": "code",
   "execution_count": 1,
   "id": "979b9381",
   "metadata": {},
   "outputs": [
    {
     "name": "stdout",
     "output_type": "stream",
     "text": [
      "{}\n",
      "<class 'dict'>\n"
     ]
    }
   ],
   "source": [
    "# to create empty dictionary\n",
    "d1=dict()\n",
    "print(d1)\n",
    "print(type(d1))"
   ]
  },
  {
   "cell_type": "code",
   "execution_count": 2,
   "id": "3947a164",
   "metadata": {},
   "outputs": [
    {
     "name": "stdout",
     "output_type": "stream",
     "text": [
      "{'name': 'krish', 'roll no': 120, 'branch': 'cse'}\n"
     ]
    }
   ],
   "source": [
    "# to create dict with items\n",
    "d2={ 'name':'krish','roll no':120,'branch':'cse'}\n",
    "print(d2)"
   ]
  },
  {
   "cell_type": "code",
   "execution_count": 4,
   "id": "465c6ecc",
   "metadata": {},
   "outputs": [
    {
     "name": "stdout",
     "output_type": "stream",
     "text": [
      "{1: 110, 2: 210, 3: 420}\n"
     ]
    }
   ],
   "source": [
    "# digit keynames\n",
    "d3={1:110,2:110,3:420,2:210}\n",
    "print(d3)"
   ]
  },
  {
   "cell_type": "code",
   "execution_count": 9,
   "id": "e5ca01a1",
   "metadata": {},
   "outputs": [
    {
     "name": "stdout",
     "output_type": "stream",
     "text": [
      "{1: 'python', 2: 30, 3: 'lak'}\n"
     ]
    }
   ],
   "source": [
    "# to create dict with different datatypes\n",
    "d1={1:'python',2:30,3:'lak'}\n",
    "print(d1)"
   ]
  },
  {
   "cell_type": "code",
   "execution_count": 5,
   "id": "9a697eea",
   "metadata": {},
   "outputs": [
    {
     "name": "stdout",
     "output_type": "stream",
     "text": [
      "{'name': 'krish', 'roll no': 120, 'branch': 'cse'}\n",
      "krish\n"
     ]
    }
   ],
   "source": [
    "#acess data through keynames\n",
    "print(d2)\n",
    "print(d2['name'])"
   ]
  },
  {
   "cell_type": "code",
   "execution_count": 7,
   "id": "747f5f1c",
   "metadata": {},
   "outputs": [
    {
     "name": "stdout",
     "output_type": "stream",
     "text": [
      "{'name': 'krish', 'roll no': 120, 'branch': 'cse'}\n",
      "{'name': 'krish', 'roll no': 222, 'branch': 'cse'}\n"
     ]
    }
   ],
   "source": [
    "# update the dict keyname\n",
    "print(d2)\n",
    "d2['roll no']=222\n",
    "print(d2)"
   ]
  },
  {
   "cell_type": "code",
   "execution_count": 8,
   "id": "07a809b2",
   "metadata": {},
   "outputs": [
    {
     "name": "stdout",
     "output_type": "stream",
     "text": [
      "['__class__', '__class_getitem__', '__contains__', '__delattr__', '__delitem__', '__dir__', '__doc__', '__eq__', '__format__', '__ge__', '__getattribute__', '__getitem__', '__gt__', '__hash__', '__init__', '__init_subclass__', '__ior__', '__iter__', '__le__', '__len__', '__lt__', '__ne__', '__new__', '__or__', '__reduce__', '__reduce_ex__', '__repr__', '__reversed__', '__ror__', '__setattr__', '__setitem__', '__sizeof__', '__str__', '__subclasshook__', 'clear', 'copy', 'fromkeys', 'get', 'items', 'keys', 'pop', 'popitem', 'setdefault', 'update', 'values']\n"
     ]
    }
   ],
   "source": [
    "# dict methods\n",
    "print(dir(dict))"
   ]
  },
  {
   "cell_type": "code",
   "execution_count": 10,
   "id": "a0a475e4",
   "metadata": {},
   "outputs": [
    {
     "name": "stdout",
     "output_type": "stream",
     "text": [
      "{'name': 'krish', 'roll no': 222, 'branch': 'cse'}\n",
      "dict_keys(['name', 'roll no', 'branch'])\n"
     ]
    }
   ],
   "source": [
    "# keys():\n",
    "# to get the keynames from a dictionary\n",
    "print(d2)\n",
    "print(d2.keys())"
   ]
  },
  {
   "cell_type": "code",
   "execution_count": 11,
   "id": "517ce162",
   "metadata": {},
   "outputs": [
    {
     "name": "stdout",
     "output_type": "stream",
     "text": [
      "{'name': 'krish', 'roll no': 222, 'branch': 'cse'}\n",
      "dict_values(['krish', 222, 'cse'])\n"
     ]
    }
   ],
   "source": [
    "# values():\n",
    "print(d2)\n",
    "print(d2.values())"
   ]
  },
  {
   "cell_type": "code",
   "execution_count": 13,
   "id": "26fe0704",
   "metadata": {},
   "outputs": [
    {
     "name": "stdout",
     "output_type": "stream",
     "text": [
      "{'name': 'krish', 'roll no': 222, 'branch': 'cse'}\n",
      "dict_items([('name', 'krish'), ('roll no', 222), ('branch', 'cse')])\n"
     ]
    }
   ],
   "source": [
    "# items():\n",
    "# to get data in the form of key value pair\n",
    "print(d2)\n",
    "print(d2.items())"
   ]
  },
  {
   "cell_type": "code",
   "execution_count": 14,
   "id": "2bb9ca68",
   "metadata": {},
   "outputs": [
    {
     "name": "stdout",
     "output_type": "stream",
     "text": [
      "{'name': 'krish', 'roll no': 222, 'branch': 'cse'}\n",
      "{'name': 'krish', 'roll no': 222, 'branch': 'cse'}\n"
     ]
    }
   ],
   "source": [
    "# copy():\n",
    "# to copy the data from one dict another dict\n",
    "print(d2)\n",
    "d5=d2.copy()\n",
    "print(d5)"
   ]
  },
  {
   "cell_type": "code",
   "execution_count": 16,
   "id": "32f98368",
   "metadata": {},
   "outputs": [
    {
     "name": "stdout",
     "output_type": "stream",
     "text": [
      "{'name': 'krish', 'roll no': 222, 'branch': 'cse'}\n",
      "krish\n"
     ]
    }
   ],
   "source": [
    "# get():\n",
    "# to get the value of specific keyname\n",
    "print(d2)\n",
    "print(d2.get('name'))"
   ]
  },
  {
   "cell_type": "code",
   "execution_count": 17,
   "id": "f1cba988",
   "metadata": {},
   "outputs": [
    {
     "name": "stdout",
     "output_type": "stream",
     "text": [
      "{'name': 'krish', 'roll no': 222, 'branch': 'cse'}\n",
      "{'name': 'krish', 'roll no': 222, 'branch': 'cse', 'marks': 65}\n"
     ]
    }
   ],
   "source": [
    "#setdefault():\n",
    "# to add new item to end of the dictionary\n",
    "print(d2)\n",
    "d2.setdefault('marks',65)\n",
    "print(d2)"
   ]
  },
  {
   "cell_type": "code",
   "execution_count": 20,
   "id": "ff087f39",
   "metadata": {},
   "outputs": [
    {
     "name": "stdout",
     "output_type": "stream",
     "text": [
      "{'name': 'krish', 'roll no': 222, 'branch': 'ece', 'marks': 65}\n",
      "{'name': 'krish', 'roll no': 222, 'branch': 'ece', 'marks': 65}\n",
      "{'name': 'krish', 'roll no': 222, 'branch': 'ece', 'marks': 65, 'course': 'python'}\n"
     ]
    }
   ],
   "source": [
    "# update():\n",
    "# to update any data\n",
    "print(d2)\n",
    "d2.update({'branch':'ece'})\n",
    "print(d2)\n",
    "d2.update({'course':'python'})\n",
    "print(d2)"
   ]
  },
  {
   "cell_type": "code",
   "execution_count": 21,
   "id": "560584c8",
   "metadata": {},
   "outputs": [
    {
     "name": "stdout",
     "output_type": "stream",
     "text": [
      "{'name': 'krish', 'roll no': 222, 'branch': 'ece', 'marks': 65, 'course': 'python'}\n",
      "{'name': 'krish', 'roll no': 222, 'branch': 'ece', 'marks': 65}\n"
     ]
    }
   ],
   "source": [
    "# pop():\n",
    "print(d2)\n",
    "d2.pop('course')\n",
    "print(d2)"
   ]
  },
  {
   "cell_type": "code",
   "execution_count": 22,
   "id": "8095e552",
   "metadata": {},
   "outputs": [
    {
     "name": "stdout",
     "output_type": "stream",
     "text": [
      "{'name': 'krish', 'roll no': 222, 'branch': 'ece', 'marks': 65}\n",
      "{'name': 'krish', 'roll no': 222, 'branch': 'ece'}\n"
     ]
    }
   ],
   "source": [
    "#popitem():\n",
    "# to delete last item from dict\n",
    "print(d2)\n",
    "d2.popitem()\n",
    "print(d2)"
   ]
  },
  {
   "cell_type": "code",
   "execution_count": 26,
   "id": "b3f0993e",
   "metadata": {},
   "outputs": [
    {
     "name": "stdout",
     "output_type": "stream",
     "text": [
      "{'sname': None, 'sroll': None, 'sbranch': None}\n",
      "{'sname': 'kala', 'sroll': None, 'sbranch': None}\n"
     ]
    }
   ],
   "source": [
    "# fromkeys():\n",
    "# to create new dictionary with keynames\n",
    "dict1=dict.fromkeys(['sname','sroll','sbranch'])\n",
    "print(dict1)\n",
    "dict1['sname']='kala'\n",
    "print(dict1)"
   ]
  },
  {
   "cell_type": "code",
   "execution_count": 27,
   "id": "1fc9c240",
   "metadata": {},
   "outputs": [
    {
     "name": "stdout",
     "output_type": "stream",
     "text": [
      "{'name': 'krish', 'roll no': 222, 'branch': 'ece'}\n",
      "{}\n"
     ]
    }
   ],
   "source": [
    "#clear():\n",
    "# to clear last item from dict\n",
    "print(d2)\n",
    "d2.clear()\n",
    "print(d2)"
   ]
  },
  {
   "cell_type": "code",
   "execution_count": 31,
   "id": "2cd9f0cb",
   "metadata": {},
   "outputs": [
    {
     "name": "stdout",
     "output_type": "stream",
     "text": [
      "{1: 24, 4: 80, 5: 44}\n"
     ]
    }
   ],
   "source": [
    "d2={1:24,2:55,3:19,4:80,5:44,6:17}\n",
    "# to print the even value  items\n",
    "# output:{1:24,4:80,5:44}\n",
    "d3={}\n",
    "for key,value in d2.items():\n",
    "    if value%2==0:\n",
    "        d3[key]=value\n",
    "print(d3)"
   ]
  },
  {
   "cell_type": "code",
   "execution_count": 39,
   "id": "48b36ce1",
   "metadata": {},
   "outputs": [
    {
     "name": "stdout",
     "output_type": "stream",
     "text": [
      "Counter({'python': 1, 'programming': 1, 'java': 1, 'sql': 1})\n"
     ]
    }
   ],
   "source": [
    "# to read one str and then print the char frequency\n",
    "# to read list of string element and then print the length of each string\n",
    "#input: l=['python','programming','java','sql']\n",
    "# output:d1={'python':6}\n",
    "import collections\n",
    "l=['python','programming','java','sql']\n",
    "frequencyDict = collections.Counter(l)\n",
    "print(frequencyDict )"
   ]
  },
  {
   "cell_type": "markdown",
   "id": "c1acc902",
   "metadata": {},
   "source": [
    "#### nested dictionary\n",
    " * dictio can contain dictio"
   ]
  },
  {
   "cell_type": "code",
   "execution_count": 41,
   "id": "0bc92f2f",
   "metadata": {},
   "outputs": [
    {
     "ename": "IndentationError",
     "evalue": "expected an indented block (3623097451.py, line 2)",
     "output_type": "error",
     "traceback": [
      "\u001b[1;36m  Input \u001b[1;32mIn [41]\u001b[1;36m\u001b[0m\n\u001b[1;33m    while i<=10:\u001b[0m\n\u001b[1;37m                ^\u001b[0m\n\u001b[1;31mIndentationError\u001b[0m\u001b[1;31m:\u001b[0m expected an indented block\n"
     ]
    }
   ],
   "source": [
    "i=1\n",
    "while i<=10:"
   ]
  },
  {
   "cell_type": "code",
   "execution_count": null,
   "id": "c5811062",
   "metadata": {},
   "outputs": [],
   "source": []
  }
 ],
 "metadata": {
  "kernelspec": {
   "display_name": "Python 3 (ipykernel)",
   "language": "python",
   "name": "python3"
  },
  "language_info": {
   "codemirror_mode": {
    "name": "ipython",
    "version": 3
   },
   "file_extension": ".py",
   "mimetype": "text/x-python",
   "name": "python",
   "nbconvert_exporter": "python",
   "pygments_lexer": "ipython3",
   "version": "3.9.12"
  }
 },
 "nbformat": 4,
 "nbformat_minor": 5
}
