{
 "cells": [
  {
   "cell_type": "code",
   "execution_count": 2,
   "id": "84898e06",
   "metadata": {},
   "outputs": [
    {
     "name": "stdout",
     "output_type": "stream",
     "text": [
      "{'1st year': {'name': 'srinadh', 'rlno': '437', 'branch': 'CSE'}, '2nd year': {'name': 'krish', 'rlno': '511', 'branch': 'ECE'}}\n"
     ]
    }
   ],
   "source": [
    "# nested dictionaries\n",
    "btech={\n",
    "    '1st year':{\n",
    "        'name': 'srinadh',\n",
    "        'rlno': '437',\n",
    "        'branch': 'CSE'\n",
    "        \n",
    "    },\n",
    "    '2nd year':{\n",
    "        'name': 'krish',\n",
    "        'rlno': '511',\n",
    "        'branch':'ECE'\n",
    "    }\n",
    "}\n",
    "print(btech)"
   ]
  },
  {
   "cell_type": "code",
   "execution_count": 5,
   "id": "99a22d8a",
   "metadata": {},
   "outputs": [
    {
     "name": "stdout",
     "output_type": "stream",
     "text": [
      "511\n"
     ]
    }
   ],
   "source": [
    "# to access nested dictionaries data\n",
    "print(btech['2nd year']['rlno'])"
   ]
  },
  {
   "cell_type": "code",
   "execution_count": 6,
   "id": "51f50b0e",
   "metadata": {},
   "outputs": [
    {
     "name": "stdout",
     "output_type": "stream",
     "text": [
      "{'name': ['prem', 'kamal', 'latha'], 'rlno': [511, 254, 674], 'branch': ['CSE', 'ECE', 'EEE']}\n"
     ]
    }
   ],
   "source": [
    "# to store multiple students records...\n",
    "student={'name':['prem','kamal','latha'],\n",
    "          'rlno':[511,254,674],\n",
    "           'branch':['CSE','ECE','EEE']}\n",
    "print(student)"
   ]
  },
  {
   "cell_type": "code",
   "execution_count": 11,
   "id": "9f3beb20",
   "metadata": {},
   "outputs": [
    {
     "name": "stdout",
     "output_type": "stream",
     "text": [
      "{'name': ['prem', 'lary', 'latha'], 'rlno': [511, 254, 674], 'branch': ['CSE', 'ECE', 'EEE']}\n",
      "674\n"
     ]
    }
   ],
   "source": [
    "# to update the data\n",
    "student['name'][1]='lary'\n",
    "print(student)\n",
    "print(student['rlno'][2])"
   ]
  },
  {
   "cell_type": "markdown",
   "id": "3f089dde",
   "metadata": {},
   "source": [
    "#### Functions\n",
    "* It is a group of statements\n",
    "* It can perform the specific task\n",
    "* In python by using def keyword we can write the functions\n",
    "##### uses\n",
    "* code reusability-easy to code debugging\n",
    "\n",
    "* syntax :def function(arguments_list):# function definition statements return output\n",
    "\n",
    "* how to call a function: function_name(input_arguments)#function calling\n",
    "\n",
    "* function name starts with keyword,inbuilt functions\n",
    "* function name should not allow the space in the middle of function\n",
    " * two types of functions :\n",
    " * 1.pre-define functions\n",
    " * 2.user define functions\n",
    "\n",
    "* four types of user defined functions-:1.function with arguments and with return values.2)function with arguments and with out return values.3)function without arguments with return values.4)function without arguments and without return values"
   ]
  },
  {
   "cell_type": "markdown",
   "id": "00f9627f",
   "metadata": {},
   "source": [
    "#### 1.with arguments and with return values\n",
    "* syntax: def function_name(argument_list):statements return result"
   ]
  },
  {
   "cell_type": "code",
   "execution_count": 12,
   "id": "a8349e13",
   "metadata": {},
   "outputs": [
    {
     "name": "stdout",
     "output_type": "stream",
     "text": [
      "enter value:57812\n"
     ]
    },
    {
     "data": {
      "text/plain": [
       "5"
      ]
     },
     "execution_count": 12,
     "metadata": {},
     "output_type": "execute_result"
    }
   ],
   "source": [
    "# to print the first digit of a given number?\n",
    "# input :n=57812\n",
    "# output:5\n",
    "def first_digit(n):\n",
    "    while(n>=10):\n",
    "        n=n//10\n",
    "    return n\n",
    "fd=int(input(\"enter value:\"))\n",
    "first_digit(fd)"
   ]
  },
  {
   "cell_type": "markdown",
   "id": "8d49d39e",
   "metadata": {},
   "source": [
    "#### 2.with arguments and without return values\n",
    "* syntax:def function_name(argument_list):statements print(output)"
   ]
  },
  {
   "cell_type": "code",
   "execution_count": 13,
   "id": "f948e231",
   "metadata": {},
   "outputs": [
    {
     "name": "stdout",
     "output_type": "stream",
     "text": [
      "10\n",
      "20\n",
      "12\n",
      "b is big 20\n"
     ]
    }
   ],
   "source": [
    "# to find biggest of three numbers\n",
    "def biggest_three(a,b,c):\n",
    "    if(a>b and a>c):\n",
    "        print(\"a is big\",a)\n",
    "    elif(b>c):\n",
    "        print(\"b is big\",b)\n",
    "    else:\n",
    "        print(\"c is big\",c)\n",
    "a=int(input())\n",
    "b=int(input())\n",
    "c=int(input())\n",
    "biggest_three(a,b,c)"
   ]
  },
  {
   "cell_type": "markdown",
   "id": "bf67f5a7",
   "metadata": {},
   "source": [
    "#### 3.without arguments and with return values\n",
    "* syntax:def function_name(): statements return output"
   ]
  },
  {
   "cell_type": "code",
   "execution_count": 15,
   "id": "fc36869d",
   "metadata": {},
   "outputs": [
    {
     "name": "stdout",
     "output_type": "stream",
     "text": [
      "enter a value:10\n",
      "enter b value:20\n",
      "(20, 10)\n"
     ]
    }
   ],
   "source": [
    "# swap two numbers\n",
    "def swap():\n",
    "    a=int(input(\"enter a value:\"))\n",
    "    b=int(input(\"enter b value:\"))\n",
    "    a,b=b,a\n",
    "    return a,b\n",
    "swap()"
   ]
  },
  {
   "cell_type": "markdown",
   "id": "37358cd5",
   "metadata": {},
   "source": [
    "#### 4.without arguments and without return values \n",
    "* syntax: def function_name():statements print(result)"
   ]
  },
  {
   "cell_type": "code",
   "execution_count": 1,
   "id": "8065b2c6",
   "metadata": {},
   "outputs": [
    {
     "name": "stdout",
     "output_type": "stream",
     "text": [
      "enter n value :5\n",
      "120\n"
     ]
    }
   ],
   "source": [
    "# to print the factorial of a given number?\n",
    "def factorial():\n",
    "    f1=1\n",
    "    for i in range(1,n+1):\n",
    "        f1=f1*i\n",
    "    print(f1)\n",
    "n=int(input(\"enter n value :\"))\n",
    "factorial()"
   ]
  },
  {
   "cell_type": "markdown",
   "id": "7afe712f",
   "metadata": {},
   "source": [
    "#### arguments\n",
    "* three types of arguments\n",
    "    - variable length\n",
    "    - keyword length\n",
    "    - default and non default\n",
    "* 1.variable length arguments:\n",
    "   - By using '*' symbol we can develop the variable length arguments.\n",
    "   - It return the data in the form at tuple."
   ]
  },
  {
   "cell_type": "code",
   "execution_count": 2,
   "id": "eaa4bba1",
   "metadata": {},
   "outputs": [
    {
     "name": "stdout",
     "output_type": "stream",
     "text": [
      "(10, 20, 30, 40, 'apssdc')\n"
     ]
    }
   ],
   "source": [
    "def hello(*a):\n",
    "    print(a)\n",
    "hello(10,20,30,40,'apssdc')"
   ]
  },
  {
   "cell_type": "code",
   "execution_count": 3,
   "id": "04758069",
   "metadata": {},
   "outputs": [
    {
     "name": "stdout",
     "output_type": "stream",
     "text": [
      "[10, 20]\n"
     ]
    }
   ],
   "source": [
    "list=[10,20]\n",
    "print(list)"
   ]
  },
  {
   "cell_type": "code",
   "execution_count": 4,
   "id": "bae90b4a",
   "metadata": {},
   "outputs": [
    {
     "name": "stdout",
     "output_type": "stream",
     "text": [
      "{'name': 'ram', 'rlno': 456}\n"
     ]
    }
   ],
   "source": [
    "# keyword length arguments:\n",
    "# we can '**' symbols we can write the keyword arguments.\n",
    "def sample(**k):\n",
    "    print(k)\n",
    "sample(name='ram',rlno=456)"
   ]
  },
  {
   "cell_type": "code",
   "execution_count": 5,
   "id": "a2b338d4",
   "metadata": {},
   "outputs": [
    {
     "data": {
      "text/plain": [
       "10"
      ]
     },
     "execution_count": 5,
     "metadata": {},
     "output_type": "execute_result"
    }
   ],
   "source": [
    "# default and non default arguments.\n",
    "def example(a=10):\n",
    "    return a\n",
    "example()"
   ]
  },
  {
   "cell_type": "code",
   "execution_count": 6,
   "id": "ac96c524",
   "metadata": {},
   "outputs": [
    {
     "name": "stdout",
     "output_type": "stream",
     "text": [
      "{'name': 'kamal', 'rlno': 45}\n"
     ]
    }
   ],
   "source": [
    "def sample(**k):\n",
    "    print(k)\n",
    "sample(name='kamal',rlno=45)"
   ]
  },
  {
   "cell_type": "code",
   "execution_count": 7,
   "id": "0418dab8",
   "metadata": {},
   "outputs": [
    {
     "ename": "TypeError",
     "evalue": "unhashable type: 'list'",
     "output_type": "error",
     "traceback": [
      "\u001b[1;31m---------------------------------------------------------------------------\u001b[0m",
      "\u001b[1;31mTypeError\u001b[0m                                 Traceback (most recent call last)",
      "Input \u001b[1;32mIn [7]\u001b[0m, in \u001b[0;36m<cell line: 1>\u001b[1;34m()\u001b[0m\n\u001b[1;32m----> 1\u001b[0m s1\u001b[38;5;241m=\u001b[39m{\u001b[38;5;124m'\u001b[39m\u001b[38;5;124mpython\u001b[39m\u001b[38;5;124m'\u001b[39m,[\u001b[38;5;124m'\u001b[39m\u001b[38;5;124mjava\u001b[39m\u001b[38;5;124m'\u001b[39m,\u001b[38;5;124m'\u001b[39m\u001b[38;5;124mc\u001b[39m\u001b[38;5;124m'\u001b[39m],\u001b[38;5;241m12\u001b[39m,\u001b[38;5;241m5.5\u001b[39m}\n\u001b[0;32m      2\u001b[0m \u001b[38;5;28mprint\u001b[39m(s1)\n",
      "\u001b[1;31mTypeError\u001b[0m: unhashable type: 'list'"
     ]
    }
   ],
   "source": [
    "s1={'python',['java','c'],12,5.5}\n",
    "print(s1)"
   ]
  },
  {
   "cell_type": "code",
   "execution_count": null,
   "id": "21efd780",
   "metadata": {},
   "outputs": [],
   "source": []
  }
 ],
 "metadata": {
  "kernelspec": {
   "display_name": "Python 3 (ipykernel)",
   "language": "python",
   "name": "python3"
  },
  "language_info": {
   "codemirror_mode": {
    "name": "ipython",
    "version": 3
   },
   "file_extension": ".py",
   "mimetype": "text/x-python",
   "name": "python",
   "nbconvert_exporter": "python",
   "pygments_lexer": "ipython3",
   "version": "3.9.12"
  }
 },
 "nbformat": 4,
 "nbformat_minor": 5
}
