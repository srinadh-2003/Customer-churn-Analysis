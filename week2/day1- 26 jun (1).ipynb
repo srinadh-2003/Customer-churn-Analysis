{
 "cells": [
  {
   "cell_type": "markdown",
   "id": "3cf08c31",
   "metadata": {},
   "source": [
    "### Tuple\n",
    "* "
   ]
  },
  {
   "cell_type": "code",
   "execution_count": 3,
   "id": "0860a18d",
   "metadata": {},
   "outputs": [
    {
     "name": "stdout",
     "output_type": "stream",
     "text": [
      "(10, 20, 35.6, 'apssdc')\n",
      "<class 'tuple'>\n"
     ]
    }
   ],
   "source": [
    "t1=(10,20,35.6,'apssdc')\n",
    "print(t1)\n",
    "print(type(t1))"
   ]
  },
  {
   "cell_type": "code",
   "execution_count": 6,
   "id": "a2a516ca",
   "metadata": {},
   "outputs": [
    {
     "name": "stdout",
     "output_type": "stream",
     "text": [
      "100\n",
      "(100,)\n",
      "<class 'int'>\n",
      "<class 'tuple'>\n"
     ]
    }
   ],
   "source": [
    "t2=(100)\n",
    "t3=(100,)\n",
    "print(t2)\n",
    "print(t3)\n",
    "print(type(t2))\n",
    "print(type(t3))"
   ]
  },
  {
   "cell_type": "code",
   "execution_count": 11,
   "id": "4a2cd185",
   "metadata": {},
   "outputs": [
    {
     "name": "stdout",
     "output_type": "stream",
     "text": [
      "(10, 20, 35.6, 'apssdc')\n",
      "4\n",
      "35.6\n",
      "35.6\n",
      "('apssdc', 35.6, 20, 10)\n"
     ]
    }
   ],
   "source": [
    "# to access the tuple values using index position\n",
    "print(t1)\n",
    "print(len(t1))\n",
    "print(t1[2])\n",
    "print(t1[-2])\n",
    "print(t1[::-1])# reverse"
   ]
  },
  {
   "cell_type": "code",
   "execution_count": 17,
   "id": "073651c0",
   "metadata": {},
   "outputs": [
    {
     "name": "stdout",
     "output_type": "stream",
     "text": [
      "[10, 20, 'python', 'apssdc']\n",
      "(10, 20, 'python', 'apssdc')\n"
     ]
    }
   ],
   "source": [
    "# to update the tuple values\n",
    "# we need to convert tuple to list(typecasting)\n",
    "t1=list(t1)\n",
    "t1[2]='python'\n",
    "print(t1)\n",
    "t1=tuple(t1)\n",
    "print(t1)"
   ]
  },
  {
   "cell_type": "code",
   "execution_count": 18,
   "id": "cdad9ea1",
   "metadata": {},
   "outputs": [
    {
     "name": "stdout",
     "output_type": "stream",
     "text": [
      "['__add__', '__class__', '__class_getitem__', '__contains__', '__delattr__', '__dir__', '__doc__', '__eq__', '__format__', '__ge__', '__getattribute__', '__getitem__', '__getnewargs__', '__gt__', '__hash__', '__init__', '__init_subclass__', '__iter__', '__le__', '__len__', '__lt__', '__mul__', '__ne__', '__new__', '__reduce__', '__reduce_ex__', '__repr__', '__rmul__', '__setattr__', '__sizeof__', '__str__', '__subclasshook__', 'count', 'index']\n"
     ]
    }
   ],
   "source": [
    "print(dir(tuple))"
   ]
  },
  {
   "cell_type": "code",
   "execution_count": 20,
   "id": "f00fa3c1",
   "metadata": {},
   "outputs": [
    {
     "name": "stdout",
     "output_type": "stream",
     "text": [
      "2\n"
     ]
    }
   ],
   "source": [
    "# count\n",
    "t2=('python',10,20,7,'python',6)\n",
    "print(t2.count('python'))"
   ]
  },
  {
   "cell_type": "code",
   "execution_count": 22,
   "id": "8bf753d9",
   "metadata": {},
   "outputs": [
    {
     "name": "stdout",
     "output_type": "stream",
     "text": [
      "('python', 10, 20, 7, 'python', 6)\n",
      "3\n"
     ]
    }
   ],
   "source": [
    "# index\n",
    "print(t2)\n",
    "print(t2.index(7))"
   ]
  },
  {
   "cell_type": "code",
   "execution_count": 24,
   "id": "3c49d1e7",
   "metadata": {},
   "outputs": [
    {
     "name": "stdout",
     "output_type": "stream",
     "text": [
      "python --> 0\n",
      "python --> 4\n"
     ]
    }
   ],
   "source": [
    "for i in range(0,len(t2)):\n",
    "    if(t2[i]=='python'):\n",
    "        print(t2[i],'-->',i)"
   ]
  },
  {
   "cell_type": "markdown",
   "id": "49fa8ce5",
   "metadata": {},
   "source": [
    "#### set\n",
    "* sets are used to store multiple items in a single variable.\n",
    "* set is a collection in which unordered,unchangeable,unindexed\n",
    "* sets are unchangable but we can add or remo"
   ]
  },
  {
   "cell_type": "code",
   "execution_count": null,
   "id": "0403ad2e",
   "metadata": {},
   "outputs": [],
   "source": []
  },
  {
   "cell_type": "code",
   "execution_count": null,
   "id": "d62e54d6",
   "metadata": {},
   "outputs": [],
   "source": []
  },
  {
   "cell_type": "code",
   "execution_count": 25,
   "id": "eaca2673",
   "metadata": {},
   "outputs": [
    {
     "name": "stdout",
     "output_type": "stream",
     "text": [
      "{'apple', 'mango'}\n"
     ]
    }
   ],
   "source": [
    "# intersection update():\n",
    "#present in both sets\n",
    "x={'apple','banaa','mango'}\n",
    "y={'bal','fan','cat','apple','mango'}\n",
    "x.intersection_update(y)\n",
    "print(x)"
   ]
  },
  {
   "cell_type": "code",
   "execution_count": 26,
   "id": "f3a5e858",
   "metadata": {},
   "outputs": [
    {
     "name": "stdout",
     "output_type": "stream",
     "text": [
      "{'banaa', 'fan', 'cat', 'bal'}\n"
     ]
    }
   ],
   "source": [
    "# symmetric_different_update():\n",
    "# present in a and not in b or not in a and in b\n",
    "a={'apple','banaa','mango'}\n",
    "b={'bal','fan','cat','apple','mango'}\n",
    "a.symmetric_difference_update(b)\n",
    "print(a)"
   ]
  },
  {
   "cell_type": "code",
   "execution_count": 27,
   "id": "153f4246",
   "metadata": {},
   "outputs": [
    {
     "name": "stdout",
     "output_type": "stream",
     "text": [
      "{'banaa'}\n"
     ]
    }
   ],
   "source": [
    "# difference\n",
    "a={'apple','banaa','mango'}\n",
    "b={'bal','fan','cat','apple','mango'}\n",
    "c=a.difference(b)\n",
    "print(c)"
   ]
  },
  {
   "cell_type": "code",
   "execution_count": 29,
   "id": "ee43b578",
   "metadata": {},
   "outputs": [
    {
     "name": "stdout",
     "output_type": "stream",
     "text": [
      "{'apple', 'mango'}\n",
      "{'apple', 'mango', 'banaa'} {'apple', 'cat', 'fan', 'bal', 'mango'}\n"
     ]
    }
   ],
   "source": [
    "# intersection():\n",
    "# items that are present in both sets\n",
    "r=a.intersection(b)\n",
    "print(r)\n",
    "print(a,b)"
   ]
  },
  {
   "cell_type": "code",
   "execution_count": 31,
   "id": "5200b975",
   "metadata": {},
   "outputs": [
    {
     "name": "stdout",
     "output_type": "stream",
     "text": [
      "{'apple', 'mango'}\n",
      "{'apple', 'mango'} {'apple', 'cat', 'fan', 'bal', 'mango'}\n",
      "{'apple', 'cat', 'fan', 'bal', 'mango'}\n"
     ]
    }
   ],
   "source": [
    "print(x&y)\n",
    "print(x,y)\n",
    "print(x|y)"
   ]
  },
  {
   "cell_type": "code",
   "execution_count": null,
   "id": "80634cc8",
   "metadata": {},
   "outputs": [],
   "source": []
  }
 ],
 "metadata": {
  "kernelspec": {
   "display_name": "Python 3 (ipykernel)",
   "language": "python",
   "name": "python3"
  },
  "language_info": {
   "codemirror_mode": {
    "name": "ipython",
    "version": 3
   },
   "file_extension": ".py",
   "mimetype": "text/x-python",
   "name": "python",
   "nbconvert_exporter": "python",
   "pygments_lexer": "ipython3",
   "version": "3.9.12"
  }
 },
 "nbformat": 4,
 "nbformat_minor": 5
}
