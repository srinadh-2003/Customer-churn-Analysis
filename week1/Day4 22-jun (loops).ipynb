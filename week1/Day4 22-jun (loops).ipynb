{
 "cells": [
  {
   "cell_type": "markdown",
   "id": "996eb062",
   "metadata": {},
   "source": [
    "#### while loop with else\n",
    "* we can also use while with optional else block\n",
    "* the else part is executed if the condition in the while loop evalutes to false\n",
    "* If the while loop is terminated with a break statement ,in such a case else part is ignored\n"
   ]
  },
  {
   "cell_type": "code",
   "execution_count": 1,
   "id": "e05397e1",
   "metadata": {},
   "outputs": [
    {
     "name": "stdout",
     "output_type": "stream",
     "text": [
      "inside while\n",
      "inside while\n",
      "inside while\n",
      "inside else\n"
     ]
    }
   ],
   "source": [
    "count=0\n",
    "while count<3:\n",
    "    print(\"inside while\")\n",
    "    count+=1\n",
    "else:\n",
    "    print(\"inside else\")"
   ]
  },
  {
   "cell_type": "code",
   "execution_count": 4,
   "id": "39f8b05e",
   "metadata": {},
   "outputs": [
    {
     "name": "stdout",
     "output_type": "stream",
     "text": [
      "0\n"
     ]
    }
   ],
   "source": [
    "count=0\n",
    "while count<3:\n",
    "    print(count)\n",
    "    count+=1\n",
    "    if count==1:\n",
    "        break\n",
    "else:\n",
    "    print(\"inside else\")"
   ]
  },
  {
   "cell_type": "code",
   "execution_count": null,
   "id": "d4765f70",
   "metadata": {},
   "outputs": [],
   "source": [
    "#### Nested while\n",
    "* while expression:\n",
    "     * while expression:\n",
    "          stat\n",
    "     stat"
   ]
  },
  {
   "cell_type": "code",
   "execution_count": 7,
   "id": "211f3eae",
   "metadata": {},
   "outputs": [
    {
     "name": "stdout",
     "output_type": "stream",
     "text": [
      "1 , 5\n",
      "2 , 6\n",
      "3 , 7\n"
     ]
    }
   ],
   "source": [
    "#1 5\n",
    "#2 6\n",
    "#3 7\n",
    "a=1\n",
    "b=5\n",
    "while b<8:\n",
    "    while a<4:\n",
    "        print(a,\",\",b)\n",
    "        a+=1\n",
    "        b+=1 "
   ]
  },
  {
   "cell_type": "markdown",
   "id": "8a0ff5b9",
   "metadata": {},
   "source": [
    "#### for loop\n",
    "* used to iterate over sequence like string,list,tuple,range etc"
   ]
  },
  {
   "cell_type": "code",
   "execution_count": 13,
   "id": "52efb106",
   "metadata": {},
   "outputs": [
    {
     "name": "stdout",
     "output_type": "stream",
     "text": [
      "1 , 5\n",
      "2 , 6\n",
      "3 , 7\n"
     ]
    }
   ],
   "source": [
    "for i in range(1,4):\n",
    "    print(i,\",\",(i+4))"
   ]
  },
  {
   "cell_type": "code",
   "execution_count": 15,
   "id": "662932c3",
   "metadata": {},
   "outputs": [
    {
     "name": "stdout",
     "output_type": "stream",
     "text": [
      "1 2 3 4 5 6 7 8 9 10 "
     ]
    }
   ],
   "source": [
    "for i in range(1,11):\n",
    "    print(i,end=\" \")"
   ]
  },
  {
   "cell_type": "code",
   "execution_count": 17,
   "id": "aa9c2a0e",
   "metadata": {},
   "outputs": [
    {
     "name": "stdout",
     "output_type": "stream",
     "text": [
      "10 9 8 7 6 5 4 3 2 1 "
     ]
    }
   ],
   "source": [
    "for i in range(10,0,-1):\n",
    "    print(i,end=\" \")"
   ]
  },
  {
   "cell_type": "code",
   "execution_count": 20,
   "id": "877b09ac",
   "metadata": {},
   "outputs": [
    {
     "name": "stdout",
     "output_type": "stream",
     "text": [
      "2 4 6 8 10 12 14 16 18 20 22 24 26 28 30 32 34 36 38 40 42 44 46 48 50 52 54 56 58 60 62 64 66 68 70 72 74 76 78 80 82 84 86 88 90 92 94 96 98 "
     ]
    }
   ],
   "source": [
    "for i in range(2,100,+2):\n",
    "    print(i,end=\" \")"
   ]
  },
  {
   "cell_type": "code",
   "execution_count": 21,
   "id": "6ac94958",
   "metadata": {},
   "outputs": [
    {
     "name": "stdout",
     "output_type": "stream",
     "text": [
      "r\n",
      "a\n",
      "m\n",
      "e\n"
     ]
    }
   ],
   "source": [
    "name=\"rame\"\n",
    "for ch in name:\n",
    "    print(ch)"
   ]
  },
  {
   "cell_type": "markdown",
   "id": "8af00b81",
   "metadata": {},
   "source": [
    "#### for with else\n",
    "* else part is executed after the for loop is finished\n",
    "* if there is break in loop,else block is not executed"
   ]
  },
  {
   "cell_type": "code",
   "execution_count": 23,
   "id": "a9e5a256",
   "metadata": {},
   "outputs": [
    {
     "name": "stdout",
     "output_type": "stream",
     "text": [
      "0\n",
      "1\n",
      "2\n",
      "3\n",
      "4\n",
      "5\n",
      "else block\n"
     ]
    }
   ],
   "source": [
    "# 0 to 5\n",
    "for i in range(6):\n",
    "    print(i)\n",
    "else:\n",
    "    print(\"else block\")"
   ]
  },
  {
   "cell_type": "code",
   "execution_count": 24,
   "id": "91c921fa",
   "metadata": {},
   "outputs": [
    {
     "name": "stdout",
     "output_type": "stream",
     "text": [
      "0\n",
      "1\n",
      "2\n"
     ]
    }
   ],
   "source": [
    "# 0 t0 3\n",
    "for i in range(6):\n",
    "    if i==3:\n",
    "        break\n",
    "    print(i)\n",
    "else:\n",
    "    print(\"else block\")"
   ]
  },
  {
   "cell_type": "markdown",
   "id": "7aad4251",
   "metadata": {},
   "source": [
    "#### loop control statements\n",
    "* break\n",
    "* continue\n",
    "* pass"
   ]
  },
  {
   "cell_type": "markdown",
   "id": "29d4f35f",
   "metadata": {},
   "source": [
    "#### break\n",
    "* terminates the loop containinig it\n",
    "* control the program flow to statement immediately after the body of loop\n",
    "* if the break stmt is inside a nested loop,then it terminates the innermost loop"
   ]
  },
  {
   "cell_type": "code",
   "execution_count": 29,
   "id": "f8c92e75",
   "metadata": {},
   "outputs": [
    {
     "name": "stdout",
     "output_type": "stream",
     "text": [
      "p\n",
      "y\n",
      "t\n",
      "h\n"
     ]
    }
   ],
   "source": [
    "str=\"python\"\n",
    "#pyth\n",
    "for ch in str:\n",
    "    if ch=='o':\n",
    "        break\n",
    "    print(ch)"
   ]
  },
  {
   "cell_type": "code",
   "execution_count": 1,
   "id": "f3f1d3c8",
   "metadata": {},
   "outputs": [
    {
     "name": "stdout",
     "output_type": "stream",
     "text": [
      "0 1 2 3 4 5 6 7 8 9 "
     ]
    }
   ],
   "source": [
    "i=0\n",
    "while 1:\n",
    "    print(i,end=\" \")\n",
    "    i+=1\n",
    "    if i==10:\n",
    "        break"
   ]
  },
  {
   "cell_type": "markdown",
   "id": "4e77adaa",
   "metadata": {},
   "source": [
    "#### continue statement\n",
    "* it is used to skip the rest of the code inside a loop for current iteration only\n",
    "* loop does not terminate but continue on with the iteration"
   ]
  },
  {
   "cell_type": "code",
   "execution_count": 3,
   "id": "a676d254",
   "metadata": {},
   "outputs": [
    {
     "name": "stdout",
     "output_type": "stream",
     "text": [
      "1\n",
      "2\n",
      "3\n",
      "4\n",
      "6\n",
      "7\n"
     ]
    }
   ],
   "source": [
    "# 1 2 3 4 6 7 (skip 5)\n",
    "i=0\n",
    "while i<7:\n",
    "    i+=1\n",
    "    if i==5:\n",
    "        continue\n",
    "    print(i)"
   ]
  },
  {
   "cell_type": "code",
   "execution_count": 4,
   "id": "844e4414",
   "metadata": {},
   "outputs": [
    {
     "name": "stdout",
     "output_type": "stream",
     "text": [
      "k\n",
      "a\n",
      "a\n",
      "l\n"
     ]
    }
   ],
   "source": [
    "str=\"kamal\"\n",
    "for i in str:\n",
    "    if i=='m':\n",
    "        continue\n",
    "    print(i)"
   ]
  },
  {
   "cell_type": "markdown",
   "id": "17992698",
   "metadata": {},
   "source": [
    "#### pass statements\n",
    "* it is a null statement"
   ]
  },
  {
   "cell_type": "code",
   "execution_count": 8,
   "id": "ddb305ac",
   "metadata": {},
   "outputs": [],
   "source": [
    "name=\"john\"\n",
    "for i in name:\n",
    "    pass"
   ]
  },
  {
   "cell_type": "code",
   "execution_count": 9,
   "id": "0dd0d748",
   "metadata": {},
   "outputs": [
    {
     "name": "stdout",
     "output_type": "stream",
     "text": [
      "41\n",
      "23\n",
      "65\n"
     ]
    }
   ],
   "source": [
    "for num in [10,41,23,65,22]:\n",
    "    if num%2==0:\n",
    "        pass\n",
    "    else:\n",
    "        print(num)"
   ]
  },
  {
   "cell_type": "code",
   "execution_count": null,
   "id": "282c2d6c",
   "metadata": {},
   "outputs": [],
   "source": []
  }
 ],
 "metadata": {
  "kernelspec": {
   "display_name": "Python 3 (ipykernel)",
   "language": "python",
   "name": "python3"
  },
  "language_info": {
   "codemirror_mode": {
    "name": "ipython",
    "version": 3
   },
   "file_extension": ".py",
   "mimetype": "text/x-python",
   "name": "python",
   "nbconvert_exporter": "python",
   "pygments_lexer": "ipython3",
   "version": "3.9.12"
  }
 },
 "nbformat": 4,
 "nbformat_minor": 5
}
