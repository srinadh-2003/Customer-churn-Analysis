{
 "cells": [
  {
   "cell_type": "markdown",
   "id": "eb7bb5c2",
   "metadata": {},
   "source": [
    "### String\n",
    "* It is a collection of characters.\n",
    "* It is a character array.\n",
    "* String index starts from 0 to size-1\n",
    "* string is immutuable(we can't change).\n",
    "* By using double quotes,single quotes and triple quotes we can denote the string"
   ]
  },
  {
   "cell_type": "code",
   "execution_count": 1,
   "id": "de49b867",
   "metadata": {},
   "outputs": [
    {
     "name": "stdout",
     "output_type": "stream",
     "text": [
      "python programming\n",
      "<class 'str'>\n"
     ]
    }
   ],
   "source": [
    "#string initialization\n",
    "s1='python programming'\n",
    "print(s1)\n",
    "print(type(s1))"
   ]
  },
  {
   "cell_type": "code",
   "execution_count": 5,
   "id": "c5903420",
   "metadata": {},
   "outputs": [
    {
     "name": "stdout",
     "output_type": "stream",
     "text": [
      "data analysis\n",
      "<class 'str'>\n"
     ]
    }
   ],
   "source": [
    "s2=\"data analysis\"\n",
    "print(s2)\n",
    "print(type(s2))"
   ]
  },
  {
   "cell_type": "code",
   "execution_count": 3,
   "id": "eaa87c87",
   "metadata": {},
   "outputs": [
    {
     "name": "stdout",
     "output_type": "stream",
     "text": [
      "python programming\n",
      "java\n",
      "data analysis\n",
      "srm\n"
     ]
    }
   ],
   "source": [
    "s3='''python programming\n",
    "java\n",
    "data analysis\n",
    "srm'''\n",
    "print(s3)"
   ]
  },
  {
   "cell_type": "code",
   "execution_count": 17,
   "id": "822d6ae6",
   "metadata": {},
   "outputs": [
    {
     "name": "stdout",
     "output_type": "stream",
     "text": [
      "srm apstudents\n",
      "srm ap students\n"
     ]
    }
   ],
   "source": [
    "# string join\n",
    "s1=\"srm ap\"\n",
    "s2=\"students\"\n",
    "print(s1+s2)\n",
    "print(s1,s2)"
   ]
  },
  {
   "cell_type": "code",
   "execution_count": 10,
   "id": "68971d6a",
   "metadata": {},
   "outputs": [
    {
     "name": "stdout",
     "output_type": "stream",
     "text": [
      "pythonpythonpythonpython\n"
     ]
    }
   ],
   "source": [
    "# string repetition\n",
    "s=\"python\"\n",
    "print(s*4)"
   ]
  },
  {
   "cell_type": "code",
   "execution_count": 18,
   "id": "92973293",
   "metadata": {},
   "outputs": [
    {
     "name": "stdout",
     "output_type": "stream",
     "text": [
      "p y t h o n "
     ]
    }
   ],
   "source": [
    "s=\"python\"\n",
    "for i in s:\n",
    "    print(i,end=\" \")"
   ]
  },
  {
   "cell_type": "code",
   "execution_count": 19,
   "id": "88f3bb9b",
   "metadata": {},
   "outputs": [
    {
     "name": "stdout",
     "output_type": "stream",
     "text": [
      "65\n"
     ]
    }
   ],
   "source": [
    "# to print asccii value of a given character?\n",
    "print(ord('A'))"
   ]
  },
  {
   "cell_type": "code",
   "execution_count": 21,
   "id": "dd26bab5",
   "metadata": {},
   "outputs": [
    {
     "name": "stdout",
     "output_type": "stream",
     "text": [
      "A\n"
     ]
    }
   ],
   "source": [
    "# to print character of given asccii value?\n",
    "print(chr(65))"
   ]
  },
  {
   "cell_type": "markdown",
   "id": "700b7ac8",
   "metadata": {},
   "source": [
    "#### indexing and slicing\n",
    "* indexing\n",
    "   * to get single character.\n",
    "   * forward- 0 to size-1\n",
    "   * backward indexing- start from -1\n",
    "* slicing \n",
    "    * to get the group of characters\n",
    "    * [start:stop:step]"
   ]
  },
  {
   "cell_type": "code",
   "execution_count": 27,
   "id": "7fc34419",
   "metadata": {},
   "outputs": [
    {
     "name": "stdout",
     "output_type": "stream",
     "text": [
      "a\n",
      "d\n",
      "h\n",
      "lysis internship\n",
      "data analysis internship\n",
      "pihsnretni sisylana atad\n",
      "dt nlssitrsi\n"
     ]
    }
   ],
   "source": [
    "s1='data analysis internship'\n",
    "print(s1[3])\n",
    "print(s1[0])\n",
    "print(s1[-3])\n",
    "print(s1[8:])\n",
    "print(s1[::])\n",
    "print(s1[::-1])\n",
    "print(s1[::2]) #to get alternate char"
   ]
  },
  {
   "cell_type": "code",
   "execution_count": 37,
   "id": "f1ee9764",
   "metadata": {},
   "outputs": [
    {
     "name": "stdout",
     "output_type": "stream",
     "text": [
      "enter a string:python\n",
      "6\n",
      "nythop\n"
     ]
    }
   ],
   "source": [
    "# to read a string and swap first and last char\n",
    "s1=input(\"enter a string:\")\n",
    "print(len(s1))\n",
    "print(s1[-1]+s1[1:len(s1)-1]+s1[0])"
   ]
  },
  {
   "cell_type": "code",
   "execution_count": 4,
   "id": "7597cd77",
   "metadata": {},
   "outputs": [
    {
     "name": "stdout",
     "output_type": "stream",
     "text": [
      "enter any string:palrt\n",
      "talrp\n"
     ]
    }
   ],
   "source": [
    "s=input(\"enter any string:\")\n",
    "print(s[-1]+s[1:len(s)-1]+s[0])"
   ]
  },
  {
   "cell_type": "code",
   "execution_count": 5,
   "id": "4358aa37",
   "metadata": {},
   "outputs": [
    {
     "name": "stdout",
     "output_type": "stream",
     "text": [
      "enter any string:kamal\n",
      "k --> 107\n",
      "a --> 97\n",
      "m --> 109\n",
      "a --> 97\n",
      "l --> 108\n"
     ]
    }
   ],
   "source": [
    "# to read a string and print asccii value of a each character\n",
    "s=input(\"enter any string:\")\n",
    "for i in s:\n",
    "    print(i,'-->',ord(i))"
   ]
  },
  {
   "cell_type": "code",
   "execution_count": 39,
   "id": "aa5fcf62",
   "metadata": {},
   "outputs": [
    {
     "name": "stdout",
     "output_type": "stream",
     "text": [
      "['__add__', '__class__', '__contains__', '__delattr__', '__dir__', '__doc__', '__eq__', '__format__', '__ge__', '__getattribute__', '__getitem__', '__getnewargs__', '__gt__', '__hash__', '__init__', '__init_subclass__', '__iter__', '__le__', '__len__', '__lt__', '__mod__', '__mul__', '__ne__', '__new__', '__reduce__', '__reduce_ex__', '__repr__', '__rmod__', '__rmul__', '__setattr__', '__sizeof__', '__str__', '__subclasshook__', 'capitalize', 'casefold', 'center', 'count', 'encode', 'endswith', 'expandtabs', 'find', 'format', 'format_map', 'index', 'isalnum', 'isalpha', 'isascii', 'isdecimal', 'isdigit', 'isidentifier', 'islower', 'isnumeric', 'isprintable', 'isspace', 'istitle', 'isupper', 'join', 'ljust', 'lower', 'lstrip', 'maketrans', 'partition', 'removeprefix', 'removesuffix', 'replace', 'rfind', 'rindex', 'rjust', 'rpartition', 'rsplit', 'rstrip', 'split', 'splitlines', 'startswith', 'strip', 'swapcase', 'title', 'translate', 'upper', 'zfill']\n"
     ]
    }
   ],
   "source": [
    "#### string methods\n",
    "print(dir(str))"
   ]
  },
  {
   "cell_type": "code",
   "execution_count": 43,
   "id": "4dcda0ef",
   "metadata": {},
   "outputs": [
    {
     "name": "stdout",
     "output_type": "stream",
     "text": [
      "Jalj\n"
     ]
    }
   ],
   "source": [
    "# to convert first char to uppercase of a str\n",
    "s1=\"jalj\"\n",
    "print(s1.capitalize())"
   ]
  },
  {
   "cell_type": "code",
   "execution_count": 8,
   "id": "0895becc",
   "metadata": {},
   "outputs": [
    {
     "name": "stdout",
     "output_type": "stream",
     "text": [
      "talm\n",
      "talm\n",
      "TALM\n"
     ]
    }
   ],
   "source": [
    "# to convert str into lower\n",
    "s1=\"TAlm\"\n",
    "print(s1.lower())\n",
    "print(s1.casefold())\n",
    "print(s1.upper())"
   ]
  },
  {
   "cell_type": "code",
   "execution_count": 12,
   "id": "13c26cec",
   "metadata": {},
   "outputs": [
    {
     "name": "stdout",
     "output_type": "stream",
     "text": [
      "Help on method_descriptor:\n",
      "\n",
      "casefold(self, /)\n",
      "    Return a version of the string suitable for caseless comparisons.\n",
      "\n"
     ]
    }
   ],
   "source": [
    "help(str.casefold)"
   ]
  },
  {
   "cell_type": "code",
   "execution_count": 47,
   "id": "c5e9f768",
   "metadata": {},
   "outputs": [
    {
     "name": "stdout",
     "output_type": "stream",
     "text": [
      "PYTHON pROGRAmmING\n"
     ]
    }
   ],
   "source": [
    "# to convert str to lower or upper viceversa\n",
    "s='python PrograMMing'\n",
    "print(s.swapcase())"
   ]
  },
  {
   "cell_type": "code",
   "execution_count": 48,
   "id": "4e1b090a",
   "metadata": {},
   "outputs": [
    {
     "name": "stdout",
     "output_type": "stream",
     "text": [
      "Python Apssdc\n"
     ]
    }
   ],
   "source": [
    "# to convert first char of each word to uppercase\n",
    "s=\"python apssdc\"\n",
    "print(s.title())"
   ]
  },
  {
   "cell_type": "code",
   "execution_count": 13,
   "id": "33e1071d",
   "metadata": {},
   "outputs": [
    {
     "name": "stdout",
     "output_type": "stream",
     "text": [
      "Help on method_descriptor:\n",
      "\n",
      "center(self, width, fillchar=' ', /)\n",
      "    Return a centered string of length width.\n",
      "    \n",
      "    Padding is done using the specified fill character (default is a space).\n",
      "\n"
     ]
    }
   ],
   "source": [
    "help(str.center)"
   ]
  },
  {
   "cell_type": "code",
   "execution_count": 26,
   "id": "d3b4e1c5",
   "metadata": {},
   "outputs": [
    {
     "ename": "TypeError",
     "evalue": "str.center() takes no keyword arguments",
     "output_type": "error",
     "traceback": [
      "\u001b[1;31m---------------------------------------------------------------------------\u001b[0m",
      "\u001b[1;31mTypeError\u001b[0m                                 Traceback (most recent call last)",
      "Input \u001b[1;32mIn [26]\u001b[0m, in \u001b[0;36m<cell line: 2>\u001b[1;34m()\u001b[0m\n\u001b[0;32m      1\u001b[0m s\u001b[38;5;241m=\u001b[39m\u001b[38;5;124m\"\u001b[39m\u001b[38;5;124mpython\u001b[39m\u001b[38;5;124m\"\u001b[39m\n\u001b[1;32m----> 2\u001b[0m \u001b[38;5;28mprint\u001b[39m(\u001b[43ms\u001b[49m\u001b[38;5;241;43m.\u001b[39;49m\u001b[43mcenter\u001b[49m\u001b[43m(\u001b[49m\u001b[43mfillchar\u001b[49m\u001b[38;5;241;43m=\u001b[39;49m\u001b[38;5;124;43m'\u001b[39;49m\u001b[38;5;124;43mp\u001b[39;49m\u001b[38;5;124;43m'\u001b[39;49m\u001b[43m)\u001b[49m)\n",
      "\u001b[1;31mTypeError\u001b[0m: str.center() takes no keyword arguments"
     ]
    }
   ],
   "source": [
    "s=\"python\"\n",
    "print(s.center(fillchar='p'))"
   ]
  },
  {
   "cell_type": "code",
   "execution_count": 49,
   "id": "0de8729f",
   "metadata": {},
   "outputs": [
    {
     "name": "stdout",
     "output_type": "stream",
     "text": [
      "python   program\n",
      "python   program  \n",
      "   python   program\n"
     ]
    }
   ],
   "source": [
    "# to remove white spaces\n",
    "s=\"   python   program  \"\n",
    "print(s.strip())\n",
    "print(s.lstrip())\n",
    "print(s.rstrip())"
   ]
  },
  {
   "cell_type": "code",
   "execution_count": 52,
   "id": "537b99e3",
   "metadata": {},
   "outputs": [
    {
     "name": "stdout",
     "output_type": "stream",
     "text": [
      " hello sram\n"
     ]
    }
   ],
   "source": [
    "# translate()\n",
    "d={80:65}\n",
    "s=' hello sram'\n",
    "print(s.translate(d))"
   ]
  },
  {
   "cell_type": "code",
   "execution_count": 53,
   "id": "f9eb34ce",
   "metadata": {},
   "outputs": [
    {
     "name": "stdout",
     "output_type": "stream",
     "text": [
      "['data', 'analysis', 'using', 'python']\n"
     ]
    }
   ],
   "source": [
    "# split\n",
    "s=\"data analysis using python\"\n",
    "print(s.split())"
   ]
  },
  {
   "cell_type": "code",
   "execution_count": 54,
   "id": "476f19d2",
   "metadata": {},
   "outputs": [
    {
     "name": "stdout",
     "output_type": "stream",
     "text": [
      "4\n"
     ]
    }
   ],
   "source": [
    "# to count the number of words \n",
    "s=\"data analysis using python\"\n",
    "print(len(s.split()))"
   ]
  },
  {
   "cell_type": "code",
   "execution_count": 55,
   "id": "f5657cac",
   "metadata": {},
   "outputs": [
    {
     "name": "stdout",
     "output_type": "stream",
     "text": [
      "DATA\n",
      "ANALYSIS\n",
      "USING\n",
      "PYTHON\n"
     ]
    }
   ],
   "source": [
    "# to convert each word into uppercase\n",
    "for i in s.split():\n",
    "    print(i.upper())"
   ]
  },
  {
   "cell_type": "code",
   "execution_count": 56,
   "id": "68e415a9",
   "metadata": {},
   "outputs": [
    {
     "name": "stdout",
     "output_type": "stream",
     "text": [
      "2\n"
     ]
    }
   ],
   "source": [
    "# to count char frequency\n",
    "s='apssdc'\n",
    "print(s.count('s'))"
   ]
  },
  {
   "cell_type": "code",
   "execution_count": 57,
   "id": "9e3ffd7f",
   "metadata": {},
   "outputs": [
    {
     "name": "stdout",
     "output_type": "stream",
     "text": [
      "4\n"
     ]
    }
   ],
   "source": [
    "# to print index position\n",
    "print(s.index('d'))"
   ]
  },
  {
   "cell_type": "code",
   "execution_count": 59,
   "id": "860040e7",
   "metadata": {},
   "outputs": [
    {
     "name": "stdout",
     "output_type": "stream",
     "text": [
      "10 20 30 fgfh 10.2\n",
      "['10', '20', '30', 'fgfh', '10.2']\n"
     ]
    }
   ],
   "source": [
    "n=list(map(str,input().split()))\n",
    "print(n)"
   ]
  },
  {
   "cell_type": "code",
   "execution_count": 60,
   "id": "e7654056",
   "metadata": {},
   "outputs": [
    {
     "name": "stdout",
     "output_type": "stream",
     "text": [
      "enter10 20 30 hgul 0.3\n",
      "['10', '20', '30', 'hgul', '0.3']\n",
      "10 20 30 hgul 0.3\n"
     ]
    }
   ],
   "source": [
    "s=input(\"enter\")\n",
    "print(s.split())\n",
    "print(s)"
   ]
  },
  {
   "cell_type": "code",
   "execution_count": 72,
   "id": "3d56e378",
   "metadata": {},
   "outputs": [
    {
     "name": "stdout",
     "output_type": "stream",
     "text": [
      "enter:s\n",
      "2\n",
      "3\n"
     ]
    }
   ],
   "source": [
    "s1=\"apssdc\"\n",
    "ch=input(\"enter:\")\n",
    "for i in range(0,len(s1)):\n",
    "    if s1[i]==ch:\n",
    "        print(i)"
   ]
  },
  {
   "cell_type": "code",
   "execution_count": 3,
   "id": "a82e1c2a",
   "metadata": {},
   "outputs": [
    {
     "name": "stdout",
     "output_type": "stream",
     "text": [
      "madhulatha\n",
      "mani\n"
     ]
    }
   ],
   "source": [
    "s1=\"raju madhulatha rajesh nethra mani nani aadyan\"\n",
    "# names start with char 'm'\n",
    "for i in s1.split():\n",
    "    if(i.startswith('m')):\n",
    "        print(i)"
   ]
  },
  {
   "cell_type": "code",
   "execution_count": 4,
   "id": "137743bf",
   "metadata": {},
   "outputs": [
    {
     "name": "stdout",
     "output_type": "stream",
     "text": [
      "madhulatha\n",
      "nethra\n"
     ]
    }
   ],
   "source": [
    "# names end with char a\n",
    "for i in s1.split():\n",
    "    if(i.endswith('a')):\n",
    "        print(i)"
   ]
  },
  {
   "cell_type": "code",
   "execution_count": 31,
   "id": "34f0d866",
   "metadata": {},
   "outputs": [
    {
     "name": "stdout",
     "output_type": "stream",
     "text": [
      "0 --> 2\n"
     ]
    }
   ],
   "source": [
    "# to print each char frequency\n",
    "s=\"python program\"\n",
    "for i in range(0,len(s[i])):\n",
    "    if(s[i]!=i):\n",
    "        print(i,'-->',s.count(s[i]))\n",
    "    "
   ]
  },
  {
   "cell_type": "code",
   "execution_count": 18,
   "id": "73b0b8f4",
   "metadata": {},
   "outputs": [
    {
     "name": "stdout",
     "output_type": "stream",
     "text": [
      "apyydc\n"
     ]
    }
   ],
   "source": [
    "s=\"apssdc\"\n",
    "print(s.replace('s','y'))"
   ]
  },
  {
   "cell_type": "code",
   "execution_count": 25,
   "id": "259cf882",
   "metadata": {},
   "outputs": [
    {
     "name": "stdout",
     "output_type": "stream",
     "text": [
      "pytpon\n"
     ]
    }
   ],
   "source": [
    "# translate\n",
    "s1=\"python\"\n",
    "res=str.maketrans('h','p')\n",
    "print(s1.translate(res))"
   ]
  },
  {
   "cell_type": "code",
   "execution_count": 28,
   "id": "3ada07d8",
   "metadata": {},
   "outputs": [
    {
     "name": "stdout",
     "output_type": "stream",
     "text": [
      "101\n",
      "i\n",
      "hillo\n"
     ]
    }
   ],
   "source": [
    "# using asccii value transulate data\n",
    "s1=\"hello\"\n",
    "print(ord('e'))\n",
    "print(chr(105))\n",
    "dict1={101:105}\n",
    "print(s1.translate(dict1))"
   ]
  },
  {
   "cell_type": "code",
   "execution_count": null,
   "id": "26277ae7",
   "metadata": {},
   "outputs": [],
   "source": []
  }
 ],
 "metadata": {
  "kernelspec": {
   "display_name": "Python 3 (ipykernel)",
   "language": "python",
   "name": "python3"
  },
  "language_info": {
   "codemirror_mode": {
    "name": "ipython",
    "version": 3
   },
   "file_extension": ".py",
   "mimetype": "text/x-python",
   "name": "python",
   "nbconvert_exporter": "python",
   "pygments_lexer": "ipython3",
   "version": "3.9.12"
  }
 },
 "nbformat": 4,
 "nbformat_minor": 5
}
