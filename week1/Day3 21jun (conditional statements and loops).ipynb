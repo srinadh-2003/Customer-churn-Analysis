{
 "cells": [
  {
   "cell_type": "markdown",
   "id": "11b47735",
   "metadata": {},
   "source": [
    "### Conditional statements\n",
    "* flow of execution\n",
    "* if\n",
    "* if else\n",
    "* Nested if\n",
    "* elif"
   ]
  },
  {
   "cell_type": "code",
   "execution_count": null,
   "id": "25b35f0b",
   "metadata": {},
   "outputs": [],
   "source": [
    "# if\n",
    "if test_expression:\n",
    "    statements"
   ]
  },
  {
   "cell_type": "code",
   "execution_count": 1,
   "id": "22cdc959",
   "metadata": {},
   "outputs": [
    {
     "name": "stdout",
     "output_type": "stream",
     "text": [
      "enter a num:10\n",
      "postive number\n"
     ]
    }
   ],
   "source": [
    "# program to check whether number is positive\n",
    "n=int(input(\"enter a num:\"))\n",
    "if n>0:\n",
    "    print(\"postive number\")"
   ]
  },
  {
   "cell_type": "code",
   "execution_count": null,
   "id": "f44a7f13",
   "metadata": {},
   "outputs": [],
   "source": [
    "# if else\n",
    "if condition:\n",
    "    statements\n",
    "else: \n",
    "    statements"
   ]
  },
  {
   "cell_type": "code",
   "execution_count": 4,
   "id": "2d5ee350",
   "metadata": {},
   "outputs": [
    {
     "name": "stdout",
     "output_type": "stream",
     "text": [
      "enter a num:0\n",
      "negative number\n"
     ]
    }
   ],
   "source": [
    "# program to check number is big in given 2 numbers\n",
    "m=int(input(\"enter a num:\"))\n",
    "n=int(input(\"enter a num:\"))\n",
    "if n>m:\n",
    "    print(\"n is big\")\n",
    "else:\n",
    "    print(\"m is big\")"
   ]
  },
  {
   "cell_type": "code",
   "execution_count": 6,
   "id": "15c9229d",
   "metadata": {},
   "outputs": [
    {
     "name": "stdout",
     "output_type": "stream",
     "text": [
      "enter a num:1.03\n",
      "enter b num:1.3\n",
      "enter c num:2.6\n",
      "c is large\n"
     ]
    }
   ],
   "source": [
    "#elif\n",
    "# largest of three numbers\n",
    "a=float(input(\"enter a num:\"))\n",
    "b=float(input(\"enter b num:\"))\n",
    "c=float(input(\"enter c num:\"))\n",
    "if a>b and a>c:\n",
    "    print(\"a is large\")\n",
    "elif b>a and b>c:\n",
    "    print(\"b is large\")\n",
    "else:\n",
    "    print(\"c is large\")\n",
    "    "
   ]
  },
  {
   "cell_type": "markdown",
   "id": "7a593f2d",
   "metadata": {},
   "source": [
    "nested if\n",
    "* if we write if elif inside another if elif else then it is considered as nested if"
   ]
  },
  {
   "cell_type": "code",
   "execution_count": 9,
   "id": "f5f3acf8",
   "metadata": {},
   "outputs": [
    {
     "name": "stdout",
     "output_type": "stream",
     "text": [
      "enter a number:0\n",
      "zero\n"
     ]
    }
   ],
   "source": [
    "# program to check whether the given numis positive or negative or zero\n",
    "n=int(input(\"enter a number:\"))\n",
    "if n!=0:\n",
    "    if n>0:\n",
    "        print(\"positive\")\n",
    "    else:\n",
    "        print(\"negative\")\n",
    "else:\n",
    "    print(\"zero\")"
   ]
  },
  {
   "cell_type": "code",
   "execution_count": 7,
   "id": "45888ec7",
   "metadata": {},
   "outputs": [
    {
     "name": "stdout",
     "output_type": "stream",
     "text": [
      "enter a num:5\n",
      "enter b num:5\n",
      "enter c num:5\n",
      "b is big 5.0\n"
     ]
    }
   ],
   "source": [
    "a=float(input(\"enter a num:\"))\n",
    "b=float(input(\"enter b num:\"))\n",
    "c=float(input(\"enter c num:\"))\n",
    "if a>b or b<c:\n",
    "    if a>c:\n",
    "        print(\"a is big\",a)\n",
    "    else:\n",
    "        print(\"c is big\",c)\n",
    "else:\n",
    "    print('b is big',b)\n"
   ]
  },
  {
   "cell_type": "markdown",
   "id": "8b767e50",
   "metadata": {},
   "source": [
    "#### loops\n",
    "* while\n",
    "* while with else\n",
    "* Nested while\n",
    "* for"
   ]
  },
  {
   "cell_type": "markdown",
   "id": "ccbcaef9",
   "metadata": {},
   "source": [
    "#### loop control statements\n",
    "* break\n",
    "* continue\n",
    "* pass"
   ]
  },
  {
   "cell_type": "markdown",
   "id": "5b839c60",
   "metadata": {},
   "source": [
    "#### while\n",
    "* it executes block or set of instructions until the condition is false\n",
    "* we can use this loop when we dont know number of iterations inadvance\n"
   ]
  },
  {
   "cell_type": "code",
   "execution_count": null,
   "id": "65274164",
   "metadata": {},
   "outputs": [],
   "source": [
    "#while syntax\n",
    "initialization\n",
    "while condition:\n",
    "    statements\n",
    "    increment/decrement"
   ]
  },
  {
   "cell_type": "code",
   "execution_count": 12,
   "id": "71bc7614",
   "metadata": {},
   "outputs": [
    {
     "name": "stdout",
     "output_type": "stream",
     "text": [
      "1 2 3 4 5 6 7 8 9 10 "
     ]
    }
   ],
   "source": [
    "#while\n",
    "# program to print 1 to 10 natural numbers\n",
    "i=1\n",
    "while i<=10:\n",
    "    print(i,end=\" \")\n",
    "    i+=1"
   ]
  },
  {
   "cell_type": "code",
   "execution_count": 13,
   "id": "36f49078",
   "metadata": {},
   "outputs": [
    {
     "name": "stdout",
     "output_type": "stream",
     "text": [
      "10 9 8 7 6 5 4 3 2 1 "
     ]
    }
   ],
   "source": [
    "#reverse\n",
    "i=10\n",
    "while i>=1:\n",
    "    print(i,end=\" \")\n",
    "    i-=1"
   ]
  },
  {
   "cell_type": "code",
   "execution_count": 2,
   "id": "28120a01",
   "metadata": {},
   "outputs": [
    {
     "name": "stdout",
     "output_type": "stream",
     "text": [
      "4\n",
      "10\n"
     ]
    }
   ],
   "source": [
    "n=int(input())\n",
    "sum=0\n",
    "i=1\n",
    "while i<=n:\n",
    "    sum+=i\n",
    "    i+=1\n",
    "print(sum)"
   ]
  },
  {
   "cell_type": "code",
   "execution_count": 5,
   "id": "9d58b09e",
   "metadata": {},
   "outputs": [
    {
     "name": "stdout",
     "output_type": "stream",
     "text": [
      "11 21 31 41 51 61 71 81 91 101 "
     ]
    }
   ],
   "source": [
    "# 11 21 31 41 51 61...101\n",
    "i=1\n",
    "while i<=91:\n",
    "    i+=10\n",
    "    print(i,end=\" \")"
   ]
  },
  {
   "cell_type": "code",
   "execution_count": 9,
   "id": "17192192",
   "metadata": {},
   "outputs": [
    {
     "name": "stdout",
     "output_type": "stream",
     "text": [
      "1 4 9 16 25 36 49 64 81 100 "
     ]
    }
   ],
   "source": [
    "# 1 to 10 squares\n",
    "i=1\n",
    "while i<11:\n",
    "    print(i*i,end=\" \")\n",
    "    i+=1"
   ]
  },
  {
   "cell_type": "code",
   "execution_count": 10,
   "id": "96c3af17",
   "metadata": {},
   "outputs": [
    {
     "name": "stdout",
     "output_type": "stream",
     "text": [
      "5\n",
      "15\n"
     ]
    }
   ],
   "source": [
    "n=int(input())\n",
    "i=1\n",
    "sum=0\n",
    "while i<=n:\n",
    "    sum+=i\n",
    "    i+=1\n",
    "print(sum)"
   ]
  },
  {
   "cell_type": "code",
   "execution_count": null,
   "id": "725a1295",
   "metadata": {},
   "outputs": [],
   "source": []
  },
  {
   "cell_type": "code",
   "execution_count": null,
   "id": "9f8dafa0",
   "metadata": {},
   "outputs": [],
   "source": []
  }
 ],
 "metadata": {
  "kernelspec": {
   "display_name": "Python 3 (ipykernel)",
   "language": "python",
   "name": "python3"
  },
  "language_info": {
   "codemirror_mode": {
    "name": "ipython",
    "version": 3
   },
   "file_extension": ".py",
   "mimetype": "text/x-python",
   "name": "python",
   "nbconvert_exporter": "python",
   "pygments_lexer": "ipython3",
   "version": "3.9.12"
  }
 },
 "nbformat": 4,
 "nbformat_minor": 5
}
