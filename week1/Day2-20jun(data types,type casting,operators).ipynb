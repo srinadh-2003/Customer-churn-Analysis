{
 "cells": [
  {
   "cell_type": "markdown",
   "id": "0b9cb7ae",
   "metadata": {},
   "source": [
    "### create link to a image\n",
    "* download image and save with extension in same folder where we are working with folder\n",
    "* syn: [image title](imagename.extension)\n",
    "\n",
    ".[Python].(python.jpg)"
   ]
  },
  {
   "cell_type": "code",
   "execution_count": null,
   "id": "968a8654",
   "metadata": {},
   "outputs": [],
   "source": [
    "### adding images in markdown\n",
    "\n",
    "<img src=\"python.jpg\"  style=\"height:100px;width:100px;\">"
   ]
  },
  {
   "cell_type": "markdown",
   "id": "43911d74",
   "metadata": {},
   "source": [
    "### Data types"
   ]
  },
  {
   "cell_type": "code",
   "execution_count": 2,
   "id": "445180c5",
   "metadata": {},
   "outputs": [
    {
     "data": {
      "text/plain": [
       "int"
      ]
     },
     "execution_count": 2,
     "metadata": {},
     "output_type": "execute_result"
    }
   ],
   "source": [
    "a=2\n",
    "type(a)"
   ]
  },
  {
   "cell_type": "code",
   "execution_count": 23,
   "id": "058a87a5",
   "metadata": {},
   "outputs": [
    {
     "data": {
      "text/plain": [
       "bool"
      ]
     },
     "execution_count": 23,
     "metadata": {},
     "output_type": "execute_result"
    }
   ],
   "source": [
    "d=bool(\"abc\")\n",
    "type(d)"
   ]
  },
  {
   "cell_type": "code",
   "execution_count": 2,
   "id": "53ce4725",
   "metadata": {},
   "outputs": [
    {
     "data": {
      "text/plain": [
       "float"
      ]
     },
     "execution_count": 2,
     "metadata": {},
     "output_type": "execute_result"
    }
   ],
   "source": [
    "b=2.5\n",
    "type(b)"
   ]
  },
  {
   "cell_type": "code",
   "execution_count": 4,
   "id": "ea53e0ab",
   "metadata": {},
   "outputs": [
    {
     "data": {
      "text/plain": [
       "str"
      ]
     },
     "execution_count": 4,
     "metadata": {},
     "output_type": "execute_result"
    }
   ],
   "source": [
    "c=\"jam\"\n",
    "type(c)"
   ]
  },
  {
   "cell_type": "code",
   "execution_count": 9,
   "id": "9bc80d6c",
   "metadata": {},
   "outputs": [
    {
     "data": {
      "text/plain": [
       "complex"
      ]
     },
     "execution_count": 9,
     "metadata": {},
     "output_type": "execute_result"
    }
   ],
   "source": [
    "d=2+3j\n",
    "type(d)"
   ]
  },
  {
   "cell_type": "markdown",
   "id": "affacb59",
   "metadata": {},
   "source": [
    "### Variables\n",
    "* it store data of different types"
   ]
  },
  {
   "cell_type": "code",
   "execution_count": 10,
   "id": "529dd2fe",
   "metadata": {},
   "outputs": [],
   "source": [
    "val=10\n"
   ]
  },
  {
   "cell_type": "markdown",
   "id": "24ac7f3f",
   "metadata": {},
   "source": [
    "###  Type casting"
   ]
  },
  {
   "cell_type": "code",
   "execution_count": 11,
   "id": "c8bb7df6",
   "metadata": {},
   "outputs": [
    {
     "name": "stdout",
     "output_type": "stream",
     "text": [
      "enter a value:10\n",
      "10\n"
     ]
    }
   ],
   "source": [
    "x=input(\"enter a value:\")\n",
    "print(x)"
   ]
  },
  {
   "cell_type": "code",
   "execution_count": 12,
   "id": "f065af85",
   "metadata": {},
   "outputs": [
    {
     "data": {
      "text/plain": [
       "str"
      ]
     },
     "execution_count": 12,
     "metadata": {},
     "output_type": "execute_result"
    }
   ],
   "source": [
    "type(x)"
   ]
  },
  {
   "cell_type": "code",
   "execution_count": 15,
   "id": "a8bb0f69",
   "metadata": {},
   "outputs": [
    {
     "name": "stdout",
     "output_type": "stream",
     "text": [
      "<class 'int'>\n"
     ]
    }
   ],
   "source": [
    "y=int(x)\n",
    "print(type(y))"
   ]
  },
  {
   "cell_type": "code",
   "execution_count": 13,
   "id": "f0a260da",
   "metadata": {},
   "outputs": [
    {
     "name": "stdout",
     "output_type": "stream",
     "text": [
      "10\n",
      "<class 'int'>\n"
     ]
    }
   ],
   "source": [
    "# float to int\n",
    "a=10.5\n",
    "b=int(a)\n",
    "print(b)\n",
    "print(type(b))"
   ]
  },
  {
   "cell_type": "code",
   "execution_count": 14,
   "id": "02a19947",
   "metadata": {},
   "outputs": [
    {
     "data": {
      "text/plain": [
       "'908890'"
      ]
     },
     "execution_count": 14,
     "metadata": {},
     "output_type": "execute_result"
    }
   ],
   "source": [
    "\"908\"+\"890\""
   ]
  },
  {
   "cell_type": "code",
   "execution_count": 3,
   "id": "bffb1d76",
   "metadata": {},
   "outputs": [
    {
     "data": {
      "text/plain": [
       "'name20'"
      ]
     },
     "execution_count": 3,
     "metadata": {},
     "output_type": "execute_result"
    }
   ],
   "source": [
    "\"name\"+str(20)"
   ]
  },
  {
   "cell_type": "markdown",
   "id": "bee769bd",
   "metadata": {},
   "source": [
    "### Operators\n",
    "* Airthmetic operators(+,-,*,/,//,%)\n",
    "* Assignment operators(=,+=,-=,%=,/=,//=)\n",
    "* Comparison operators(==,<=,>=,<,>,!=)\n",
    "* Logical operators(and,or,not)\n",
    "* Bitwise operators\n",
    "* Identity operators\n",
    "* Membership operators"
   ]
  },
  {
   "cell_type": "code",
   "execution_count": 21,
   "id": "1a3b2204",
   "metadata": {},
   "outputs": [
    {
     "name": "stdout",
     "output_type": "stream",
     "text": [
      "enter a:10\n",
      "enter b:20\n"
     ]
    },
    {
     "data": {
      "text/plain": [
       "30"
      ]
     },
     "execution_count": 21,
     "metadata": {},
     "output_type": "execute_result"
    }
   ],
   "source": [
    "a=int(input(\"enter a:\"))\n",
    "b=int(input(\"enter b:\"))\n",
    "c=a+b\n",
    "c"
   ]
  },
  {
   "cell_type": "code",
   "execution_count": 22,
   "id": "543f9bd2",
   "metadata": {},
   "outputs": [
    {
     "data": {
      "text/plain": [
       "200"
      ]
     },
     "execution_count": 22,
     "metadata": {},
     "output_type": "execute_result"
    }
   ],
   "source": [
    "a*b"
   ]
  },
  {
   "cell_type": "code",
   "execution_count": 23,
   "id": "240f7160",
   "metadata": {},
   "outputs": [
    {
     "data": {
      "text/plain": [
       "0.5"
      ]
     },
     "execution_count": 23,
     "metadata": {},
     "output_type": "execute_result"
    }
   ],
   "source": [
    "# divison\n",
    "a/b"
   ]
  },
  {
   "cell_type": "code",
   "execution_count": 10,
   "id": "d34bbf6d",
   "metadata": {},
   "outputs": [
    {
     "data": {
      "text/plain": [
       "2"
      ]
     },
     "execution_count": 10,
     "metadata": {},
     "output_type": "execute_result"
    }
   ],
   "source": [
    "#floor divison(quotient)\n",
    "a=8\n",
    "b=3\n",
    "a//b"
   ]
  },
  {
   "cell_type": "code",
   "execution_count": 11,
   "id": "9bef0384",
   "metadata": {},
   "outputs": [
    {
     "data": {
      "text/plain": [
       "64"
      ]
     },
     "execution_count": 11,
     "metadata": {},
     "output_type": "execute_result"
    }
   ],
   "source": [
    "a**2"
   ]
  },
  {
   "cell_type": "code",
   "execution_count": 13,
   "id": "6d1e3cff",
   "metadata": {},
   "outputs": [
    {
     "data": {
      "text/plain": [
       "1"
      ]
     },
     "execution_count": 13,
     "metadata": {},
     "output_type": "execute_result"
    }
   ],
   "source": [
    "#modulo(remainder)\n",
    "b%2"
   ]
  },
  {
   "cell_type": "markdown",
   "id": "66cdd80c",
   "metadata": {},
   "source": [
    "#### logical operators"
   ]
  },
  {
   "cell_type": "code",
   "execution_count": 32,
   "id": "13336aad",
   "metadata": {},
   "outputs": [
    {
     "data": {
      "text/plain": [
       "True"
      ]
     },
     "execution_count": 32,
     "metadata": {},
     "output_type": "execute_result"
    }
   ],
   "source": [
    "a=10\n",
    "a>5 and a<20"
   ]
  },
  {
   "cell_type": "code",
   "execution_count": 33,
   "id": "1ba9791d",
   "metadata": {},
   "outputs": [
    {
     "data": {
      "text/plain": [
       "False"
      ]
     },
     "execution_count": 33,
     "metadata": {},
     "output_type": "execute_result"
    }
   ],
   "source": [
    "#both stat must be true\n",
    "a<5 and a<20"
   ]
  },
  {
   "cell_type": "code",
   "execution_count": 34,
   "id": "9b0a38f1",
   "metadata": {},
   "outputs": [
    {
     "data": {
      "text/plain": [
       "True"
      ]
     },
     "execution_count": 34,
     "metadata": {},
     "output_type": "execute_result"
    }
   ],
   "source": [
    "#any one of them is true enough\n",
    "a<5 or a<20"
   ]
  },
  {
   "cell_type": "code",
   "execution_count": 36,
   "id": "e0ab92e4",
   "metadata": {},
   "outputs": [
    {
     "data": {
      "text/plain": [
       "False"
      ]
     },
     "execution_count": 36,
     "metadata": {},
     "output_type": "execute_result"
    }
   ],
   "source": [
    "#not(reverse the result)\n",
    "b=3\n",
    "not(b<5)"
   ]
  },
  {
   "cell_type": "markdown",
   "id": "41551d47",
   "metadata": {},
   "source": [
    "#### comparison operators"
   ]
  },
  {
   "cell_type": "code",
   "execution_count": 39,
   "id": "03e8cc37",
   "metadata": {},
   "outputs": [
    {
     "data": {
      "text/plain": [
       "False"
      ]
     },
     "execution_count": 39,
     "metadata": {},
     "output_type": "execute_result"
    }
   ],
   "source": [
    "x=70\n",
    "y=80\n",
    "x>y"
   ]
  },
  {
   "cell_type": "code",
   "execution_count": 40,
   "id": "297cf377",
   "metadata": {},
   "outputs": [
    {
     "data": {
      "text/plain": [
       "True"
      ]
     },
     "execution_count": 40,
     "metadata": {},
     "output_type": "execute_result"
    }
   ],
   "source": [
    "x<y"
   ]
  },
  {
   "cell_type": "code",
   "execution_count": 41,
   "id": "4030e151",
   "metadata": {},
   "outputs": [
    {
     "data": {
      "text/plain": [
       "True"
      ]
     },
     "execution_count": 41,
     "metadata": {},
     "output_type": "execute_result"
    }
   ],
   "source": [
    "x<=y"
   ]
  },
  {
   "cell_type": "code",
   "execution_count": 42,
   "id": "e44d7852",
   "metadata": {},
   "outputs": [
    {
     "data": {
      "text/plain": [
       "False"
      ]
     },
     "execution_count": 42,
     "metadata": {},
     "output_type": "execute_result"
    }
   ],
   "source": [
    "x==y"
   ]
  },
  {
   "cell_type": "code",
   "execution_count": 43,
   "id": "f90147db",
   "metadata": {},
   "outputs": [
    {
     "data": {
      "text/plain": [
       "True"
      ]
     },
     "execution_count": 43,
     "metadata": {},
     "output_type": "execute_result"
    }
   ],
   "source": [
    "x!=y"
   ]
  },
  {
   "cell_type": "markdown",
   "id": "65b34027",
   "metadata": {},
   "source": [
    "#### assignment operators\n",
    "* used to assign variables"
   ]
  },
  {
   "cell_type": "code",
   "execution_count": 47,
   "id": "cee018cf",
   "metadata": {},
   "outputs": [
    {
     "data": {
      "text/plain": [
       "15"
      ]
     },
     "execution_count": 47,
     "metadata": {},
     "output_type": "execute_result"
    }
   ],
   "source": [
    "x=10\n",
    "x+=5\n",
    "x"
   ]
  },
  {
   "cell_type": "code",
   "execution_count": 48,
   "id": "b0a0beca",
   "metadata": {},
   "outputs": [
    {
     "data": {
      "text/plain": [
       "13"
      ]
     },
     "execution_count": 48,
     "metadata": {},
     "output_type": "execute_result"
    }
   ],
   "source": [
    "x-=2\n",
    "x"
   ]
  },
  {
   "cell_type": "code",
   "execution_count": 49,
   "id": "49bcbd7f",
   "metadata": {},
   "outputs": [
    {
     "data": {
      "text/plain": [
       "65"
      ]
     },
     "execution_count": 49,
     "metadata": {},
     "output_type": "execute_result"
    }
   ],
   "source": [
    "x*=5\n",
    "x"
   ]
  },
  {
   "cell_type": "code",
   "execution_count": 50,
   "id": "8eb393d0",
   "metadata": {},
   "outputs": [
    {
     "data": {
      "text/plain": [
       "32.5"
      ]
     },
     "execution_count": 50,
     "metadata": {},
     "output_type": "execute_result"
    }
   ],
   "source": [
    "x/=2\n",
    "x"
   ]
  },
  {
   "cell_type": "code",
   "execution_count": 51,
   "id": "d97de2ed",
   "metadata": {},
   "outputs": [
    {
     "data": {
      "text/plain": [
       "0.5"
      ]
     },
     "execution_count": 51,
     "metadata": {},
     "output_type": "execute_result"
    }
   ],
   "source": [
    "x%=2\n",
    "x"
   ]
  },
  {
   "cell_type": "code",
   "execution_count": 14,
   "id": "ae8e0a7e",
   "metadata": {},
   "outputs": [
    {
     "data": {
      "text/plain": [
       "2"
      ]
     },
     "execution_count": 14,
     "metadata": {},
     "output_type": "execute_result"
    }
   ],
   "source": [
    "x=8\n",
    "x//=3\n",
    "x"
   ]
  },
  {
   "cell_type": "markdown",
   "id": "e7490bf9",
   "metadata": {},
   "source": [
    "#### Identity operators"
   ]
  },
  {
   "cell_type": "code",
   "execution_count": 11,
   "id": "25703713",
   "metadata": {},
   "outputs": [
    {
     "name": "stdout",
     "output_type": "stream",
     "text": [
      "True\n"
     ]
    },
    {
     "name": "stderr",
     "output_type": "stream",
     "text": [
      "<>:2: SyntaxWarning: \"is\" with a literal. Did you mean \"==\"?\n",
      "<>:2: SyntaxWarning: \"is\" with a literal. Did you mean \"==\"?\n",
      "C:\\Users\\srinadh\\AppData\\Local\\Temp\\ipykernel_15280\\2272390243.py:2: SyntaxWarning: \"is\" with a literal. Did you mean \"==\"?\n",
      "  print(x is 10)\n"
     ]
    }
   ],
   "source": [
    "x=10\n",
    "print(x is 10)"
   ]
  },
  {
   "cell_type": "code",
   "execution_count": 9,
   "id": "f5c1c7cd",
   "metadata": {},
   "outputs": [
    {
     "name": "stdout",
     "output_type": "stream",
     "text": [
      "True\n",
      "False\n",
      "True\n"
     ]
    }
   ],
   "source": [
    "# is\n",
    "a=[\"kal\",\"ram\"]\n",
    "b=[\"kal\",\"ram\"]\n",
    "c=a\n",
    "print(b == a)\n",
    "print(b is a)\n",
    "print(c is a)"
   ]
  },
  {
   "cell_type": "code",
   "execution_count": 12,
   "id": "ac91227e",
   "metadata": {},
   "outputs": [
    {
     "name": "stdout",
     "output_type": "stream",
     "text": [
      "True\n",
      "False\n",
      "True\n"
     ]
    }
   ],
   "source": [
    "# is not\n",
    "print(a is not b)\n",
    "print(c is not a)\n",
    "print(b==a)"
   ]
  },
  {
   "cell_type": "markdown",
   "id": "aa0160ad",
   "metadata": {},
   "source": [
    "#### Membership operator(in ,not in)"
   ]
  },
  {
   "cell_type": "code",
   "execution_count": 15,
   "id": "8578ace9",
   "metadata": {},
   "outputs": [
    {
     "data": {
      "text/plain": [
       "True"
      ]
     },
     "execution_count": 15,
     "metadata": {},
     "output_type": "execute_result"
    }
   ],
   "source": [
    "name=\"srinadh\"\n",
    "'d' in name"
   ]
  },
  {
   "cell_type": "code",
   "execution_count": 14,
   "id": "e3a6665a",
   "metadata": {},
   "outputs": [
    {
     "name": "stdout",
     "output_type": "stream",
     "text": [
      "True\n"
     ]
    }
   ],
   "source": [
    "print('k' not in name)"
   ]
  },
  {
   "cell_type": "code",
   "execution_count": 16,
   "id": "1e7fa421",
   "metadata": {},
   "outputs": [
    {
     "name": "stdout",
     "output_type": "stream",
     "text": [
      "True\n",
      "False\n"
     ]
    }
   ],
   "source": [
    "str=[\"emily\",\"kamal\",\"lam\"]\n",
    "print(\"lam\" in str)\n",
    "print(\"kam\" in str)"
   ]
  },
  {
   "cell_type": "markdown",
   "id": "4eb3596d",
   "metadata": {},
   "source": [
    "#### Bitwise operator(&,|,^,<<,>>)"
   ]
  },
  {
   "cell_type": "code",
   "execution_count": 17,
   "id": "ff8a8d45",
   "metadata": {},
   "outputs": [
    {
     "name": "stdout",
     "output_type": "stream",
     "text": [
      "2\n"
     ]
    }
   ],
   "source": [
    "print(3 & 2)"
   ]
  },
  {
   "cell_type": "code",
   "execution_count": 19,
   "id": "4cfc9c3d",
   "metadata": {},
   "outputs": [
    {
     "name": "stdout",
     "output_type": "stream",
     "text": [
      "3\n"
     ]
    }
   ],
   "source": [
    "print(3 | 2)"
   ]
  },
  {
   "cell_type": "code",
   "execution_count": 20,
   "id": "47021404",
   "metadata": {
    "scrolled": true
   },
   "outputs": [
    {
     "name": "stdout",
     "output_type": "stream",
     "text": [
      "1\n"
     ]
    }
   ],
   "source": [
    "print(2^3)"
   ]
  },
  {
   "cell_type": "code",
   "execution_count": 17,
   "id": "c8093274",
   "metadata": {},
   "outputs": [
    {
     "name": "stdout",
     "output_type": "stream",
     "text": [
      "16\n"
     ]
    }
   ],
   "source": [
    "print(2<<3)"
   ]
  },
  {
   "cell_type": "code",
   "execution_count": 2,
   "id": "0a55402c",
   "metadata": {},
   "outputs": [
    {
     "name": "stdout",
     "output_type": "stream",
     "text": [
      "0\n"
     ]
    }
   ],
   "source": [
    "print(2>>3)"
   ]
  },
  {
   "cell_type": "code",
   "execution_count": null,
   "id": "f3cce5fe",
   "metadata": {},
   "outputs": [],
   "source": []
  }
 ],
 "metadata": {
  "kernelspec": {
   "display_name": "Python 3 (ipykernel)",
   "language": "python",
   "name": "python3"
  },
  "language_info": {
   "codemirror_mode": {
    "name": "ipython",
    "version": 3
   },
   "file_extension": ".py",
   "mimetype": "text/x-python",
   "name": "python",
   "nbconvert_exporter": "python",
   "pygments_lexer": "ipython3",
   "version": "3.9.12"
  }
 },
 "nbformat": 4,
 "nbformat_minor": 5
}
