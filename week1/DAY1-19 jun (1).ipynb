{
 "cells": [
  {
   "cell_type": "markdown",
   "id": "64181aaf",
   "metadata": {},
   "source": [
    "\n",
    "markdown is a lightweight markup lang that make easy to write formatted content.\n"
   ]
  },
  {
   "cell_type": "markdown",
   "id": "744a4eb0",
   "metadata": {},
   "source": [
    "### Shortcuts\n",
    "* esc+m ->coding cell to markdown\n",
    "* esc+y ->mark to code \n",
    "* esc+a :creste new cell above\n",
    "* esc+b ;create new cell below\n",
    "* esc+h :shortcuts"
   ]
  },
  {
   "cell_type": "code",
   "execution_count": null,
   "id": "7ddeeea2",
   "metadata": {},
   "outputs": [],
   "source": [
    "# Heading"
   ]
  },
  {
   "cell_type": "code",
   "execution_count": null,
   "id": "1b51a9e1",
   "metadata": {},
   "outputs": [],
   "source": [
    "### Styling text\n",
    "\n",
    "**Welcome to the world!!!**  -> ctrl+b\n",
    "*PYTHON Programming ->ctrl+i\n",
    "***This is bold and italic***\n",
    "~~This is strike through~~"
   ]
  },
  {
   "cell_type": "markdown",
   "id": "f0ad8980",
   "metadata": {},
   "source": [
    "### Unordered list:\n",
    "* cities\n",
    "   * vijaywada\n",
    "   * guntur\n",
    "   * martur\n",
    "### Ordered list:\n",
    "* 1.cse\n",
    "* 2.ece\n",
    "* 3.eee\n",
    "* 4.mec\n",
    "* 5.civil"
   ]
  },
  {
   "cell_type": "code",
   "execution_count": null,
   "id": "33274ab0",
   "metadata": {},
   "outputs": [],
   "source": [
    "### inserting a link.\n",
    "\n",
    ".[Google.com].(https://www.google.com)\n",
    "\n",
    ".[gmail.com].(https://www.gmail.com)\n",
    "\n",
    ".[google.com].(https://www.google.com)"
   ]
  },
  {
   "cell_type": "code",
   "execution_count": null,
   "id": "cff0682c",
   "metadata": {},
   "outputs": [],
   "source": []
  },
  {
   "cell_type": "code",
   "execution_count": null,
   "id": "a31a4149",
   "metadata": {},
   "outputs": [],
   "source": []
  },
  {
   "cell_type": "markdown",
   "id": "8183a713",
   "metadata": {},
   "source": []
  }
 ],
 "metadata": {
  "kernelspec": {
   "display_name": "Python 3 (ipykernel)",
   "language": "python",
   "name": "python3"
  },
  "language_info": {
   "codemirror_mode": {
    "name": "ipython",
    "version": 3
   },
   "file_extension": ".py",
   "mimetype": "text/x-python",
   "name": "python",
   "nbconvert_exporter": "python",
   "pygments_lexer": "ipython3",
   "version": "3.9.12"
  }
 },
 "nbformat": 4,
 "nbformat_minor": 5
}
