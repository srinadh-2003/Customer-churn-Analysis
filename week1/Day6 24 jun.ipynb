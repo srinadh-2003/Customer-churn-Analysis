{
 "cells": [
  {
   "cell_type": "markdown",
   "id": "e3f970bc",
   "metadata": {},
   "source": [
    "#### Data structures\n",
    "* data structures are a way of organizing and storing data\n",
    "* we have 4 types of ds in python\n",
    "   * list\n",
    "   * tuples\n",
    "   * dictionary\n",
    "   * sets"
   ]
  },
  {
   "cell_type": "markdown",
   "id": "2492f55b",
   "metadata": {},
   "source": [
    "#### lists\n",
    "* it is a ordered collection of items,which contains data of similar type or different data types\n",
    "* allows duplicates\n",
    "* mutable(we can change items inside a list after creation of list)\n",
    "* list are created by using[]"
   ]
  },
  {
   "cell_type": "code",
   "execution_count": 2,
   "id": "888c66cf",
   "metadata": {},
   "outputs": [
    {
     "data": {
      "text/plain": [
       "list"
      ]
     },
     "execution_count": 2,
     "metadata": {},
     "output_type": "execute_result"
    }
   ],
   "source": [
    "#empty list\n",
    "l=[]\n",
    "type(l)"
   ]
  },
  {
   "cell_type": "code",
   "execution_count": 3,
   "id": "66b7a7ea",
   "metadata": {},
   "outputs": [
    {
     "data": {
      "text/plain": [
       "list"
      ]
     },
     "execution_count": 3,
     "metadata": {},
     "output_type": "execute_result"
    }
   ],
   "source": [
    "l1=list()\n",
    "type(l1)"
   ]
  },
  {
   "cell_type": "code",
   "execution_count": 4,
   "id": "558611be",
   "metadata": {},
   "outputs": [
    {
     "name": "stdout",
     "output_type": "stream",
     "text": [
      "[1, 2, 'lam', 2.3]\n"
     ]
    }
   ],
   "source": [
    "l=[1,2,\"lam\",2.3]\n",
    "print(l)"
   ]
  },
  {
   "cell_type": "code",
   "execution_count": 11,
   "id": "df9b2572",
   "metadata": {},
   "outputs": [
    {
     "name": "stdout",
     "output_type": "stream",
     "text": [
      "4\n",
      "10.4\n",
      "2\n",
      "27.4\n",
      "[2, 6, 9, 10.4]\n"
     ]
    }
   ],
   "source": [
    "l=[9,2,6,10.4]\n",
    "print(len(l))\n",
    "print(max(l))\n",
    "print(min(l))\n",
    "print(sum(l))\n",
    "print(sorted(l))"
   ]
  },
  {
   "cell_type": "code",
   "execution_count": 15,
   "id": "ac5c596c",
   "metadata": {},
   "outputs": [
    {
     "name": "stdout",
     "output_type": "stream",
     "text": [
      "32\n",
      "37\n",
      "32\n"
     ]
    }
   ],
   "source": [
    "#accessing elements inside list\n",
    "l1=[10,32,54,68,37]\n",
    "print(l1[1])#forwrd indexing\n",
    "print(l1[-1])\n",
    "print(l1[-4])#backward indexing"
   ]
  },
  {
   "cell_type": "code",
   "execution_count": 19,
   "id": "3892cea7",
   "metadata": {},
   "outputs": [
    {
     "name": "stdout",
     "output_type": "stream",
     "text": [
      "10\n",
      "54\n",
      "37\n"
     ]
    }
   ],
   "source": [
    "l1=[10,32,54,68,37]\n",
    "for i in range(0,len(l1),2):\n",
    "    print(l1[i])"
   ]
  },
  {
   "cell_type": "code",
   "execution_count": 20,
   "id": "3a221ed3",
   "metadata": {},
   "outputs": [
    {
     "data": {
      "text/plain": [
       "[10, 54, 37]"
      ]
     },
     "execution_count": 20,
     "metadata": {},
     "output_type": "execute_result"
    }
   ],
   "source": [
    "l1[0:len(l1)+1:2]# slicing"
   ]
  },
  {
   "cell_type": "code",
   "execution_count": 22,
   "id": "634ad53b",
   "metadata": {},
   "outputs": [
    {
     "data": {
      "text/plain": [
       "[32, 68]"
      ]
     },
     "execution_count": 22,
     "metadata": {},
     "output_type": "execute_result"
    }
   ],
   "source": [
    "l1[1::2]"
   ]
  },
  {
   "cell_type": "code",
   "execution_count": 23,
   "id": "4e2ce1f3",
   "metadata": {},
   "outputs": [
    {
     "data": {
      "text/plain": [
       "[37, 68, 54, 32, 10]"
      ]
     },
     "execution_count": 23,
     "metadata": {},
     "output_type": "execute_result"
    }
   ],
   "source": [
    "#reverse order\n",
    "l1[::-1]"
   ]
  },
  {
   "cell_type": "code",
   "execution_count": 24,
   "id": "27746a6c",
   "metadata": {},
   "outputs": [
    {
     "data": {
      "text/plain": [
       "[1, 2, 3, 4, 5, 6]"
      ]
     },
     "execution_count": 24,
     "metadata": {},
     "output_type": "execute_result"
    }
   ],
   "source": [
    "# concatenation\n",
    "l1=[1,2,3]\n",
    "l2=[4,5,6]\n",
    "l3=l1+l2\n",
    "l3"
   ]
  },
  {
   "cell_type": "code",
   "execution_count": 27,
   "id": "6feb9501",
   "metadata": {},
   "outputs": [
    {
     "name": "stdout",
     "output_type": "stream",
     "text": [
      "[1, 2, 3, 1, 2, 3, 1, 2, 3]\n",
      "[4, 5, 6, 4, 5, 6]\n"
     ]
    }
   ],
   "source": [
    "# repetition\n",
    "print(l1*3)\n",
    "print(l2*2)"
   ]
  },
  {
   "cell_type": "code",
   "execution_count": 28,
   "id": "d53e04c9",
   "metadata": {},
   "outputs": [
    {
     "data": {
      "text/plain": [
       "[1, 5, 9, [10, 20, 30], 'python']"
      ]
     },
     "execution_count": 28,
     "metadata": {},
     "output_type": "execute_result"
    }
   ],
   "source": [
    "# nested list\n",
    "l=[1,5,9,[10,20,30],'python']\n",
    "l"
   ]
  },
  {
   "cell_type": "code",
   "execution_count": 30,
   "id": "6ddf602e",
   "metadata": {},
   "outputs": [
    {
     "name": "stdout",
     "output_type": "stream",
     "text": [
      "[10, 20, 30]\n",
      "20\n"
     ]
    }
   ],
   "source": [
    "# access nested list items\n",
    "print(l[3])\n",
    "print(l[3][1])"
   ]
  },
  {
   "cell_type": "code",
   "execution_count": 31,
   "id": "fceaa60c",
   "metadata": {},
   "outputs": [
    {
     "data": {
      "text/plain": [
       "[1, 5, 9, [10, 20, 30], 70]"
      ]
     },
     "execution_count": 31,
     "metadata": {},
     "output_type": "execute_result"
    }
   ],
   "source": [
    "l[4]=70\n",
    "l # list is mutable"
   ]
  },
  {
   "cell_type": "code",
   "execution_count": 32,
   "id": "3b7c1d08",
   "metadata": {},
   "outputs": [
    {
     "name": "stdout",
     "output_type": "stream",
     "text": [
      "['__add__', '__class__', '__class_getitem__', '__contains__', '__delattr__', '__delitem__', '__dir__', '__doc__', '__eq__', '__format__', '__ge__', '__getattribute__', '__getitem__', '__gt__', '__hash__', '__iadd__', '__imul__', '__init__', '__init_subclass__', '__iter__', '__le__', '__len__', '__lt__', '__mul__', '__ne__', '__new__', '__reduce__', '__reduce_ex__', '__repr__', '__reversed__', '__rmul__', '__setattr__', '__setitem__', '__sizeof__', '__str__', '__subclasshook__', 'append', 'clear', 'copy', 'count', 'extend', 'index', 'insert', 'pop', 'remove', 'reverse', 'sort']\n"
     ]
    }
   ],
   "source": [
    "print(dir(list))"
   ]
  },
  {
   "cell_type": "code",
   "execution_count": 37,
   "id": "77ab6f43",
   "metadata": {},
   "outputs": [
    {
     "name": "stdout",
     "output_type": "stream",
     "text": [
      "[1, 2, 3, 4, 5, 6]\n"
     ]
    }
   ],
   "source": [
    "l=[1,2,3,4,5]\n",
    "l.append(6)\n",
    "print(l)"
   ]
  },
  {
   "cell_type": "code",
   "execution_count": 1,
   "id": "0eb573b3",
   "metadata": {},
   "outputs": [
    {
     "name": "stdout",
     "output_type": "stream",
     "text": [
      "enter elements:4\n",
      "10\n",
      "20\n",
      "30\n",
      "40\n",
      "[10, 20, 30, 40]\n"
     ]
    }
   ],
   "source": [
    "# take input from user\n",
    "l=[]\n",
    "n=int(input(\"enter elements:\"))\n",
    "for i in range(0,n):\n",
    "    e=int(input())\n",
    "    l.append(e)\n",
    "print(l)        "
   ]
  },
  {
   "cell_type": "code",
   "execution_count": 9,
   "id": "f8b3801b",
   "metadata": {},
   "outputs": [
    {
     "name": "stdout",
     "output_type": "stream",
     "text": [
      "[1, 2, 10, 3, 4, 5]\n"
     ]
    }
   ],
   "source": [
    "l1=[1,2,3,4,5]\n",
    "l1.insert(2,10)\n",
    "print(l1)"
   ]
  },
  {
   "cell_type": "code",
   "execution_count": 11,
   "id": "0bc04022",
   "metadata": {},
   "outputs": [
    {
     "data": {
      "text/plain": [
       "[1, 2, 10, 3, 4, 5, 60, 70, 80, 60, 70, 10]"
      ]
     },
     "execution_count": 11,
     "metadata": {},
     "output_type": "execute_result"
    }
   ],
   "source": [
    "l1.extend([60,70,80,60,70,10])\n",
    "l1"
   ]
  },
  {
   "cell_type": "code",
   "execution_count": 12,
   "id": "c091d7ee",
   "metadata": {},
   "outputs": [
    {
     "data": {
      "text/plain": [
       "2"
      ]
     },
     "execution_count": 12,
     "metadata": {},
     "output_type": "execute_result"
    }
   ],
   "source": [
    "l1.count(10)"
   ]
  },
  {
   "cell_type": "code",
   "execution_count": 13,
   "id": "359afa74",
   "metadata": {},
   "outputs": [
    {
     "data": {
      "text/plain": [
       "[1, 2, 3, 4, 5, [60, 70, 10]]"
      ]
     },
     "execution_count": 13,
     "metadata": {},
     "output_type": "execute_result"
    }
   ],
   "source": [
    "# add an element at the end of the list\n",
    "l1=[1,2,3,4,5]\n",
    "l1.append([60,70,10])\n",
    "l1"
   ]
  },
  {
   "cell_type": "code",
   "execution_count": 15,
   "id": "2e5669f6",
   "metadata": {},
   "outputs": [
    {
     "data": {
      "text/plain": [
       "[1, 3, 4, 5, [60, 70, 10]]"
      ]
     },
     "execution_count": 15,
     "metadata": {},
     "output_type": "execute_result"
    }
   ],
   "source": [
    "# remove element\n",
    "l1.remove(2)\n",
    "l1"
   ]
  },
  {
   "cell_type": "code",
   "execution_count": 16,
   "id": "647eb0aa",
   "metadata": {},
   "outputs": [
    {
     "data": {
      "text/plain": [
       "[3, 4, 5, [60, 70, 10]]"
      ]
     },
     "execution_count": 16,
     "metadata": {},
     "output_type": "execute_result"
    }
   ],
   "source": [
    "#remove specified position element\n",
    "l1.pop(0)\n",
    "l1"
   ]
  },
  {
   "cell_type": "code",
   "execution_count": 18,
   "id": "c5aa8fc0",
   "metadata": {},
   "outputs": [
    {
     "name": "stdout",
     "output_type": "stream",
     "text": [
      "[7, 5, 2, 1]\n",
      "[7, 5, 2, 1]\n"
     ]
    }
   ],
   "source": [
    "l=[1,2,5,7]\n",
    "l.reverse()\n",
    "print(l)\n",
    "l=[1,2,5,7]\n",
    "print(l[::-1])"
   ]
  },
  {
   "cell_type": "code",
   "execution_count": 19,
   "id": "75f4368a",
   "metadata": {},
   "outputs": [
    {
     "name": "stdout",
     "output_type": "stream",
     "text": [
      "increasing order: [1, 2, 5, 7]\n",
      "decreasing order: [7, 5, 2, 1]\n"
     ]
    }
   ],
   "source": [
    "l=[1,2,5,7]\n",
    "l.sort()\n",
    "print(\"increasing order:\",l)\n",
    "l.sort(reverse=True)\n",
    "print(\"decreasing order:\",l)"
   ]
  },
  {
   "cell_type": "code",
   "execution_count": 20,
   "id": "053f941d",
   "metadata": {},
   "outputs": [
    {
     "name": "stdout",
     "output_type": "stream",
     "text": [
      "True\n"
     ]
    }
   ],
   "source": [
    "#identity\n",
    "print(2 in l)"
   ]
  },
  {
   "cell_type": "code",
   "execution_count": 22,
   "id": "a85da2cc",
   "metadata": {},
   "outputs": [
    {
     "name": "stdout",
     "output_type": "stream",
     "text": [
      "[1, 2, 3]\n",
      "[1, 2, 3]\n",
      "[1, 2, 3, 4]\n",
      "[1, 2, 3, 4]\n"
     ]
    }
   ],
   "source": [
    "#assignment\n",
    "l=[1,2,3]\n",
    "a=l\n",
    "print(l)\n",
    "print(a)\n",
    "a.append(4)\n",
    "print(l)\n",
    "print(a)"
   ]
  },
  {
   "cell_type": "code",
   "execution_count": 23,
   "id": "24908416",
   "metadata": {},
   "outputs": [
    {
     "name": "stdout",
     "output_type": "stream",
     "text": [
      "[1, 2, 3]\n",
      "[1, 2, 3]\n",
      "[1, 2, 3]\n",
      "[1, 2, 3, 4]\n"
     ]
    }
   ],
   "source": [
    "# copy\n",
    "l=[1,2,3]\n",
    "a=l.copy()\n",
    "print(l)\n",
    "print(a)\n",
    "a.append(4)\n",
    "print(l)\n",
    "print(a)"
   ]
  },
  {
   "cell_type": "code",
   "execution_count": 3,
   "id": "40dbbad2",
   "metadata": {},
   "outputs": [
    {
     "ename": "SyntaxError",
     "evalue": "unexpected EOF while parsing (129829362.py, line 5)",
     "output_type": "error",
     "traceback": [
      "\u001b[1;36m  Input \u001b[1;32mIn [3]\u001b[1;36m\u001b[0m\n\u001b[1;33m    print(unique(l[i])\u001b[0m\n\u001b[1;37m                      ^\u001b[0m\n\u001b[1;31mSyntaxError\u001b[0m\u001b[1;31m:\u001b[0m unexpected EOF while parsing\n"
     ]
    }
   ],
   "source": [
    "# unique elements \n",
    "l=[10,20,10,56,35,20]\n",
    "count=0\n",
    "for i in range(0,len(l)):\n",
    "    print(unique(l[i])"
   ]
  },
  {
   "cell_type": "code",
   "execution_count": null,
   "id": "ee3947cc",
   "metadata": {},
   "outputs": [],
   "source": []
  },
  {
   "cell_type": "code",
   "execution_count": null,
   "id": "47feb5c9",
   "metadata": {},
   "outputs": [],
   "source": []
  }
 ],
 "metadata": {
  "kernelspec": {
   "display_name": "Python 3 (ipykernel)",
   "language": "python",
   "name": "python3"
  },
  "language_info": {
   "codemirror_mode": {
    "name": "ipython",
    "version": 3
   },
   "file_extension": ".py",
   "mimetype": "text/x-python",
   "name": "python",
   "nbconvert_exporter": "python",
   "pygments_lexer": "ipython3",
   "version": "3.9.12"
  }
 },
 "nbformat": 4,
 "nbformat_minor": 5
}
