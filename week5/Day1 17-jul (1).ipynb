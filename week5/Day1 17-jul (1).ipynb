{
 "cells": [
  {
   "cell_type": "markdown",
   "id": "e92e8f70",
   "metadata": {},
   "source": [
    "#### Visualization\n",
    "* Matplotlib\n",
    "* Seaborn"
   ]
  },
  {
   "cell_type": "markdown",
   "id": "04abfec4",
   "metadata": {},
   "source": [
    "#####  Matplotlib\n",
    "* Introduction\n",
    "* Image reading and slicing\n",
    "* Types of ploting"
   ]
  },
  {
   "cell_type": "markdown",
   "id": "2f5a257d",
   "metadata": {},
   "source": [
    "* Introduction\n",
    " - Python 2d plotting library which produces publication quality figures in a variety of formats \n",
    " - it was introduced by john hunter in the year 2002\n",
    " - one of the greatest benifit of visualization is that it allows visual access to huge amount of data in easily digestible visuals\n",
    " - A set of functions which is similar to those of MATLAB\n",
    " - Relatively low-level,some efforts needed to create advanced visualization\n",
    " - https://matplotlib.org/"
   ]
  },
  {
   "cell_type": "code",
   "execution_count": 2,
   "id": "8e2fef0d",
   "metadata": {},
   "outputs": [],
   "source": [
    "import matplotlib as mpl"
   ]
  },
  {
   "cell_type": "code",
   "execution_count": 1,
   "id": "5aaf9b5b",
   "metadata": {},
   "outputs": [],
   "source": [
    "from matplotlib import pyplot as plt\n",
    "# or import matplotlib.pyplot as plt"
   ]
  },
  {
   "cell_type": "markdown",
   "id": "c8b45c4d",
   "metadata": {},
   "source": [
    "* Basic plots in matplotlib\n",
    "  - Matplotlib comes with a wide variety of plots\n",
    "  -plots helps to understand trends,patterns to make correlations"
   ]
  },
  {
   "cell_type": "markdown",
   "id": "4812d49b",
   "metadata": {},
   "source": [
    "###### Pyplot\n",
    "* pyplot one of the popular module in Matplotlib library\n",
    "* Pyplot contains collection of functions,which is a simple and easy user interface for constructing plots"
   ]
  },
  {
   "cell_type": "code",
   "execution_count": 3,
   "id": "fd113d5e",
   "metadata": {},
   "outputs": [
    {
     "data": {
      "text/plain": [
       "['Annotation',\n",
       " 'Arrow',\n",
       " 'Artist',\n",
       " 'AutoLocator',\n",
       " 'Axes',\n",
       " 'Button',\n",
       " 'Circle',\n",
       " 'Figure',\n",
       " 'FigureCanvasBase',\n",
       " 'FixedFormatter',\n",
       " 'FixedLocator',\n",
       " 'FormatStrFormatter',\n",
       " 'Formatter',\n",
       " 'FuncFormatter',\n",
       " 'GridSpec',\n",
       " 'IndexLocator',\n",
       " 'Line2D',\n",
       " 'LinearLocator',\n",
       " 'Locator',\n",
       " 'LogFormatter',\n",
       " 'LogFormatterExponent',\n",
       " 'LogFormatterMathtext',\n",
       " 'LogLocator',\n",
       " 'MaxNLocator',\n",
       " 'MouseButton',\n",
       " 'MultipleLocator',\n",
       " 'Normalize',\n",
       " 'NullFormatter',\n",
       " 'NullLocator',\n",
       " 'Number',\n",
       " 'PolarAxes',\n",
       " 'Polygon',\n",
       " 'Rectangle',\n",
       " 'ScalarFormatter',\n",
       " 'Slider',\n",
       " 'Subplot',\n",
       " 'SubplotSpec',\n",
       " 'Text',\n",
       " 'TickHelper',\n",
       " 'Widget',\n",
       " '_INSTALL_FIG_OBSERVER',\n",
       " '_IP_REGISTERED',\n",
       " '_IoffContext',\n",
       " '_IonContext',\n",
       " '__builtins__',\n",
       " '__cached__',\n",
       " '__doc__',\n",
       " '__file__',\n",
       " '__loader__',\n",
       " '__name__',\n",
       " '__package__',\n",
       " '__spec__',\n",
       " '_api',\n",
       " '_auto_draw_if_interactive',\n",
       " '_backend_mod',\n",
       " '_copy_docstring_and_deprecators',\n",
       " '_get_required_interactive_framework',\n",
       " '_interactive_bk',\n",
       " '_log',\n",
       " '_pylab_helpers',\n",
       " '_setup_pyplot_info_docstrings',\n",
       " '_warn_if_gui_out_of_main_thread',\n",
       " '_xkcd',\n",
       " 'acorr',\n",
       " 'angle_spectrum',\n",
       " 'annotate',\n",
       " 'arrow',\n",
       " 'autoscale',\n",
       " 'autumn',\n",
       " 'axes',\n",
       " 'axhline',\n",
       " 'axhspan',\n",
       " 'axis',\n",
       " 'axline',\n",
       " 'axvline',\n",
       " 'axvspan',\n",
       " 'bar',\n",
       " 'bar_label',\n",
       " 'barbs',\n",
       " 'barh',\n",
       " 'bone',\n",
       " 'box',\n",
       " 'boxplot',\n",
       " 'broken_barh',\n",
       " 'cbook',\n",
       " 'cla',\n",
       " 'clabel',\n",
       " 'clf',\n",
       " 'clim',\n",
       " 'close',\n",
       " 'cm',\n",
       " 'cohere',\n",
       " 'colorbar',\n",
       " 'colormaps',\n",
       " 'connect',\n",
       " 'contour',\n",
       " 'contourf',\n",
       " 'cool',\n",
       " 'copper',\n",
       " 'csd',\n",
       " 'cycler',\n",
       " 'delaxes',\n",
       " 'disconnect',\n",
       " 'docstring',\n",
       " 'draw',\n",
       " 'draw_all',\n",
       " 'draw_if_interactive',\n",
       " 'errorbar',\n",
       " 'eventplot',\n",
       " 'figaspect',\n",
       " 'figimage',\n",
       " 'figlegend',\n",
       " 'fignum_exists',\n",
       " 'figtext',\n",
       " 'figure',\n",
       " 'fill',\n",
       " 'fill_between',\n",
       " 'fill_betweenx',\n",
       " 'findobj',\n",
       " 'flag',\n",
       " 'functools',\n",
       " 'gca',\n",
       " 'gcf',\n",
       " 'gci',\n",
       " 'get',\n",
       " 'get_backend',\n",
       " 'get_cmap',\n",
       " 'get_current_fig_manager',\n",
       " 'get_figlabels',\n",
       " 'get_fignums',\n",
       " 'get_plot_commands',\n",
       " 'get_scale_names',\n",
       " 'getp',\n",
       " 'ginput',\n",
       " 'gray',\n",
       " 'grid',\n",
       " 'hexbin',\n",
       " 'hist',\n",
       " 'hist2d',\n",
       " 'hlines',\n",
       " 'hot',\n",
       " 'hsv',\n",
       " 'importlib',\n",
       " 'imread',\n",
       " 'imsave',\n",
       " 'imshow',\n",
       " 'inferno',\n",
       " 'inspect',\n",
       " 'install_repl_displayhook',\n",
       " 'interactive',\n",
       " 'ioff',\n",
       " 'ion',\n",
       " 'isinteractive',\n",
       " 'jet',\n",
       " 'legend',\n",
       " 'locator_params',\n",
       " 'logging',\n",
       " 'loglog',\n",
       " 'magma',\n",
       " 'magnitude_spectrum',\n",
       " 'margins',\n",
       " 'matplotlib',\n",
       " 'matshow',\n",
       " 'minorticks_off',\n",
       " 'minorticks_on',\n",
       " 'mlab',\n",
       " 'new_figure_manager',\n",
       " 'nipy_spectral',\n",
       " 'np',\n",
       " 'pause',\n",
       " 'pcolor',\n",
       " 'pcolormesh',\n",
       " 'phase_spectrum',\n",
       " 'pie',\n",
       " 'pink',\n",
       " 'plasma',\n",
       " 'plot',\n",
       " 'plot_date',\n",
       " 'plotting',\n",
       " 'polar',\n",
       " 'prism',\n",
       " 'psd',\n",
       " 'quiver',\n",
       " 'quiverkey',\n",
       " 'rc',\n",
       " 'rcParams',\n",
       " 'rcParamsDefault',\n",
       " 'rcParamsOrig',\n",
       " 'rc_context',\n",
       " 'rcdefaults',\n",
       " 'rcsetup',\n",
       " 're',\n",
       " 'register_cmap',\n",
       " 'rgrids',\n",
       " 'savefig',\n",
       " 'sca',\n",
       " 'scatter',\n",
       " 'sci',\n",
       " 'semilogx',\n",
       " 'semilogy',\n",
       " 'set_cmap',\n",
       " 'set_loglevel',\n",
       " 'setp',\n",
       " 'show',\n",
       " 'specgram',\n",
       " 'spring',\n",
       " 'spy',\n",
       " 'stackplot',\n",
       " 'stairs',\n",
       " 'stem',\n",
       " 'step',\n",
       " 'streamplot',\n",
       " 'style',\n",
       " 'subplot',\n",
       " 'subplot2grid',\n",
       " 'subplot_mosaic',\n",
       " 'subplot_tool',\n",
       " 'subplots',\n",
       " 'subplots_adjust',\n",
       " 'summer',\n",
       " 'suptitle',\n",
       " 'switch_backend',\n",
       " 'sys',\n",
       " 'table',\n",
       " 'text',\n",
       " 'thetagrids',\n",
       " 'threading',\n",
       " 'tick_params',\n",
       " 'ticklabel_format',\n",
       " 'tight_layout',\n",
       " 'time',\n",
       " 'title',\n",
       " 'tricontour',\n",
       " 'tricontourf',\n",
       " 'tripcolor',\n",
       " 'triplot',\n",
       " 'twinx',\n",
       " 'twiny',\n",
       " 'uninstall_repl_displayhook',\n",
       " 'violinplot',\n",
       " 'viridis',\n",
       " 'vlines',\n",
       " 'waitforbuttonpress',\n",
       " 'winter',\n",
       " 'xcorr',\n",
       " 'xkcd',\n",
       " 'xlabel',\n",
       " 'xlim',\n",
       " 'xscale',\n",
       " 'xticks',\n",
       " 'ylabel',\n",
       " 'ylim',\n",
       " 'yscale',\n",
       " 'yticks']"
      ]
     },
     "execution_count": 3,
     "metadata": {},
     "output_type": "execute_result"
    }
   ],
   "source": [
    "dir(plt)"
   ]
  },
  {
   "cell_type": "markdown",
   "id": "24b6933d",
   "metadata": {},
   "source": [
    "#### Image Reading and slicing using Matplotlib"
   ]
  },
  {
   "cell_type": "code",
   "execution_count": 5,
   "id": "a4976b24",
   "metadata": {},
   "outputs": [],
   "source": [
    "image=plt.imread('logo.jpg')"
   ]
  },
  {
   "cell_type": "code",
   "execution_count": 6,
   "id": "a892cd71",
   "metadata": {},
   "outputs": [
    {
     "data": {
      "text/plain": [
       "array([[[252,  70, 108],\n",
       "        [252,  70, 108],\n",
       "        [252,  70, 108],\n",
       "        ...,\n",
       "        [132,  85, 199],\n",
       "        [132,  85, 199],\n",
       "        [132,  85, 199]],\n",
       "\n",
       "       [[252,  70, 108],\n",
       "        [252,  70, 108],\n",
       "        [252,  70, 108],\n",
       "        ...,\n",
       "        [132,  85, 199],\n",
       "        [132,  85, 199],\n",
       "        [132,  85, 199]],\n",
       "\n",
       "       [[252,  70, 108],\n",
       "        [252,  70, 108],\n",
       "        [252,  70, 108],\n",
       "        ...,\n",
       "        [132,  85, 199],\n",
       "        [132,  85, 199],\n",
       "        [132,  85, 199]],\n",
       "\n",
       "       ...,\n",
       "\n",
       "       [[184,  80, 159],\n",
       "        [184,  80, 159],\n",
       "        [184,  80, 159],\n",
       "        ...,\n",
       "        [ 64,  94, 252],\n",
       "        [ 64,  94, 252],\n",
       "        [ 64,  94, 252]],\n",
       "\n",
       "       [[184,  80, 159],\n",
       "        [184,  80, 159],\n",
       "        [184,  80, 159],\n",
       "        ...,\n",
       "        [ 64,  94, 252],\n",
       "        [ 64,  94, 252],\n",
       "        [ 64,  94, 252]],\n",
       "\n",
       "       [[184,  80, 159],\n",
       "        [184,  80, 159],\n",
       "        [184,  80, 159],\n",
       "        ...,\n",
       "        [ 64,  94, 252],\n",
       "        [ 64,  94, 252],\n",
       "        [ 64,  94, 252]]], dtype=uint8)"
      ]
     },
     "execution_count": 6,
     "metadata": {},
     "output_type": "execute_result"
    }
   ],
   "source": [
    "image"
   ]
  },
  {
   "cell_type": "code",
   "execution_count": 7,
   "id": "2a965364",
   "metadata": {},
   "outputs": [
    {
     "data": {
      "text/plain": [
       "<matplotlib.image.AxesImage at 0x188d68388e0>"
      ]
     },
     "execution_count": 7,
     "metadata": {},
     "output_type": "execute_result"
    },
    {
     "data": {
      "image/png": "[encoded data removed]",
      "text/plain": [
       "<Figure size 432x288 with 1 Axes>"
      ]
     },
     "metadata": {
      "needs_background": "light"
     },
     "output_type": "display_data"
    }
   ],
   "source": [
    "plt.imshow(image)"
   ]
  },
  {
   "cell_type": "code",
   "execution_count": 8,
   "id": "ec10e138",
   "metadata": {},
   "outputs": [
    {
     "data": {
      "text/plain": [
       "<matplotlib.image.AxesImage at 0x188d79c5e80>"
      ]
     },
     "execution_count": 8,
     "metadata": {},
     "output_type": "execute_result"
    },
    {
     "data": {
      "image/png": "[encoded data removed]",
      "text/plain": [
       "<Figure size 432x288 with 1 Axes>"
      ]
     },
     "metadata": {
      "needs_background": "light"
     },
     "output_type": "display_data"
    }
   ],
   "source": [
    "plt.imshow(image[400:700,300:1000])"
   ]
  },
  {
   "cell_type": "markdown",
   "id": "14f4a35a",
   "metadata": {},
   "source": [
    "* Types of ploting\n",
    "  - Line\n",
    "  - Bar chart\n",
    "  - Scatter plot\n",
    "  - Boxplot\n",
    "  - Histogram\n",
    "  - Piechart\n",
    "  - Area plot etc"
   ]
  },
  {
   "cell_type": "markdown",
   "id": "86f0efbf",
   "metadata": {},
   "source": [
    "* line plot\n",
    " - It is a graph that shows frequency of data along a number line\n",
    " - "
   ]
  },
  {
   "cell_type": "code",
   "execution_count": 10,
   "id": "66d526bc",
   "metadata": {},
   "outputs": [
    {
     "data": {
      "image/png": "[encoded data removed]",
      "text/plain": [
       "<Figure size 432x288 with 1 Axes>"
      ]
     },
     "metadata": {
      "needs_background": "light"
     },
     "output_type": "display_data"
    }
   ],
   "source": [
    "x_axis=[10,12,14,16]\n",
    "y_axis=[5,6,7,8]\n",
    "plt.plot(x_axis,y_axis,label='Line')\n",
    "plt.xlabel('X-axis')\n",
    "plt.ylabel('Y-axis')\n",
    "plt.title('Line Graph')\n",
    "plt.legend(loc='lower right')\n",
    "plt.show()"
   ]
  },
  {
   "cell_type": "code",
   "execution_count": 11,
   "id": "678f228a",
   "metadata": {},
   "outputs": [
    {
     "name": "stdout",
     "output_type": "stream",
     "text": [
      "Help on function legend in module matplotlib.pyplot:\n",
      "\n",
      "legend(*args, **kwargs)\n",
      "    Place a legend on the Axes.\n",
      "    \n",
      "    Call signatures::\n",
      "    \n",
      "        legend()\n",
      "        legend(handles, labels)\n",
      "        legend(handles=handles)\n",
      "        legend(labels)\n",
      "    \n",
      "    The call signatures correspond to the following different ways to use\n",
      "    this method:\n",
      "    \n",
      "    **1. Automatic detection of elements to be shown in the legend**\n",
      "    \n",
      "    The elements to be added to the legend are automatically determined,\n",
      "    when you do not pass in any extra arguments.\n",
      "    \n",
      "    In this case, the labels are taken from the artist. You can specify\n",
      "    them either at artist creation or by calling the\n",
      "    :meth:`~.Artist.set_label` method on the artist::\n",
      "    \n",
      "        ax.plot([1, 2, 3], label='Inline label')\n",
      "        ax.legend()\n",
      "    \n",
      "    or::\n",
      "    \n",
      "        line, = ax.plot([1, 2, 3])\n",
      "        line.set_label('Label via method')\n",
      "        ax.legend()\n",
      "    \n",
      "    Specific lines can be excluded from the automatic legend element\n",
      "    selection by defining a label starting with an underscore.\n",
      "    This is default for all artists, so calling `.Axes.legend` without\n",
      "    any arguments and without setting the labels manually will result in\n",
      "    no legend being drawn.\n",
      "    \n",
      "    \n",
      "    **2. Explicitly listing the artists and labels in the legend**\n",
      "    \n",
      "    For full control of which artists have a legend entry, it is possible\n",
      "    to pass an iterable of legend artists followed by an iterable of\n",
      "    legend labels respectively::\n",
      "    \n",
      "        ax.legend([line1, line2, line3], ['label1', 'label2', 'label3'])\n",
      "    \n",
      "    \n",
      "    **3. Explicitly listing the artists in the legend**\n",
      "    \n",
      "    This is similar to 2, but the labels are taken from the artists'\n",
      "    label properties. Example::\n",
      "    \n",
      "        line1, = ax.plot([1, 2, 3], label='label1')\n",
      "        line2, = ax.plot([1, 2, 3], label='label2')\n",
      "        ax.legend(handles=[line1, line2])\n",
      "    \n",
      "    \n",
      "    **4. Labeling existing plot elements**\n",
      "    \n",
      "    .. admonition:: Discouraged\n",
      "    \n",
      "        This call signature is discouraged, because the relation between\n",
      "        plot elements and labels is only implicit by their order and can\n",
      "        easily be mixed up.\n",
      "    \n",
      "    To make a legend for all artists on an Axes, call this function with\n",
      "    an iterable of strings, one for each legend item. For example::\n",
      "    \n",
      "        ax.plot([1, 2, 3])\n",
      "        ax.plot([5, 6, 7])\n",
      "        ax.legend(['First line', 'Second line'])\n",
      "    \n",
      "    \n",
      "    Parameters\n",
      "    ----------\n",
      "    handles : sequence of `.Artist`, optional\n",
      "        A list of Artists (lines, patches) to be added to the legend.\n",
      "        Use this together with *labels*, if you need full control on what\n",
      "        is shown in the legend and the automatic mechanism described above\n",
      "        is not sufficient.\n",
      "    \n",
      "        The length of handles and labels should be the same in this\n",
      "        case. If they are not, they are truncated to the smaller length.\n",
      "    \n",
      "    labels : list of str, optional\n",
      "        A list of labels to show next to the artists.\n",
      "        Use this together with *handles*, if you need full control on what\n",
      "        is shown in the legend and the automatic mechanism described above\n",
      "        is not sufficient.\n",
      "    \n",
      "    Returns\n",
      "    -------\n",
      "    `~matplotlib.legend.Legend`\n",
      "    \n",
      "    Other Parameters\n",
      "    ----------------\n",
      "    \n",
      "    loc : str or pair of floats, default: :rc:`legend.loc` ('best' for axes, 'upper right' for figures)\n",
      "        The location of the legend.\n",
      "    \n",
      "        The strings\n",
      "        ``'upper left', 'upper right', 'lower left', 'lower right'``\n",
      "        place the legend at the corresponding corner of the axes/figure.\n",
      "    \n",
      "        The strings\n",
      "        ``'upper center', 'lower center', 'center left', 'center right'``\n",
      "        place the legend at the center of the corresponding edge of the\n",
      "        axes/figure.\n",
      "    \n",
      "        The string ``'center'`` places the legend at the center of the axes/figure.\n",
      "    \n",
      "        The string ``'best'`` places the legend at the location, among the nine\n",
      "        locations defined so far, with the minimum overlap with other drawn\n",
      "        artists.  This option can be quite slow for plots with large amounts of\n",
      "        data; your plotting speed may benefit from providing a specific location.\n",
      "    \n",
      "        The location can also be a 2-tuple giving the coordinates of the lower-left\n",
      "        corner of the legend in axes coordinates (in which case *bbox_to_anchor*\n",
      "        will be ignored).\n",
      "    \n",
      "        For back-compatibility, ``'center right'`` (but no other location) can also\n",
      "        be spelled ``'right'``, and each \"string\" locations can also be given as a\n",
      "        numeric value:\n",
      "    \n",
      "            ===============   =============\n",
      "            Location String   Location Code\n",
      "            ===============   =============\n",
      "            'best'            0\n",
      "            'upper right'     1\n",
      "            'upper left'      2\n",
      "            'lower left'      3\n",
      "            'lower right'     4\n",
      "            'right'           5\n",
      "            'center left'     6\n",
      "            'center right'    7\n",
      "            'lower center'    8\n",
      "            'upper center'    9\n",
      "            'center'          10\n",
      "            ===============   =============\n",
      "    \n",
      "    bbox_to_anchor : `.BboxBase`, 2-tuple, or 4-tuple of floats\n",
      "        Box that is used to position the legend in conjunction with *loc*.\n",
      "        Defaults to `axes.bbox` (if called as a method to `.Axes.legend`) or\n",
      "        `figure.bbox` (if `.Figure.legend`).  This argument allows arbitrary\n",
      "        placement of the legend.\n",
      "    \n",
      "        Bbox coordinates are interpreted in the coordinate system given by\n",
      "        *bbox_transform*, with the default transform\n",
      "        Axes or Figure coordinates, depending on which ``legend`` is called.\n",
      "    \n",
      "        If a 4-tuple or `.BboxBase` is given, then it specifies the bbox\n",
      "        ``(x, y, width, height)`` that the legend is placed in.\n",
      "        To put the legend in the best location in the bottom right\n",
      "        quadrant of the axes (or figure)::\n",
      "    \n",
      "            loc='best', bbox_to_anchor=(0.5, 0., 0.5, 0.5)\n",
      "    \n",
      "        A 2-tuple ``(x, y)`` places the corner of the legend specified by *loc* at\n",
      "        x, y.  For example, to put the legend's upper right-hand corner in the\n",
      "        center of the axes (or figure) the following keywords can be used::\n",
      "    \n",
      "            loc='upper right', bbox_to_anchor=(0.5, 0.5)\n",
      "    \n",
      "    ncol : int, default: 1\n",
      "        The number of columns that the legend has.\n",
      "    \n",
      "    prop : None or `matplotlib.font_manager.FontProperties` or dict\n",
      "        The font properties of the legend. If None (default), the current\n",
      "        :data:`matplotlib.rcParams` will be used.\n",
      "    \n",
      "    fontsize : int or {'xx-small', 'x-small', 'small', 'medium', 'large', 'x-large', 'xx-large'}\n",
      "        The font size of the legend. If the value is numeric the size will be the\n",
      "        absolute font size in points. String values are relative to the current\n",
      "        default font size. This argument is only used if *prop* is not specified.\n",
      "    \n",
      "    labelcolor : str or list, default: :rc:`legend.labelcolor`\n",
      "        The color of the text in the legend. Either a valid color string\n",
      "        (for example, 'red'), or a list of color strings. The labelcolor can\n",
      "        also be made to match the color of the line or marker using 'linecolor',\n",
      "        'markerfacecolor' (or 'mfc'), or 'markeredgecolor' (or 'mec').\n",
      "    \n",
      "        Labelcolor can be set globally using :rc:`legend.labelcolor`. If None,\n",
      "        use :rc:`text.color`.\n",
      "    \n",
      "    numpoints : int, default: :rc:`legend.numpoints`\n",
      "        The number of marker points in the legend when creating a legend\n",
      "        entry for a `.Line2D` (line).\n",
      "    \n",
      "    scatterpoints : int, default: :rc:`legend.scatterpoints`\n",
      "        The number of marker points in the legend when creating\n",
      "        a legend entry for a `.PathCollection` (scatter plot).\n",
      "    \n",
      "    scatteryoffsets : iterable of floats, default: ``[0.375, 0.5, 0.3125]``\n",
      "        The vertical offset (relative to the font size) for the markers\n",
      "        created for a scatter plot legend entry. 0.0 is at the base the\n",
      "        legend text, and 1.0 is at the top. To draw all markers at the\n",
      "        same height, set to ``[0.5]``.\n",
      "    \n",
      "    markerscale : float, default: :rc:`legend.markerscale`\n",
      "        The relative size of legend markers compared with the originally\n",
      "        drawn ones.\n",
      "    \n",
      "    markerfirst : bool, default: True\n",
      "        If *True*, legend marker is placed to the left of the legend label.\n",
      "        If *False*, legend marker is placed to the right of the legend label.\n",
      "    \n",
      "    frameon : bool, default: :rc:`legend.frameon`\n",
      "        Whether the legend should be drawn on a patch (frame).\n",
      "    \n",
      "    fancybox : bool, default: :rc:`legend.fancybox`\n",
      "        Whether round edges should be enabled around the `.FancyBboxPatch` which\n",
      "        makes up the legend's background.\n",
      "    \n",
      "    shadow : bool, default: :rc:`legend.shadow`\n",
      "        Whether to draw a shadow behind the legend.\n",
      "    \n",
      "    framealpha : float, default: :rc:`legend.framealpha`\n",
      "        The alpha transparency of the legend's background.\n",
      "        If *shadow* is activated and *framealpha* is ``None``, the default value is\n",
      "        ignored.\n",
      "    \n",
      "    facecolor : \"inherit\" or color, default: :rc:`legend.facecolor`\n",
      "        The legend's background color.\n",
      "        If ``\"inherit\"``, use :rc:`axes.facecolor`.\n",
      "    \n",
      "    edgecolor : \"inherit\" or color, default: :rc:`legend.edgecolor`\n",
      "        The legend's background patch edge color.\n",
      "        If ``\"inherit\"``, use take :rc:`axes.edgecolor`.\n",
      "    \n",
      "    mode : {\"expand\", None}\n",
      "        If *mode* is set to ``\"expand\"`` the legend will be horizontally\n",
      "        expanded to fill the axes area (or *bbox_to_anchor* if defines\n",
      "        the legend's size).\n",
      "    \n",
      "    bbox_transform : None or `matplotlib.transforms.Transform`\n",
      "        The transform for the bounding box (*bbox_to_anchor*). For a value\n",
      "        of ``None`` (default) the Axes'\n",
      "        :data:`~matplotlib.axes.Axes.transAxes` transform will be used.\n",
      "    \n",
      "    title : str or None\n",
      "        The legend's title. Default is no title (``None``).\n",
      "    \n",
      "    title_fontproperties : None or `matplotlib.font_manager.FontProperties` or dict\n",
      "        The font properties of the legend's title. If None (default), the\n",
      "        *title_fontsize* argument will be used if present; if *title_fontsize* is\n",
      "        also None, the current :rc:`legend.title_fontsize` will be used.\n",
      "    \n",
      "    title_fontsize : int or {'xx-small', 'x-small', 'small', 'medium', 'large', 'x-large', 'xx-large'}, default: :rc:`legend.title_fontsize`\n",
      "        The font size of the legend's title.\n",
      "        Note: This cannot be combined with *title_fontproperties*. If you want\n",
      "        to set the fontsize alongside other font properties, use the *size*\n",
      "        parameter in *title_fontproperties*.\n",
      "    \n",
      "    borderpad : float, default: :rc:`legend.borderpad`\n",
      "        The fractional whitespace inside the legend border, in font-size units.\n",
      "    \n",
      "    labelspacing : float, default: :rc:`legend.labelspacing`\n",
      "        The vertical space between the legend entries, in font-size units.\n",
      "    \n",
      "    handlelength : float, default: :rc:`legend.handlelength`\n",
      "        The length of the legend handles, in font-size units.\n",
      "    \n",
      "    handleheight : float, default: :rc:`legend.handleheight`\n",
      "        The height of the legend handles, in font-size units.\n",
      "    \n",
      "    handletextpad : float, default: :rc:`legend.handletextpad`\n",
      "        The pad between the legend handle and text, in font-size units.\n",
      "    \n",
      "    borderaxespad : float, default: :rc:`legend.borderaxespad`\n",
      "        The pad between the axes and legend border, in font-size units.\n",
      "    \n",
      "    columnspacing : float, default: :rc:`legend.columnspacing`\n",
      "        The spacing between columns, in font-size units.\n",
      "    \n",
      "    handler_map : dict or None\n",
      "        The custom dictionary mapping instances or types to a legend\n",
      "        handler. This *handler_map* updates the default handler map\n",
      "        found at `matplotlib.legend.Legend.get_legend_handler_map`.\n",
      "    \n",
      "    \n",
      "    See Also\n",
      "    --------\n",
      "    .Figure.legend\n",
      "    \n",
      "    Notes\n",
      "    -----\n",
      "    Some artists are not supported by this function.  See\n",
      "    :doc:`/tutorials/intermediate/legend_guide` for details.\n",
      "    \n",
      "    Examples\n",
      "    --------\n",
      "    .. plot:: gallery/text_labels_and_annotations/legend.py\n",
      "\n"
     ]
    }
   ],
   "source": [
    "help(plt.legend)"
   ]
  },
  {
   "cell_type": "code",
   "execution_count": 13,
   "id": "0a4e0e45",
   "metadata": {},
   "outputs": [
    {
     "data": {
      "text/plain": [
       "[<matplotlib.lines.Line2D at 0x188d7b41940>]"
      ]
     },
     "execution_count": 13,
     "metadata": {},
     "output_type": "execute_result"
    },
    {
     "data": {
      "image/png": "[encoded data removed]",
      "text/plain": [
       "<Figure size 432x288 with 1 Axes>"
      ]
     },
     "metadata": {
      "needs_background": "light"
     },
     "output_type": "display_data"
    }
   ],
   "source": [
    "# functional approach\n",
    "import numpy as np\n",
    "x=np.linspace(0,10,20)\n",
    "y=x**2\n",
    "plt.plot(x,y)"
   ]
  },
  {
   "cell_type": "code",
   "execution_count": 16,
   "id": "0d878241",
   "metadata": {},
   "outputs": [
    {
     "data": {
      "text/plain": [
       "array([ 0.        ,  0.52631579,  1.05263158,  1.57894737,  2.10526316,\n",
       "        2.63157895,  3.15789474,  3.68421053,  4.21052632,  4.73684211,\n",
       "        5.26315789,  5.78947368,  6.31578947,  6.84210526,  7.36842105,\n",
       "        7.89473684,  8.42105263,  8.94736842,  9.47368421, 10.        ])"
      ]
     },
     "execution_count": 16,
     "metadata": {},
     "output_type": "execute_result"
    }
   ],
   "source": [
    "x=np.linspace(0,10,20)\n",
    "x"
   ]
  },
  {
   "cell_type": "code",
   "execution_count": 19,
   "id": "97be73cf",
   "metadata": {},
   "outputs": [
    {
     "data": {
      "text/plain": [
       "<matplotlib.legend.Legend at 0x188d7b6d070>"
      ]
     },
     "execution_count": 19,
     "metadata": {},
     "output_type": "execute_result"
    },
    {
     "data": {
      "image/png": "[encoded data removed]",
      "text/plain": [
       "<Figure size 432x288 with 1 Axes>"
      ]
     },
     "metadata": {
      "needs_background": "light"
     },
     "output_type": "display_data"
    }
   ],
   "source": [
    "plt.plot(x,x**2,color='red',label='Line1')\n",
    "plt.plot(x,x**3,color='green',label='Line2')\n",
    "plt.plot(x,x**4,color='yellow',label='Line3')\n",
    "plt.legend()"
   ]
  },
  {
   "cell_type": "code",
   "execution_count": 20,
   "id": "1b635bd0",
   "metadata": {},
   "outputs": [
    {
     "name": "stdout",
     "output_type": "stream",
     "text": [
      "Help on function plot in module matplotlib.pyplot:\n",
      "\n",
      "plot(*args, scalex=True, scaley=True, data=None, **kwargs)\n",
      "    Plot y versus x as lines and/or markers.\n",
      "    \n",
      "    Call signatures::\n",
      "    \n",
      "        plot([x], y, [fmt], *, data=None, **kwargs)\n",
      "        plot([x], y, [fmt], [x2], y2, [fmt2], ..., **kwargs)\n",
      "    \n",
      "    The coordinates of the points or line nodes are given by *x*, *y*.\n",
      "    \n",
      "    The optional parameter *fmt* is a convenient way for defining basic\n",
      "    formatting like color, marker and linestyle. It's a shortcut string\n",
      "    notation described in the *Notes* section below.\n",
      "    \n",
      "    >>> plot(x, y)        # plot x and y using default line style and color\n",
      "    >>> plot(x, y, 'bo')  # plot x and y using blue circle markers\n",
      "    >>> plot(y)           # plot y using x as index array 0..N-1\n",
      "    >>> plot(y, 'r+')     # ditto, but with red plusses\n",
      "    \n",
      "    You can use `.Line2D` properties as keyword arguments for more\n",
      "    control on the appearance. Line properties and *fmt* can be mixed.\n",
      "    The following two calls yield identical results:\n",
      "    \n",
      "    >>> plot(x, y, 'go--', linewidth=2, markersize=12)\n",
      "    >>> plot(x, y, color='green', marker='o', linestyle='dashed',\n",
      "    ...      linewidth=2, markersize=12)\n",
      "    \n",
      "    When conflicting with *fmt*, keyword arguments take precedence.\n",
      "    \n",
      "    \n",
      "    **Plotting labelled data**\n",
      "    \n",
      "    There's a convenient way for plotting objects with labelled data (i.e.\n",
      "    data that can be accessed by index ``obj['y']``). Instead of giving\n",
      "    the data in *x* and *y*, you can provide the object in the *data*\n",
      "    parameter and just give the labels for *x* and *y*::\n",
      "    \n",
      "    >>> plot('xlabel', 'ylabel', data=obj)\n",
      "    \n",
      "    All indexable objects are supported. This could e.g. be a `dict`, a\n",
      "    `pandas.DataFrame` or a structured numpy array.\n",
      "    \n",
      "    \n",
      "    **Plotting multiple sets of data**\n",
      "    \n",
      "    There are various ways to plot multiple sets of data.\n",
      "    \n",
      "    - The most straight forward way is just to call `plot` multiple times.\n",
      "      Example:\n",
      "    \n",
      "      >>> plot(x1, y1, 'bo')\n",
      "      >>> plot(x2, y2, 'go')\n",
      "    \n",
      "    - If *x* and/or *y* are 2D arrays a separate data set will be drawn\n",
      "      for every column. If both *x* and *y* are 2D, they must have the\n",
      "      same shape. If only one of them is 2D with shape (N, m) the other\n",
      "      must have length N and will be used for every data set m.\n",
      "    \n",
      "      Example:\n",
      "    \n",
      "      >>> x = [1, 2, 3]\n",
      "      >>> y = np.array([[1, 2], [3, 4], [5, 6]])\n",
      "      >>> plot(x, y)\n",
      "    \n",
      "      is equivalent to:\n",
      "    \n",
      "      >>> for col in range(y.shape[1]):\n",
      "      ...     plot(x, y[:, col])\n",
      "    \n",
      "    - The third way is to specify multiple sets of *[x]*, *y*, *[fmt]*\n",
      "      groups::\n",
      "    \n",
      "      >>> plot(x1, y1, 'g^', x2, y2, 'g-')\n",
      "    \n",
      "      In this case, any additional keyword argument applies to all\n",
      "      datasets. Also this syntax cannot be combined with the *data*\n",
      "      parameter.\n",
      "    \n",
      "    By default, each line is assigned a different style specified by a\n",
      "    'style cycle'. The *fmt* and line property parameters are only\n",
      "    necessary if you want explicit deviations from these defaults.\n",
      "    Alternatively, you can also change the style cycle using\n",
      "    :rc:`axes.prop_cycle`.\n",
      "    \n",
      "    \n",
      "    Parameters\n",
      "    ----------\n",
      "    x, y : array-like or scalar\n",
      "        The horizontal / vertical coordinates of the data points.\n",
      "        *x* values are optional and default to ``range(len(y))``.\n",
      "    \n",
      "        Commonly, these parameters are 1D arrays.\n",
      "    \n",
      "        They can also be scalars, or two-dimensional (in that case, the\n",
      "        columns represent separate data sets).\n",
      "    \n",
      "        These arguments cannot be passed as keywords.\n",
      "    \n",
      "    fmt : str, optional\n",
      "        A format string, e.g. 'ro' for red circles. See the *Notes*\n",
      "        section for a full description of the format strings.\n",
      "    \n",
      "        Format strings are just an abbreviation for quickly setting\n",
      "        basic line properties. All of these and more can also be\n",
      "        controlled by keyword arguments.\n",
      "    \n",
      "        This argument cannot be passed as keyword.\n",
      "    \n",
      "    data : indexable object, optional\n",
      "        An object with labelled data. If given, provide the label names to\n",
      "        plot in *x* and *y*.\n",
      "    \n",
      "        .. note::\n",
      "            Technically there's a slight ambiguity in calls where the\n",
      "            second label is a valid *fmt*. ``plot('n', 'o', data=obj)``\n",
      "            could be ``plt(x, y)`` or ``plt(y, fmt)``. In such cases,\n",
      "            the former interpretation is chosen, but a warning is issued.\n",
      "            You may suppress the warning by adding an empty format string\n",
      "            ``plot('n', 'o', '', data=obj)``.\n",
      "    \n",
      "    Returns\n",
      "    -------\n",
      "    list of `.Line2D`\n",
      "        A list of lines representing the plotted data.\n",
      "    \n",
      "    Other Parameters\n",
      "    ----------------\n",
      "    scalex, scaley : bool, default: True\n",
      "        These parameters determine if the view limits are adapted to the\n",
      "        data limits. The values are passed on to `autoscale_view`.\n",
      "    \n",
      "    **kwargs : `.Line2D` properties, optional\n",
      "        *kwargs* are used to specify properties like a line label (for\n",
      "        auto legends), linewidth, antialiasing, marker face color.\n",
      "        Example::\n",
      "    \n",
      "        >>> plot([1, 2, 3], [1, 2, 3], 'go-', label='line 1', linewidth=2)\n",
      "        >>> plot([1, 2, 3], [1, 4, 9], 'rs', label='line 2')\n",
      "    \n",
      "        If you specify multiple lines with one plot call, the kwargs apply\n",
      "        to all those lines. In case the label object is iterable, each\n",
      "        element is used as labels for each set of data.\n",
      "    \n",
      "        Here is a list of available `.Line2D` properties:\n",
      "    \n",
      "        Properties:\n",
      "        agg_filter: a filter function, which takes a (m, n, 3) float array and a dpi value, and returns a (m, n, 3) array\n",
      "        alpha: scalar or None\n",
      "        animated: bool\n",
      "        antialiased or aa: bool\n",
      "        clip_box: `.Bbox`\n",
      "        clip_on: bool\n",
      "        clip_path: Patch or (Path, Transform) or None\n",
      "        color or c: color\n",
      "        dash_capstyle: `.CapStyle` or {'butt', 'projecting', 'round'}\n",
      "        dash_joinstyle: `.JoinStyle` or {'miter', 'round', 'bevel'}\n",
      "        dashes: sequence of floats (on/off ink in points) or (None, None)\n",
      "        data: (2, N) array or two 1D arrays\n",
      "        drawstyle or ds: {'default', 'steps', 'steps-pre', 'steps-mid', 'steps-post'}, default: 'default'\n",
      "        figure: `.Figure`\n",
      "        fillstyle: {'full', 'left', 'right', 'bottom', 'top', 'none'}\n",
      "        gid: str\n",
      "        in_layout: bool\n",
      "        label: object\n",
      "        linestyle or ls: {'-', '--', '-.', ':', '', (offset, on-off-seq), ...}\n",
      "        linewidth or lw: float\n",
      "        marker: marker style string, `~.path.Path` or `~.markers.MarkerStyle`\n",
      "        markeredgecolor or mec: color\n",
      "        markeredgewidth or mew: float\n",
      "        markerfacecolor or mfc: color\n",
      "        markerfacecoloralt or mfcalt: color\n",
      "        markersize or ms: float\n",
      "        markevery: None or int or (int, int) or slice or list[int] or float or (float, float) or list[bool]\n",
      "        path_effects: `.AbstractPathEffect`\n",
      "        picker: float or callable[[Artist, Event], tuple[bool, dict]]\n",
      "        pickradius: float\n",
      "        rasterized: bool\n",
      "        sketch_params: (scale: float, length: float, randomness: float)\n",
      "        snap: bool or None\n",
      "        solid_capstyle: `.CapStyle` or {'butt', 'projecting', 'round'}\n",
      "        solid_joinstyle: `.JoinStyle` or {'miter', 'round', 'bevel'}\n",
      "        transform: unknown\n",
      "        url: str\n",
      "        visible: bool\n",
      "        xdata: 1D array\n",
      "        ydata: 1D array\n",
      "        zorder: float\n",
      "    \n",
      "    See Also\n",
      "    --------\n",
      "    scatter : XY scatter plot with markers of varying size and/or color (\n",
      "        sometimes also called bubble chart).\n",
      "    \n",
      "    Notes\n",
      "    -----\n",
      "    **Format Strings**\n",
      "    \n",
      "    A format string consists of a part for color, marker and line::\n",
      "    \n",
      "        fmt = '[marker][line][color]'\n",
      "    \n",
      "    Each of them is optional. If not provided, the value from the style\n",
      "    cycle is used. Exception: If ``line`` is given, but no ``marker``,\n",
      "    the data will be a line without markers.\n",
      "    \n",
      "    Other combinations such as ``[color][marker][line]`` are also\n",
      "    supported, but note that their parsing may be ambiguous.\n",
      "    \n",
      "    **Markers**\n",
      "    \n",
      "    =============   ===============================\n",
      "    character       description\n",
      "    =============   ===============================\n",
      "    ``'.'``         point marker\n",
      "    ``','``         pixel marker\n",
      "    ``'o'``         circle marker\n",
      "    ``'v'``         triangle_down marker\n",
      "    ``'^'``         triangle_up marker\n",
      "    ``'<'``         triangle_left marker\n",
      "    ``'>'``         triangle_right marker\n",
      "    ``'1'``         tri_down marker\n",
      "    ``'2'``         tri_up marker\n",
      "    ``'3'``         tri_left marker\n",
      "    ``'4'``         tri_right marker\n",
      "    ``'8'``         octagon marker\n",
      "    ``'s'``         square marker\n",
      "    ``'p'``         pentagon marker\n",
      "    ``'P'``         plus (filled) marker\n",
      "    ``'*'``         star marker\n",
      "    ``'h'``         hexagon1 marker\n",
      "    ``'H'``         hexagon2 marker\n",
      "    ``'+'``         plus marker\n",
      "    ``'x'``         x marker\n",
      "    ``'X'``         x (filled) marker\n",
      "    ``'D'``         diamond marker\n",
      "    ``'d'``         thin_diamond marker\n",
      "    ``'|'``         vline marker\n",
      "    ``'_'``         hline marker\n",
      "    =============   ===============================\n",
      "    \n",
      "    **Line Styles**\n",
      "    \n",
      "    =============    ===============================\n",
      "    character        description\n",
      "    =============    ===============================\n",
      "    ``'-'``          solid line style\n",
      "    ``'--'``         dashed line style\n",
      "    ``'-.'``         dash-dot line style\n",
      "    ``':'``          dotted line style\n",
      "    =============    ===============================\n",
      "    \n",
      "    Example format strings::\n",
      "    \n",
      "        'b'    # blue markers with default shape\n",
      "        'or'   # red circles\n",
      "        '-g'   # green solid line\n",
      "        '--'   # dashed line with default color\n",
      "        '^k:'  # black triangle_up markers connected by a dotted line\n",
      "    \n",
      "    **Colors**\n",
      "    \n",
      "    The supported color abbreviations are the single letter codes\n",
      "    \n",
      "    =============    ===============================\n",
      "    character        color\n",
      "    =============    ===============================\n",
      "    ``'b'``          blue\n",
      "    ``'g'``          green\n",
      "    ``'r'``          red\n",
      "    ``'c'``          cyan\n",
      "    ``'m'``          magenta\n",
      "    ``'y'``          yellow\n",
      "    ``'k'``          black\n",
      "    ``'w'``          white\n",
      "    =============    ===============================\n",
      "    \n",
      "    and the ``'CN'`` colors that index into the default property cycle.\n",
      "    \n",
      "    If the color is the only part of the format string, you can\n",
      "    additionally use any  `matplotlib.colors` spec, e.g. full names\n",
      "    (``'green'``) or hex strings (``'#008000'``).\n",
      "\n"
     ]
    }
   ],
   "source": [
    "help(plt.plot)"
   ]
  },
  {
   "cell_type": "code",
   "execution_count": 21,
   "id": "f7532baf",
   "metadata": {},
   "outputs": [],
   "source": [
    "x1=np.arange(100)"
   ]
  },
  {
   "cell_type": "code",
   "execution_count": 22,
   "id": "92ca1a0a",
   "metadata": {},
   "outputs": [
    {
     "data": {
      "text/plain": [
       "array([ 0,  1,  2,  3,  4,  5,  6,  7,  8,  9, 10, 11, 12, 13, 14, 15, 16,\n",
       "       17, 18, 19, 20, 21, 22, 23, 24, 25, 26, 27, 28, 29, 30, 31, 32, 33,\n",
       "       34, 35, 36, 37, 38, 39, 40, 41, 42, 43, 44, 45, 46, 47, 48, 49, 50,\n",
       "       51, 52, 53, 54, 55, 56, 57, 58, 59, 60, 61, 62, 63, 64, 65, 66, 67,\n",
       "       68, 69, 70, 71, 72, 73, 74, 75, 76, 77, 78, 79, 80, 81, 82, 83, 84,\n",
       "       85, 86, 87, 88, 89, 90, 91, 92, 93, 94, 95, 96, 97, 98, 99])"
      ]
     },
     "execution_count": 22,
     "metadata": {},
     "output_type": "execute_result"
    }
   ],
   "source": [
    "x1"
   ]
  },
  {
   "cell_type": "code",
   "execution_count": 24,
   "id": "16ee8fd0",
   "metadata": {},
   "outputs": [
    {
     "data": {
      "text/plain": [
       "[<matplotlib.lines.Line2D at 0x188de2fe040>]"
      ]
     },
     "execution_count": 24,
     "metadata": {},
     "output_type": "execute_result"
    },
    {
     "data": {
      "image/png": "[encoded data removed]",
      "text/plain": [
       "<Figure size 432x288 with 1 Axes>"
      ]
     },
     "metadata": {
      "needs_background": "light"
     },
     "output_type": "display_data"
    }
   ],
   "source": [
    "plt.plot(x1,x1+10,color='r',linestyle='--')\n",
    "plt.plot(x1,x1+15,color='m',linestyle=':')\n",
    "plt.plot(x1,x1+20,color='m',linestyle='-.')"
   ]
  },
  {
   "cell_type": "code",
   "execution_count": 26,
   "id": "e2c5ea5e",
   "metadata": {},
   "outputs": [
    {
     "data": {
      "text/plain": [
       "array([10.        , 10.40816327, 10.81632653, 11.2244898 , 11.63265306,\n",
       "       12.04081633, 12.44897959, 12.85714286, 13.26530612, 13.67346939,\n",
       "       14.08163265, 14.48979592, 14.89795918, 15.30612245, 15.71428571,\n",
       "       16.12244898, 16.53061224, 16.93877551, 17.34693878, 17.75510204,\n",
       "       18.16326531, 18.57142857, 18.97959184, 19.3877551 , 19.79591837,\n",
       "       20.20408163, 20.6122449 , 21.02040816, 21.42857143, 21.83673469,\n",
       "       22.24489796, 22.65306122, 23.06122449, 23.46938776, 23.87755102,\n",
       "       24.28571429, 24.69387755, 25.10204082, 25.51020408, 25.91836735,\n",
       "       26.32653061, 26.73469388, 27.14285714, 27.55102041, 27.95918367,\n",
       "       28.36734694, 28.7755102 , 29.18367347, 29.59183673, 30.        ])"
      ]
     },
     "execution_count": 26,
     "metadata": {},
     "output_type": "execute_result"
    }
   ],
   "source": [
    "x1=np.linspace(10,30,50)\n",
    "x1"
   ]
  },
  {
   "cell_type": "code",
   "execution_count": 28,
   "id": "f5f3bc13",
   "metadata": {},
   "outputs": [
    {
     "data": {
      "text/plain": [
       "[<matplotlib.lines.Line2D at 0x188de37cca0>]"
      ]
     },
     "execution_count": 28,
     "metadata": {},
     "output_type": "execute_result"
    },
    {
     "data": {
      "image/png": "[encoded data removed]",
      "text/plain": [
       "<Figure size 432x288 with 1 Axes>"
      ]
     },
     "metadata": {
      "needs_background": "light"
     },
     "output_type": "display_data"
    }
   ],
   "source": [
    "plt.plot(x1,np.sin(x1),color='r',marker='o',markersize=10,markerfacecolor='b')"
   ]
  },
  {
   "cell_type": "code",
   "execution_count": 30,
   "id": "4965e695",
   "metadata": {},
   "outputs": [
    {
     "data": {
      "text/plain": [
       "[<matplotlib.lines.Line2D at 0x188de402880>]"
      ]
     },
     "execution_count": 30,
     "metadata": {},
     "output_type": "execute_result"
    },
    {
     "data": {
      "image/png": "[encoded data removed]",
      "text/plain": [
       "<Figure size 432x288 with 1 Axes>"
      ]
     },
     "metadata": {
      "needs_background": "light"
     },
     "output_type": "display_data"
    }
   ],
   "source": [
    "plt.plot(x1,np.cos(x1),color='g',marker='D',markersize=10,markerfacecolor='m')"
   ]
  },
  {
   "cell_type": "code",
   "execution_count": null,
   "id": "26c82771",
   "metadata": {},
   "outputs": [],
   "source": []
  }
 ],
 "metadata": {
  "kernelspec": {
   "display_name": "Python 3 (ipykernel)",
   "language": "python",
   "name": "python3"
  },
  "language_info": {
   "codemirror_mode": {
    "name": "ipython",
    "version": 3
   },
   "file_extension": ".py",
   "mimetype": "text/x-python",
   "name": "python",
   "nbconvert_exporter": "python",
   "pygments_lexer": "ipython3",
   "version": "3.9.12"
  }
 },
 "nbformat": 4,
 "nbformat_minor": 5
}
